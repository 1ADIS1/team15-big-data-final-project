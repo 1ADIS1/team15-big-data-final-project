{
 "cells": [
  {
   "cell_type": "markdown",
   "id": "1760a5df-6ac9-470b-8395-26695aa42a57",
   "metadata": {},
   "source": [
    "# Predictive Data Analytics\n",
    "\n",
    "In this notebook we will build an ML model and evaluate results"
   ]
  },
  {
   "cell_type": "code",
   "execution_count": 10,
   "id": "721b71be-d97f-45d5-ae5f-58d656de407a",
   "metadata": {},
   "outputs": [],
   "source": [
    "from pyspark.sql import SparkSession\n",
    "\n",
    "# Add here your team number teamx\n",
    "team = \"team15\"\n",
    "\n",
    "# location of your Hive database in HDFS\n",
    "warehouse = \"project/hive/warehouse\"\n",
    "\n",
    "spark = SparkSession.builder\\\n",
    "        .appName(\"{} - spark ML\".format(team))\\\n",
    "        .config(\"hive.metastore.uris\", \"thrift://hadoop-02.uni.innopolis.ru:9883\")\\\n",
    "        .config(\"spark.sql.warehouse.dir\", warehouse)\\\n",
    "        .config(\"spark.sql.avro.compression.codec\", \"snappy\")\\\n",
    "        .enableHiveSupport()\\\n",
    "        .getOrCreate()\n",
    "\n",
    "#We can also add\n",
    "# .config(\"spark.sql.catalogImplementation\",\"hive\")\\ \n",
    "# But this is the default configuration\n",
    "# You can switch to Spark Catalog by setting \"in-memory\" for \"spark.sql.catalogImplementation\"\n"
   ]
  },
  {
   "cell_type": "code",
   "execution_count": 21,
   "id": "1175add5-4351-4edc-b0c4-601cc1aeff2b",
   "metadata": {},
   "outputs": [
    {
     "name": "stdout",
     "output_type": "stream",
     "text": [
      "+--------------------+\n",
      "|           namespace|\n",
      "+--------------------+\n",
      "|             default|\n",
      "|             root_db|\n",
      "|     team0_projectdb|\n",
      "|team12_hive_proje...|\n",
      "|    team13_projectdb|\n",
      "|    team14_projectdb|\n",
      "|    team15_projectdb|\n",
      "|    team16_projectdb|\n",
      "|    team18_projectdb|\n",
      "|    team19_projectdb|\n",
      "|     team1_projectdb|\n",
      "|    team20_projectdb|\n",
      "|    team21_projectdb|\n",
      "|    team23_projectdb|\n",
      "|    team25_projectdb|\n",
      "|    team26_projectdb|\n",
      "|    team28_projectdb|\n",
      "|     team2_projectdb|\n",
      "|    team30_projectdb|\n",
      "|     team7_projectdb|\n",
      "+--------------------+\n",
      "only showing top 20 rows\n",
      "\n"
     ]
    }
   ],
   "source": [
    "spark.sql(\"SHOW DATABASES\").show()"
   ]
  },
  {
   "cell_type": "code",
   "execution_count": 22,
   "id": "53c2079c-c49b-4d4a-856d-366f7e5d1c13",
   "metadata": {},
   "outputs": [
    {
     "name": "stdout",
     "output_type": "stream",
     "text": [
      "++\n",
      "||\n",
      "++\n",
      "++\n",
      "\n"
     ]
    }
   ],
   "source": [
    "spark.sql(\"USE team15_projectdb\").show()"
   ]
  },
  {
   "cell_type": "code",
   "execution_count": 23,
   "id": "02353e12-6ddc-4bec-adaa-48df2a4c6db5",
   "metadata": {},
   "outputs": [
    {
     "name": "stdout",
     "output_type": "stream",
     "text": [
      "+----------------+--------------------+-----------+\n",
      "|       namespace|           tableName|isTemporary|\n",
      "+----------------+--------------------+-----------+\n",
      "|team15_projectdb|     car_description|      false|\n",
      "|team15_projectdb|car_vehicles_ext_...|      false|\n",
      "|team15_projectdb|          q1_results|      false|\n",
      "+----------------+--------------------+-----------+\n",
      "\n"
     ]
    }
   ],
   "source": [
    "spark.sql(\"SHOW TABLES\").show()"
   ]
  },
  {
   "cell_type": "code",
   "execution_count": 24,
   "id": "81aa02cb-9c85-4dba-bb55-2fe6e599e12e",
   "metadata": {},
   "outputs": [
    {
     "name": "stdout",
     "output_type": "stream",
     "text": [
      "+----------+--------------------+-----+-----------------+------------+--------------------+-------------+-----------+------+--------+------------+---------+-----------+-----------+-----------+------------------+------------------+--------+\n",
      "|  entry_id|          region_url|price|manufactured_year|manufacturer|               model|car_condition|  cylinders|  fuel|odometer|transmission|car_drive|   car_size|   car_type|paint_color|          latitude|         longitude|us_state|\n",
      "+----------+--------------------+-----+-----------------+------------+--------------------+-------------+-----------+------+--------+------------+---------+-----------+-----------+-----------+------------------+------------------+--------+\n",
      "|7314059073|stlouis.craigslis...| 2000|             2010|      toyota|               prius|         good|4 cylinders|hybrid|  278000|   automatic|      fwd|sub-compact|  hatchback|       blue| 39.93219757080078|-91.41007995605469|      mo|\n",
      "|7301939553|stjoseph.craigsli...| 1000|             2003|    chrysler|town & country li...|         fair|6 cylinders|   gas|  264000|   automatic|      rwd|  full-size|   mini-van|     custom| 40.06613540649414|-93.53622436523438|      mo|\n",
      "|7302055505|stjoseph.craigsli...|19390|             2013|         ram|                1500|         good|8 cylinders|   gas|  129705|   automatic|      rwd|  full-size|      truck|      white|39.234920501708984|-94.57671356201172|      mo|\n",
      "|7303914756|stjoseph.craigsli...|16990|             2010|    cadillac|        escalade esv|         good|8 cylinders|   gas|  157280|   automatic|      4wd|  full-size|        SUV|     silver|39.234920501708984|-94.57671356201172|      mo|\n",
      "|7304288420|stjoseph.craigsli...|    0|             2007|      saturn|                 ion|    excellent|4 cylinders|   gas|  101326|   automatic|      fwd|    compact|      sedan|     yellow|39.754661560058594|-94.80377197265625|      mo|\n",
      "|7304646652|stjoseph.craigsli...|    0|             2011|         gmc|              acadia|    excellent|6 cylinders|   gas|  149283|   automatic|      4wd|  full-size|        SUV|        red|39.754661560058594|-94.80377197265625|      mo|\n",
      "|7306276036|stjoseph.craigsli...|14900|             2007|   chevrolet|      silverado 1500|    excellent|8 cylinders|   gas|  146000|   automatic|      4wd|  full-size|      truck|        red|36.695499420166016|-93.11499786376953|      mo|\n",
      "|7307316494|stjoseph.craigsli...|    0|             2008|        ford|                edge|    excellent|6 cylinders|   gas|  153642|   automatic|      fwd|   mid-size|        SUV|      black|39.754661560058594|-94.80377197265625|      mo|\n",
      "|7310644746|stjoseph.craigsli...|31990|             2016|         ram|                1500|         good|8 cylinders|   gas|  105206|   automatic|      4wd|  full-size|      truck|      black|39.234920501708984|-94.57671356201172|      mo|\n",
      "|7311842174|stjoseph.craigsli...|    0|             2016|   chevrolet|               tahoe|    excellent|8 cylinders|   gas|  119752|   automatic|      4wd|  full-size|        SUV|        red|39.754661560058594|-94.80377197265625|      mo|\n",
      "|7314631944|stjoseph.craigsli...| 7500|             2002|         ram|                1500|         good|8 cylinders|   gas|  130000|   automatic|      4wd|  full-size|      truck|       blue| 39.78030014038086|-94.10240173339844|      mo|\n",
      "|7314775824|stjoseph.craigsli...|32500|             2015|        ford|               f-550|         good|8 cylinders|diesel|  138000|   automatic|      4wd|  full-size|      truck|      white|  39.7823486328125| -95.0030746459961|      mo|\n",
      "|7303610476|springfield.craig...|17997|             2016|        ford|               f-150|    excellent|6 cylinders|   gas|   77193|   automatic|      rwd|  full-size|      truck|      black|37.063636779785156|-93.55713653564453|      mo|\n",
      "|7304167244|springfield.craig...|12350|             2009|   chevrolet|               tahoe|    excellent|8 cylinders|   gas|  179000|   automatic|      4wd|  full-size|        SUV|      white| 37.00348663330078|-93.19918823242188|      mo|\n",
      "|7304222710|springfield.craig...| 9500|             2007|        ford|          sport trac|    excellent|6 cylinders|   gas|  184000|   automatic|      4wd|   mid-size|      truck|      white| 36.61069869995117|-93.22859954833984|      mo|\n",
      "|7306779098|springfield.craig...|24800|             2017|    infiniti|                qx60|         good|6 cylinders|   gas|   82123|   automatic|      4wd|  full-size|        SUV|      black| 36.64483642578125|-93.21800994873047|      mo|\n",
      "|7306986693|springfield.craig...| 3500|             1989|        ford|                f350|         fair|8 cylinders|diesel|   70000|      manual|      4wd|  full-size|      truck|      white|  36.3223991394043|-93.40589904785156|      mo|\n",
      "|7307208542|springfield.craig...|17400|             2000|   chevrolet|            corvette|         good|8 cylinders|   gas|   77927|      manual|      rwd|  full-size|convertible|     yellow| 37.88783264160156|-94.00468444824219|      mo|\n",
      "|7307500575|springfield.craig...| 7499|             2013|      nissan|             rogue s|    excellent|4 cylinders|   gas|  109000|   automatic|      fwd|  full-size|        SUV|       grey| 37.21499252319336|-93.29573059082031|      mo|\n",
      "|7307773309|springfield.craig...|  600|             2007|        ford|               focus|    excellent|4 cylinders|   gas|  166430|   automatic|      fwd|   mid-size|      sedan|       blue|  36.6609992980957|-93.23580169677734|      mo|\n",
      "+----------+--------------------+-----+-----------------+------------+--------------------+-------------+-----------+------+--------+------------+---------+-----------+-----------+-----------+------------------+------------------+--------+\n",
      "only showing top 20 rows\n",
      "\n"
     ]
    }
   ],
   "source": [
    "spark.sql(\"SELECT * FROM team15_projectdb.car_vehicles_ext_part_bucket\").show()"
   ]
  },
  {
   "cell_type": "code",
   "execution_count": 25,
   "id": "adaa41c4-3fd3-4b84-928e-34b46410b8a9",
   "metadata": {},
   "outputs": [
    {
     "name": "stdout",
     "output_type": "stream",
     "text": [
      "Database(name='default', description='Default Hive database', locationUri='hdfs://hadoop-02.uni.innopolis.ru:8020/apps/hive/warehouse')\n",
      "Database(name='root_db', description='', locationUri='hdfs://hadoop-02.uni.innopolis.ru:8020/user/root/root_db')\n",
      "Database(name='team0_projectdb', description='', locationUri='hdfs://hadoop-02.uni.innopolis.ru:8020/user/team0/project/hive/warehouse')\n",
      "Database(name='team12_hive_projectdb', description='', locationUri='hdfs://hadoop-02.uni.innopolis.ru:8020/user/team12/project/hive/warehouse')\n",
      "Database(name='team13_projectdb', description='', locationUri='hdfs://hadoop-02.uni.innopolis.ru:8020/user/team13/project/hive/warehouse')\n",
      "Database(name='team14_projectdb', description='', locationUri='hdfs://hadoop-02.uni.innopolis.ru:8020/user/team14/project/hive/warehouse')\n",
      "Database(name='team15_projectdb', description='', locationUri='hdfs://hadoop-02.uni.innopolis.ru:8020/user/team15/project/hive/warehouse')\n",
      "Database(name='team16_projectdb', description='', locationUri='hdfs://hadoop-02.uni.innopolis.ru:8020/user/team16/project/hive/warehouse')\n",
      "Database(name='team18_projectdb', description='', locationUri='hdfs://hadoop-02.uni.innopolis.ru:8020/user/team18/project/hive/warehouse')\n",
      "Database(name='team19_projectdb', description='', locationUri='hdfs://hadoop-02.uni.innopolis.ru:8020/user/team19/project/hive/warehouse')\n",
      "Database(name='team1_projectdb', description='', locationUri='hdfs://hadoop-02.uni.innopolis.ru:8020/user/team1/project/hive/warehouse')\n",
      "Database(name='team20_projectdb', description='', locationUri='hdfs://hadoop-02.uni.innopolis.ru:8020/user/team20/project/hive/warehouse')\n",
      "Database(name='team21_projectdb', description='', locationUri='hdfs://hadoop-02.uni.innopolis.ru:8020/user/team21/project/hive/warehouse')\n",
      "Database(name='team23_projectdb', description='', locationUri='hdfs://hadoop-02.uni.innopolis.ru:8020/user/team23/project/hive/warehouse')\n",
      "Database(name='team25_projectdb', description='', locationUri='hdfs://hadoop-02.uni.innopolis.ru:8020/user/team25/project/hive/warehouse')\n",
      "Database(name='team26_projectdb', description='', locationUri='hdfs://hadoop-02.uni.innopolis.ru:8020/user/team26/project/hive/warehouse')\n",
      "Database(name='team28_projectdb', description='', locationUri='hdfs://hadoop-02.uni.innopolis.ru:8020/user/team28/project/hive/warehouse')\n",
      "Database(name='team2_projectdb', description='', locationUri='hdfs://hadoop-02.uni.innopolis.ru:8020/user/team2/project/hive/warehouse')\n",
      "Database(name='team30_projectdb', description='', locationUri='hdfs://hadoop-02.uni.innopolis.ru:8020/user/team30/project/hive/warehouse')\n",
      "Database(name='team7_projectdb', description='', locationUri='hdfs://hadoop-02.uni.innopolis.ru:8020/user/team7/project/hive/warehouse')\n",
      "Database(name='team8_projectdb', description='', locationUri='hdfs://hadoop-02.uni.innopolis.ru:8020/user/team8/project/hive/warehouse')\n",
      "Database(name='team9_projectdb', description='', locationUri='hdfs://hadoop-02.uni.innopolis.ru:8020/user/team9/project/hive/warehouse')\n",
      "Database(name='testdb', description='', locationUri='hdfs://hadoop-02.uni.innopolis.ru:8020/apps/hive/warehouse/testdb.db')\n",
      "Database(name='testdb2', description='', locationUri='hdfs://hadoop-02.uni.innopolis.ru:8020/user/team0/project/hive/warehouse2')\n"
     ]
    }
   ],
   "source": [
    "print(*spark.catalog.listDatabases(), sep='\\n')"
   ]
  },
  {
   "cell_type": "code",
   "execution_count": 26,
   "id": "6016eb3a-982b-487f-9e41-0cd9775b2a99",
   "metadata": {},
   "outputs": [
    {
     "name": "stdout",
     "output_type": "stream",
     "text": [
      "ERROR! Session/line number was not unique in database. History logging moved to new session 7\n",
      "Table(name='car_description', database='team15_projectdb', description=None, tableType='EXTERNAL', isTemporary=False)\n",
      "Table(name='car_vehicles_ext_part_bucket', database='team15_projectdb', description=None, tableType='EXTERNAL', isTemporary=False)\n",
      "Table(name='q1_results', database='team15_projectdb', description=None, tableType='EXTERNAL', isTemporary=False)\n"
     ]
    }
   ],
   "source": [
    "print(*spark.catalog.listTables(\"team15_projectdb\"), sep='\\n')"
   ]
  },
  {
   "cell_type": "code",
   "execution_count": null,
   "id": "7d8b95b5-f9bc-4f47-98b9-51a5203fc035",
   "metadata": {},
   "outputs": [],
   "source": []
  },
  {
   "cell_type": "code",
   "execution_count": null,
   "id": "56d3b5a3-1b46-47e2-858a-ac1e4b8333fc",
   "metadata": {},
   "outputs": [],
   "source": []
  },
  {
   "cell_type": "code",
   "execution_count": null,
   "id": "046e84e0-f3a4-4a08-b332-5733ce4b2bbe",
   "metadata": {},
   "outputs": [],
   "source": []
  },
  {
   "cell_type": "code",
   "execution_count": null,
   "id": "a1085539-d6fd-4525-8973-ed03f81ff56b",
   "metadata": {},
   "outputs": [],
   "source": []
  },
  {
   "cell_type": "code",
   "execution_count": null,
   "id": "8f7f3ce0-ce3b-428b-8696-85e3725b8e9d",
   "metadata": {},
   "outputs": [],
   "source": []
  }
 ],
 "metadata": {
  "kernelspec": {
   "display_name": "Python 3",
   "language": "python",
   "name": "python3"
  },
  "language_info": {
   "codemirror_mode": {
    "name": "ipython",
    "version": 3
   },
   "file_extension": ".py",
   "mimetype": "text/x-python",
   "name": "python",
   "nbconvert_exporter": "python",
   "pygments_lexer": "ipython3",
   "version": "3.6.8"
  }
 },
 "nbformat": 4,
 "nbformat_minor": 5
}
