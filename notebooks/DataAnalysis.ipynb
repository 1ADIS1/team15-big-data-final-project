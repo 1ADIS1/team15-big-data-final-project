{
 "cells": [
  {
   "cell_type": "markdown",
   "id": "14715691",
   "metadata": {},
   "source": [
    "# Preliminary data preprocessing & exploration\n",
    "\n",
    "In this notebook we look into the data and check some insides that may be valuable for us. Also we proove some hypothesis regarding data types, values, correlations. In addition, we write our processing functions that further would be used in pipeline as a whole.\n",
    "\n",
    "Data we are working with is taken from kaggle, so please make sure you downloaded [dataset](https://www.kaggle.com/datasets/austinreese/craigslist-carstrucks-data) and saved it to `data/archive/vehicels.csv` according to current file. If you have other place, make sure to change file path in cell 2."
   ]
  },
  {
   "cell_type": "code",
   "execution_count": 1,
   "id": "72d90dd8",
   "metadata": {},
   "outputs": [],
   "source": [
    "import pandas as pd"
   ]
  },
  {
   "cell_type": "code",
   "execution_count": 2,
   "id": "9ff58ea0",
   "metadata": {},
   "outputs": [
    {
     "data": {
      "text/html": [
       "<div>\n",
       "<style scoped>\n",
       "    .dataframe tbody tr th:only-of-type {\n",
       "        vertical-align: middle;\n",
       "    }\n",
       "\n",
       "    .dataframe tbody tr th {\n",
       "        vertical-align: top;\n",
       "    }\n",
       "\n",
       "    .dataframe thead th {\n",
       "        text-align: right;\n",
       "    }\n",
       "</style>\n",
       "<table border=\"1\" class=\"dataframe\">\n",
       "  <thead>\n",
       "    <tr style=\"text-align: right;\">\n",
       "      <th></th>\n",
       "      <th>id</th>\n",
       "      <th>url</th>\n",
       "      <th>region</th>\n",
       "      <th>region_url</th>\n",
       "      <th>price</th>\n",
       "      <th>year</th>\n",
       "      <th>manufacturer</th>\n",
       "      <th>model</th>\n",
       "      <th>condition</th>\n",
       "      <th>cylinders</th>\n",
       "      <th>...</th>\n",
       "      <th>size</th>\n",
       "      <th>type</th>\n",
       "      <th>paint_color</th>\n",
       "      <th>image_url</th>\n",
       "      <th>description</th>\n",
       "      <th>county</th>\n",
       "      <th>state</th>\n",
       "      <th>lat</th>\n",
       "      <th>long</th>\n",
       "      <th>posting_date</th>\n",
       "    </tr>\n",
       "  </thead>\n",
       "  <tbody>\n",
       "    <tr>\n",
       "      <th>0</th>\n",
       "      <td>7222695916</td>\n",
       "      <td>https://prescott.craigslist.org/cto/d/prescott...</td>\n",
       "      <td>prescott</td>\n",
       "      <td>https://prescott.craigslist.org</td>\n",
       "      <td>6000</td>\n",
       "      <td>NaN</td>\n",
       "      <td>NaN</td>\n",
       "      <td>NaN</td>\n",
       "      <td>NaN</td>\n",
       "      <td>NaN</td>\n",
       "      <td>...</td>\n",
       "      <td>NaN</td>\n",
       "      <td>NaN</td>\n",
       "      <td>NaN</td>\n",
       "      <td>NaN</td>\n",
       "      <td>NaN</td>\n",
       "      <td>NaN</td>\n",
       "      <td>az</td>\n",
       "      <td>NaN</td>\n",
       "      <td>NaN</td>\n",
       "      <td>NaN</td>\n",
       "    </tr>\n",
       "    <tr>\n",
       "      <th>1</th>\n",
       "      <td>7218891961</td>\n",
       "      <td>https://fayar.craigslist.org/ctd/d/bentonville...</td>\n",
       "      <td>fayetteville</td>\n",
       "      <td>https://fayar.craigslist.org</td>\n",
       "      <td>11900</td>\n",
       "      <td>NaN</td>\n",
       "      <td>NaN</td>\n",
       "      <td>NaN</td>\n",
       "      <td>NaN</td>\n",
       "      <td>NaN</td>\n",
       "      <td>...</td>\n",
       "      <td>NaN</td>\n",
       "      <td>NaN</td>\n",
       "      <td>NaN</td>\n",
       "      <td>NaN</td>\n",
       "      <td>NaN</td>\n",
       "      <td>NaN</td>\n",
       "      <td>ar</td>\n",
       "      <td>NaN</td>\n",
       "      <td>NaN</td>\n",
       "      <td>NaN</td>\n",
       "    </tr>\n",
       "    <tr>\n",
       "      <th>2</th>\n",
       "      <td>7221797935</td>\n",
       "      <td>https://keys.craigslist.org/cto/d/summerland-k...</td>\n",
       "      <td>florida keys</td>\n",
       "      <td>https://keys.craigslist.org</td>\n",
       "      <td>21000</td>\n",
       "      <td>NaN</td>\n",
       "      <td>NaN</td>\n",
       "      <td>NaN</td>\n",
       "      <td>NaN</td>\n",
       "      <td>NaN</td>\n",
       "      <td>...</td>\n",
       "      <td>NaN</td>\n",
       "      <td>NaN</td>\n",
       "      <td>NaN</td>\n",
       "      <td>NaN</td>\n",
       "      <td>NaN</td>\n",
       "      <td>NaN</td>\n",
       "      <td>fl</td>\n",
       "      <td>NaN</td>\n",
       "      <td>NaN</td>\n",
       "      <td>NaN</td>\n",
       "    </tr>\n",
       "    <tr>\n",
       "      <th>3</th>\n",
       "      <td>7222270760</td>\n",
       "      <td>https://worcester.craigslist.org/cto/d/west-br...</td>\n",
       "      <td>worcester / central MA</td>\n",
       "      <td>https://worcester.craigslist.org</td>\n",
       "      <td>1500</td>\n",
       "      <td>NaN</td>\n",
       "      <td>NaN</td>\n",
       "      <td>NaN</td>\n",
       "      <td>NaN</td>\n",
       "      <td>NaN</td>\n",
       "      <td>...</td>\n",
       "      <td>NaN</td>\n",
       "      <td>NaN</td>\n",
       "      <td>NaN</td>\n",
       "      <td>NaN</td>\n",
       "      <td>NaN</td>\n",
       "      <td>NaN</td>\n",
       "      <td>ma</td>\n",
       "      <td>NaN</td>\n",
       "      <td>NaN</td>\n",
       "      <td>NaN</td>\n",
       "    </tr>\n",
       "    <tr>\n",
       "      <th>4</th>\n",
       "      <td>7210384030</td>\n",
       "      <td>https://greensboro.craigslist.org/cto/d/trinit...</td>\n",
       "      <td>greensboro</td>\n",
       "      <td>https://greensboro.craigslist.org</td>\n",
       "      <td>4900</td>\n",
       "      <td>NaN</td>\n",
       "      <td>NaN</td>\n",
       "      <td>NaN</td>\n",
       "      <td>NaN</td>\n",
       "      <td>NaN</td>\n",
       "      <td>...</td>\n",
       "      <td>NaN</td>\n",
       "      <td>NaN</td>\n",
       "      <td>NaN</td>\n",
       "      <td>NaN</td>\n",
       "      <td>NaN</td>\n",
       "      <td>NaN</td>\n",
       "      <td>nc</td>\n",
       "      <td>NaN</td>\n",
       "      <td>NaN</td>\n",
       "      <td>NaN</td>\n",
       "    </tr>\n",
       "  </tbody>\n",
       "</table>\n",
       "<p>5 rows × 26 columns</p>\n",
       "</div>"
      ],
      "text/plain": [
       "           id                                                url  \\\n",
       "0  7222695916  https://prescott.craigslist.org/cto/d/prescott...   \n",
       "1  7218891961  https://fayar.craigslist.org/ctd/d/bentonville...   \n",
       "2  7221797935  https://keys.craigslist.org/cto/d/summerland-k...   \n",
       "3  7222270760  https://worcester.craigslist.org/cto/d/west-br...   \n",
       "4  7210384030  https://greensboro.craigslist.org/cto/d/trinit...   \n",
       "\n",
       "                   region                         region_url  price  year  \\\n",
       "0                prescott    https://prescott.craigslist.org   6000   NaN   \n",
       "1            fayetteville       https://fayar.craigslist.org  11900   NaN   \n",
       "2            florida keys        https://keys.craigslist.org  21000   NaN   \n",
       "3  worcester / central MA   https://worcester.craigslist.org   1500   NaN   \n",
       "4              greensboro  https://greensboro.craigslist.org   4900   NaN   \n",
       "\n",
       "  manufacturer model condition cylinders  ... size  type paint_color  \\\n",
       "0          NaN   NaN       NaN       NaN  ...  NaN   NaN         NaN   \n",
       "1          NaN   NaN       NaN       NaN  ...  NaN   NaN         NaN   \n",
       "2          NaN   NaN       NaN       NaN  ...  NaN   NaN         NaN   \n",
       "3          NaN   NaN       NaN       NaN  ...  NaN   NaN         NaN   \n",
       "4          NaN   NaN       NaN       NaN  ...  NaN   NaN         NaN   \n",
       "\n",
       "  image_url description county state lat long posting_date  \n",
       "0       NaN         NaN    NaN    az NaN  NaN          NaN  \n",
       "1       NaN         NaN    NaN    ar NaN  NaN          NaN  \n",
       "2       NaN         NaN    NaN    fl NaN  NaN          NaN  \n",
       "3       NaN         NaN    NaN    ma NaN  NaN          NaN  \n",
       "4       NaN         NaN    NaN    nc NaN  NaN          NaN  \n",
       "\n",
       "[5 rows x 26 columns]"
      ]
     },
     "execution_count": 2,
     "metadata": {},
     "output_type": "execute_result"
    }
   ],
   "source": [
    "# read data from dataset\n",
    "# https://www.kaggle.com/datasets/austinreese/craigslist-carstrucks-data\n",
    "\n",
    "df = pd.read_csv('data/archive/vehicles.csv')\n",
    "df.head()"
   ]
  },
  {
   "cell_type": "code",
   "execution_count": 3,
   "id": "e116f999",
   "metadata": {},
   "outputs": [
    {
     "data": {
      "text/plain": [
       "id                0.000000\n",
       "url               0.000000\n",
       "region            0.000000\n",
       "region_url        0.000000\n",
       "price             0.000000\n",
       "year              0.282281\n",
       "manufacturer      4.133714\n",
       "model             1.236179\n",
       "condition        40.785232\n",
       "cylinders        41.622470\n",
       "fuel              0.705819\n",
       "odometer          1.030735\n",
       "title_status      1.930753\n",
       "transmission      0.598763\n",
       "VIN              37.725356\n",
       "drive            30.586347\n",
       "size             71.767476\n",
       "type             21.752717\n",
       "paint_color      30.501078\n",
       "image_url         0.015930\n",
       "description       0.016398\n",
       "county          100.000000\n",
       "state             0.000000\n",
       "lat               1.534155\n",
       "long              1.534155\n",
       "posting_date      0.015930\n",
       "dtype: float64"
      ]
     },
     "execution_count": 3,
     "metadata": {},
     "output_type": "execute_result"
    }
   ],
   "source": [
    "# percentage of null values\n",
    "df.isna().sum() / df.shape[0] * 100"
   ]
  },
  {
   "cell_type": "markdown",
   "id": "1df966ff",
   "metadata": {},
   "source": [
    "## Region vs Region_url "
   ]
  },
  {
   "cell_type": "code",
   "execution_count": 6,
   "id": "d03b1794",
   "metadata": {},
   "outputs": [],
   "source": [
    "view = df.groupby(['region', 'region_url'])['id']"
   ]
  },
  {
   "cell_type": "code",
   "execution_count": 7,
   "id": "3022a384",
   "metadata": {},
   "outputs": [
    {
     "data": {
      "text/plain": [
       "region                  region_url                        \n",
       "SF bay area             https://sfbay.craigslist.org          2936\n",
       "abilene                 https://abilene.craigslist.org         235\n",
       "akron / canton          https://akroncanton.craigslist.org    2211\n",
       "albany                  https://albany.craigslist.org         2312\n",
       "                        https://albanyga.craigslist.org        225\n",
       "                                                              ... \n",
       "york                    https://york.craigslist.org            777\n",
       "youngstown              https://youngstown.craigslist.org      664\n",
       "yuba-sutter             https://yubasutter.craigslist.org     1747\n",
       "yuma                    https://yuma.craigslist.org            335\n",
       "zanesville / cambridge  https://zanesville.craigslist.org      313\n",
       "Name: id, Length: 416, dtype: int64"
      ]
     },
     "execution_count": 7,
     "metadata": {},
     "output_type": "execute_result"
    }
   ],
   "source": [
    "view.nunique()"
   ]
  },
  {
   "cell_type": "markdown",
   "id": "ac346832",
   "metadata": {},
   "source": [
    "We can see from the above that albany region have different cities, indicating region_url could bring a bit more information than just region itself. Though, it would result in poorer interpretabillity, so for that reason we would transform links to more human-friendly (delete https and craigslist.org)"
   ]
  },
  {
   "cell_type": "code",
   "execution_count": 45,
   "id": "cc289f4d",
   "metadata": {},
   "outputs": [],
   "source": [
    "# prove all links follow format `https://<REGION-CODE>.craigslist.org`\n",
    "for line in df['region_url'].unique():\n",
    "    if not line.startswith('https://') or not line.endswith('.craigslist.org'):\n",
    "        print(line)"
   ]
  },
  {
   "cell_type": "code",
   "execution_count": 46,
   "id": "aa2fdd5a",
   "metadata": {},
   "outputs": [],
   "source": [
    "def normalize_region_url(data: pd.DataFrame) -> pd.DataFrame:\n",
    "    if 'region_url' not in data.columns:\n",
    "        return data\n",
    "    \n",
    "    from_link = lambda l: l.strip()[8:-15]  # TODO: swap to regex or more robust way\n",
    "    data['region_url'] = data['region_url'].apply(from_link)\n",
    "    return data"
   ]
  },
  {
   "cell_type": "markdown",
   "id": "ffa4bfab",
   "metadata": {},
   "source": [
    "### Check how `VIN` correlates with `id`\n",
    "\n",
    "First of all, it is worth mention that `id` corresponds to advertisement, and `VIN` (ideally) should be unique identifier of a car. However it is possible for same `VIN` to be present several the dataset as car may be sold twice or even more times during the time this data was collected. So we want to check it."
   ]
  },
  {
   "cell_type": "code",
   "execution_count": 47,
   "id": "4a4bee75",
   "metadata": {},
   "outputs": [],
   "source": [
    "view_vin = df.groupby('VIN')['id']"
   ]
  },
  {
   "cell_type": "code",
   "execution_count": 52,
   "id": "3ca4423d",
   "metadata": {},
   "outputs": [
    {
     "data": {
      "text/plain": [
       "27.70450712143928"
      ]
     },
     "execution_count": 52,
     "metadata": {},
     "output_type": "execute_result"
    }
   ],
   "source": [
    "# Percentage of unique VIN's\n",
    "len(df['VIN'].unique()) / df.shape[0] * 100"
   ]
  },
  {
   "cell_type": "code",
   "execution_count": 54,
   "id": "8cd72bd6",
   "metadata": {},
   "outputs": [
    {
     "data": {
      "text/html": [
       "<div>\n",
       "<style scoped>\n",
       "    .dataframe tbody tr th:only-of-type {\n",
       "        vertical-align: middle;\n",
       "    }\n",
       "\n",
       "    .dataframe tbody tr th {\n",
       "        vertical-align: top;\n",
       "    }\n",
       "\n",
       "    .dataframe thead th {\n",
       "        text-align: right;\n",
       "    }\n",
       "</style>\n",
       "<table border=\"1\" class=\"dataframe\">\n",
       "  <thead>\n",
       "    <tr style=\"text-align: right;\">\n",
       "      <th></th>\n",
       "      <th>id</th>\n",
       "      <th>url</th>\n",
       "      <th>region</th>\n",
       "      <th>region_url</th>\n",
       "      <th>price</th>\n",
       "      <th>year</th>\n",
       "      <th>manufacturer</th>\n",
       "      <th>model</th>\n",
       "      <th>condition</th>\n",
       "      <th>cylinders</th>\n",
       "      <th>...</th>\n",
       "      <th>size</th>\n",
       "      <th>type</th>\n",
       "      <th>paint_color</th>\n",
       "      <th>image_url</th>\n",
       "      <th>description</th>\n",
       "      <th>county</th>\n",
       "      <th>state</th>\n",
       "      <th>lat</th>\n",
       "      <th>long</th>\n",
       "      <th>posting_date</th>\n",
       "    </tr>\n",
       "  </thead>\n",
       "  <tbody>\n",
       "    <tr>\n",
       "      <th>9080</th>\n",
       "      <td>7306378728</td>\n",
       "      <td>https://flagstaff.craigslist.org/ctd/d/miami-2...</td>\n",
       "      <td>flagstaff / sedona</td>\n",
       "      <td>https://flagstaff.craigslist.org</td>\n",
       "      <td>229500</td>\n",
       "      <td>2019.0</td>\n",
       "      <td>NaN</td>\n",
       "      <td>Lamborghini Urus</td>\n",
       "      <td>NaN</td>\n",
       "      <td>8 cylinders</td>\n",
       "      <td>...</td>\n",
       "      <td>compact</td>\n",
       "      <td>SUV</td>\n",
       "      <td>white</td>\n",
       "      <td>https://images.craigslist.org/00h0h_eYxCtZ0aXt...</td>\n",
       "      <td>Elite Motor Cars of MiamiAsk for: Sales☎ (786)...</td>\n",
       "      <td>NaN</td>\n",
       "      <td>az</td>\n",
       "      <td>25.827103</td>\n",
       "      <td>-80.24152</td>\n",
       "      <td>2021-04-13T14:09:46-0700</td>\n",
       "    </tr>\n",
       "    <tr>\n",
       "      <th>415796</th>\n",
       "      <td>7306494891</td>\n",
       "      <td>https://appleton.craigslist.org/ctd/d/miami-20...</td>\n",
       "      <td>appleton-oshkosh-FDL</td>\n",
       "      <td>https://appleton.craigslist.org</td>\n",
       "      <td>229500</td>\n",
       "      <td>2019.0</td>\n",
       "      <td>NaN</td>\n",
       "      <td>Lamborghini Urus</td>\n",
       "      <td>NaN</td>\n",
       "      <td>8 cylinders</td>\n",
       "      <td>...</td>\n",
       "      <td>compact</td>\n",
       "      <td>SUV</td>\n",
       "      <td>white</td>\n",
       "      <td>https://images.craigslist.org/00h0h_eYxCtZ0aXt...</td>\n",
       "      <td>Elite Motor Cars of MiamiAsk for: Sales☎ (786)...</td>\n",
       "      <td>NaN</td>\n",
       "      <td>wi</td>\n",
       "      <td>25.827103</td>\n",
       "      <td>-80.24152</td>\n",
       "      <td>2021-04-13T20:43:00-0500</td>\n",
       "    </tr>\n",
       "  </tbody>\n",
       "</table>\n",
       "<p>2 rows × 26 columns</p>\n",
       "</div>"
      ],
      "text/plain": [
       "                id                                                url  \\\n",
       "9080    7306378728  https://flagstaff.craigslist.org/ctd/d/miami-2...   \n",
       "415796  7306494891  https://appleton.craigslist.org/ctd/d/miami-20...   \n",
       "\n",
       "                      region                        region_url   price  \\\n",
       "9080      flagstaff / sedona  https://flagstaff.craigslist.org  229500   \n",
       "415796  appleton-oshkosh-FDL   https://appleton.craigslist.org  229500   \n",
       "\n",
       "          year manufacturer             model condition    cylinders  ...  \\\n",
       "9080    2019.0          NaN  Lamborghini Urus       NaN  8 cylinders  ...   \n",
       "415796  2019.0          NaN  Lamborghini Urus       NaN  8 cylinders  ...   \n",
       "\n",
       "           size  type paint_color  \\\n",
       "9080    compact   SUV       white   \n",
       "415796  compact   SUV       white   \n",
       "\n",
       "                                                image_url  \\\n",
       "9080    https://images.craigslist.org/00h0h_eYxCtZ0aXt...   \n",
       "415796  https://images.craigslist.org/00h0h_eYxCtZ0aXt...   \n",
       "\n",
       "                                              description county state  \\\n",
       "9080    Elite Motor Cars of MiamiAsk for: Sales☎ (786)...    NaN    az   \n",
       "415796  Elite Motor Cars of MiamiAsk for: Sales☎ (786)...    NaN    wi   \n",
       "\n",
       "              lat      long              posting_date  \n",
       "9080    25.827103 -80.24152  2021-04-13T14:09:46-0700  \n",
       "415796  25.827103 -80.24152  2021-04-13T20:43:00-0500  \n",
       "\n",
       "[2 rows x 26 columns]"
      ]
     },
     "execution_count": 54,
     "metadata": {},
     "output_type": "execute_result"
    }
   ],
   "source": [
    "# some examples of several adverticement for same `VIN` number\n",
    "df[df['VIN'] == 'ZPBUA1ZL1KLA02237']"
   ]
  },
  {
   "cell_type": "markdown",
   "id": "c2a63539",
   "metadata": {},
   "source": [
    "### Check whether advertisements with same `VIN` have same technical parametes\n",
    "\n",
    "In this case we will look into `cylinders` column as we supposed it to be consistent with `VIN`."
   ]
  },
  {
   "cell_type": "code",
   "execution_count": 55,
   "id": "bf0aa331",
   "metadata": {},
   "outputs": [],
   "source": [
    "view_trans = df.groupby('VIN')['cylinders']"
   ]
  },
  {
   "cell_type": "code",
   "execution_count": 56,
   "id": "888608b9",
   "metadata": {},
   "outputs": [
    {
     "name": "stdout",
     "output_type": "stream",
     "text": [
      "19UUA66267A021807\n"
     ]
    }
   ],
   "source": [
    "import numpy as np\n",
    "\n",
    "for vin, cylinders in view_trans:\n",
    "    \n",
    "    has_digit = False\n",
    "    has_letter = False\n",
    "    \n",
    "    for ch in vin:\n",
    "        has_digit = ch.isdigit() or has_digit\n",
    "        has_letter = ch.isalpha() or has_letter\n",
    "    \n",
    "    if has_digit and has_letter and len(set(cylinders) - {np.nan}) > 1:\n",
    "        print(vin)\n",
    "        break"
   ]
  },
  {
   "cell_type": "code",
   "execution_count": 58,
   "id": "4f96a03c",
   "metadata": {},
   "outputs": [
    {
     "data": {
      "text/html": [
       "<div>\n",
       "<style scoped>\n",
       "    .dataframe tbody tr th:only-of-type {\n",
       "        vertical-align: middle;\n",
       "    }\n",
       "\n",
       "    .dataframe tbody tr th {\n",
       "        vertical-align: top;\n",
       "    }\n",
       "\n",
       "    .dataframe thead th {\n",
       "        text-align: right;\n",
       "    }\n",
       "</style>\n",
       "<table border=\"1\" class=\"dataframe\">\n",
       "  <thead>\n",
       "    <tr style=\"text-align: right;\">\n",
       "      <th></th>\n",
       "      <th>id</th>\n",
       "      <th>url</th>\n",
       "      <th>region</th>\n",
       "      <th>region_url</th>\n",
       "      <th>price</th>\n",
       "      <th>year</th>\n",
       "      <th>manufacturer</th>\n",
       "      <th>model</th>\n",
       "      <th>condition</th>\n",
       "      <th>cylinders</th>\n",
       "      <th>...</th>\n",
       "      <th>size</th>\n",
       "      <th>type</th>\n",
       "      <th>paint_color</th>\n",
       "      <th>image_url</th>\n",
       "      <th>description</th>\n",
       "      <th>county</th>\n",
       "      <th>state</th>\n",
       "      <th>lat</th>\n",
       "      <th>long</th>\n",
       "      <th>posting_date</th>\n",
       "    </tr>\n",
       "  </thead>\n",
       "  <tbody>\n",
       "    <tr>\n",
       "      <th>116766</th>\n",
       "      <td>7316401351</td>\n",
       "      <td>https://tampa.craigslist.org/hil/ctd/d/tampa-2...</td>\n",
       "      <td>tampa bay area</td>\n",
       "      <td>https://tampa.craigslist.org</td>\n",
       "      <td>5495</td>\n",
       "      <td>2008.0</td>\n",
       "      <td>toyota</td>\n",
       "      <td>camry</td>\n",
       "      <td>excellent</td>\n",
       "      <td>4 cylinders</td>\n",
       "      <td>...</td>\n",
       "      <td>mid-size</td>\n",
       "      <td>sedan</td>\n",
       "      <td>custom</td>\n",
       "      <td>https://images.craigslist.org/01212_fQan0irH9q...</td>\n",
       "      <td>$1500 DOWN!!    2008 TOYOTA CAMARY  CE  $1500....</td>\n",
       "      <td>NaN</td>\n",
       "      <td>fl</td>\n",
       "      <td>27.965972</td>\n",
       "      <td>-82.385063</td>\n",
       "      <td>2021-05-03T16:15:31-0400</td>\n",
       "    </tr>\n",
       "    <tr>\n",
       "      <th>116936</th>\n",
       "      <td>7316182527</td>\n",
       "      <td>https://tampa.craigslist.org/hil/ctd/d/tampa-2...</td>\n",
       "      <td>tampa bay area</td>\n",
       "      <td>https://tampa.craigslist.org</td>\n",
       "      <td>12995</td>\n",
       "      <td>2014.0</td>\n",
       "      <td>ford</td>\n",
       "      <td>f150</td>\n",
       "      <td>excellent</td>\n",
       "      <td>8 cylinders</td>\n",
       "      <td>...</td>\n",
       "      <td>full-size</td>\n",
       "      <td>truck</td>\n",
       "      <td>white</td>\n",
       "      <td>https://images.craigslist.org/00V0V_5A4QbSlT2t...</td>\n",
       "      <td>CASH SPECIAL $12995.00 !!    2014 FORD F150 XL...</td>\n",
       "      <td>NaN</td>\n",
       "      <td>fl</td>\n",
       "      <td>27.965972</td>\n",
       "      <td>-82.385063</td>\n",
       "      <td>2021-05-03T10:32:23-0400</td>\n",
       "    </tr>\n",
       "  </tbody>\n",
       "</table>\n",
       "<p>2 rows × 26 columns</p>\n",
       "</div>"
      ],
      "text/plain": [
       "                id                                                url  \\\n",
       "116766  7316401351  https://tampa.craigslist.org/hil/ctd/d/tampa-2...   \n",
       "116936  7316182527  https://tampa.craigslist.org/hil/ctd/d/tampa-2...   \n",
       "\n",
       "                region                    region_url  price    year  \\\n",
       "116766  tampa bay area  https://tampa.craigslist.org   5495  2008.0   \n",
       "116936  tampa bay area  https://tampa.craigslist.org  12995  2014.0   \n",
       "\n",
       "       manufacturer  model  condition    cylinders  ...       size   type  \\\n",
       "116766       toyota  camry  excellent  4 cylinders  ...   mid-size  sedan   \n",
       "116936         ford   f150  excellent  8 cylinders  ...  full-size  truck   \n",
       "\n",
       "       paint_color                                          image_url  \\\n",
       "116766      custom  https://images.craigslist.org/01212_fQan0irH9q...   \n",
       "116936       white  https://images.craigslist.org/00V0V_5A4QbSlT2t...   \n",
       "\n",
       "                                              description county state  \\\n",
       "116766  $1500 DOWN!!    2008 TOYOTA CAMARY  CE  $1500....    NaN    fl   \n",
       "116936  CASH SPECIAL $12995.00 !!    2014 FORD F150 XL...    NaN    fl   \n",
       "\n",
       "              lat       long              posting_date  \n",
       "116766  27.965972 -82.385063  2021-05-03T16:15:31-0400  \n",
       "116936  27.965972 -82.385063  2021-05-03T10:32:23-0400  \n",
       "\n",
       "[2 rows x 26 columns]"
      ]
     },
     "execution_count": 58,
     "metadata": {},
     "output_type": "execute_result"
    }
   ],
   "source": [
    "# completely different cars has the same `VIN`!!!! 🤯🤯🤯\n",
    "df[df['VIN'] == '19UUA66267A021807']"
   ]
  },
  {
   "cell_type": "code",
   "execution_count": 109,
   "id": "4c12733c",
   "metadata": {},
   "outputs": [
    {
     "data": {
      "application/vnd.plotly.v1+json": {
       "config": {
        "plotlyServerURL": "https://plot.ly"
       },
       "data": [
        {
         "domain": {
          "x": [
           0,
           0.2888888888888889
          ],
          "y": [
           0.7333333333333333,
           1
          ]
         },
         "labels": [
          null,
          "good",
          "excellent",
          "like new",
          "fair",
          "new",
          "salvage"
         ],
         "name": "condition",
         "type": "pie",
         "values": [
          174104,
          121456,
          101467,
          21178,
          6769,
          1305,
          601
         ]
        },
        {
         "domain": {
          "x": [
           0.35555555555555557,
           0.6444444444444445
          ],
          "y": [
           0.7333333333333333,
           1
          ]
         },
         "labels": [
          null,
          "6 cylinders",
          "4 cylinders",
          "8 cylinders",
          "5 cylinders",
          "10 cylinders",
          "other",
          "3 cylinders",
          "12 cylinders"
         ],
         "name": "cylinders",
         "type": "pie",
         "values": [
          177678,
          94169,
          77642,
          72062,
          1712,
          1455,
          1298,
          655,
          209
         ]
        },
        {
         "domain": {
          "x": [
           0.7111111111111111,
           1
          ],
          "y": [
           0.7333333333333333,
           1
          ]
         },
         "labels": [
          "gas",
          "other",
          "diesel",
          "hybrid",
          null,
          "electric"
         ],
         "name": "fuel",
         "type": "pie",
         "values": [
          356209,
          30728,
          30062,
          5170,
          3013,
          1698
         ]
        },
        {
         "domain": {
          "x": [
           0,
           0.2888888888888889
          ],
          "y": [
           0.36666666666666664,
           0.6333333333333333
          ]
         },
         "labels": [
          "automatic",
          "other",
          "manual",
          null
         ],
         "name": "transmission",
         "type": "pie",
         "values": [
          336524,
          62682,
          25118,
          2556
         ]
        },
        {
         "domain": {
          "x": [
           0.35555555555555557,
           0.6444444444444445
          ],
          "y": [
           0.36666666666666664,
           0.6333333333333333
          ]
         },
         "labels": [
          "4wd",
          null,
          "fwd",
          "rwd"
         ],
         "name": "drive",
         "type": "pie",
         "values": [
          131904,
          130567,
          105517,
          58892
         ]
        },
        {
         "domain": {
          "x": [
           0.7111111111111111,
           1
          ],
          "y": [
           0.36666666666666664,
           0.6333333333333333
          ]
         },
         "labels": [
          null,
          "full-size",
          "mid-size",
          "compact",
          "sub-compact"
         ],
         "name": "size",
         "type": "pie",
         "values": [
          306361,
          63465,
          34476,
          19384,
          3194
         ]
        },
        {
         "domain": {
          "x": [
           0,
           0.2888888888888889
          ],
          "y": [
           0,
           0.26666666666666666
          ]
         },
         "labels": [
          null,
          "sedan",
          "SUV",
          "pickup",
          "truck",
          "other",
          "coupe",
          "hatchback",
          "wagon",
          "van",
          "convertible",
          "mini-van",
          "offroad",
          "bus"
         ],
         "name": "type",
         "type": "pie",
         "values": [
          92858,
          87056,
          77284,
          43510,
          35279,
          22110,
          19204,
          16598,
          10751,
          8548,
          7731,
          4825,
          609,
          517
         ]
        },
        {
         "domain": {
          "x": [
           0.35555555555555557,
           0.6444444444444445
          ],
          "y": [
           0,
           0.26666666666666666
          ]
         },
         "labels": [
          null,
          "white",
          "black",
          "silver",
          "blue",
          "red",
          "grey",
          "green",
          "custom",
          "brown",
          "yellow",
          "orange",
          "purple"
         ],
         "name": "paint_color",
         "type": "pie",
         "values": [
          130203,
          79285,
          62861,
          42970,
          31223,
          30473,
          24416,
          7343,
          6700,
          6593,
          2142,
          1984,
          687
         ]
        }
       ],
       "layout": {
        "height": 1000,
        "template": {
         "data": {
          "bar": [
           {
            "error_x": {
             "color": "#2a3f5f"
            },
            "error_y": {
             "color": "#2a3f5f"
            },
            "marker": {
             "line": {
              "color": "#E5ECF6",
              "width": 0.5
             },
             "pattern": {
              "fillmode": "overlay",
              "size": 10,
              "solidity": 0.2
             }
            },
            "type": "bar"
           }
          ],
          "barpolar": [
           {
            "marker": {
             "line": {
              "color": "#E5ECF6",
              "width": 0.5
             },
             "pattern": {
              "fillmode": "overlay",
              "size": 10,
              "solidity": 0.2
             }
            },
            "type": "barpolar"
           }
          ],
          "carpet": [
           {
            "aaxis": {
             "endlinecolor": "#2a3f5f",
             "gridcolor": "white",
             "linecolor": "white",
             "minorgridcolor": "white",
             "startlinecolor": "#2a3f5f"
            },
            "baxis": {
             "endlinecolor": "#2a3f5f",
             "gridcolor": "white",
             "linecolor": "white",
             "minorgridcolor": "white",
             "startlinecolor": "#2a3f5f"
            },
            "type": "carpet"
           }
          ],
          "choropleth": [
           {
            "colorbar": {
             "outlinewidth": 0,
             "ticks": ""
            },
            "type": "choropleth"
           }
          ],
          "contour": [
           {
            "colorbar": {
             "outlinewidth": 0,
             "ticks": ""
            },
            "colorscale": [
             [
              0,
              "#0d0887"
             ],
             [
              0.1111111111111111,
              "#46039f"
             ],
             [
              0.2222222222222222,
              "#7201a8"
             ],
             [
              0.3333333333333333,
              "#9c179e"
             ],
             [
              0.4444444444444444,
              "#bd3786"
             ],
             [
              0.5555555555555556,
              "#d8576b"
             ],
             [
              0.6666666666666666,
              "#ed7953"
             ],
             [
              0.7777777777777778,
              "#fb9f3a"
             ],
             [
              0.8888888888888888,
              "#fdca26"
             ],
             [
              1,
              "#f0f921"
             ]
            ],
            "type": "contour"
           }
          ],
          "contourcarpet": [
           {
            "colorbar": {
             "outlinewidth": 0,
             "ticks": ""
            },
            "type": "contourcarpet"
           }
          ],
          "heatmap": [
           {
            "colorbar": {
             "outlinewidth": 0,
             "ticks": ""
            },
            "colorscale": [
             [
              0,
              "#0d0887"
             ],
             [
              0.1111111111111111,
              "#46039f"
             ],
             [
              0.2222222222222222,
              "#7201a8"
             ],
             [
              0.3333333333333333,
              "#9c179e"
             ],
             [
              0.4444444444444444,
              "#bd3786"
             ],
             [
              0.5555555555555556,
              "#d8576b"
             ],
             [
              0.6666666666666666,
              "#ed7953"
             ],
             [
              0.7777777777777778,
              "#fb9f3a"
             ],
             [
              0.8888888888888888,
              "#fdca26"
             ],
             [
              1,
              "#f0f921"
             ]
            ],
            "type": "heatmap"
           }
          ],
          "heatmapgl": [
           {
            "colorbar": {
             "outlinewidth": 0,
             "ticks": ""
            },
            "colorscale": [
             [
              0,
              "#0d0887"
             ],
             [
              0.1111111111111111,
              "#46039f"
             ],
             [
              0.2222222222222222,
              "#7201a8"
             ],
             [
              0.3333333333333333,
              "#9c179e"
             ],
             [
              0.4444444444444444,
              "#bd3786"
             ],
             [
              0.5555555555555556,
              "#d8576b"
             ],
             [
              0.6666666666666666,
              "#ed7953"
             ],
             [
              0.7777777777777778,
              "#fb9f3a"
             ],
             [
              0.8888888888888888,
              "#fdca26"
             ],
             [
              1,
              "#f0f921"
             ]
            ],
            "type": "heatmapgl"
           }
          ],
          "histogram": [
           {
            "marker": {
             "pattern": {
              "fillmode": "overlay",
              "size": 10,
              "solidity": 0.2
             }
            },
            "type": "histogram"
           }
          ],
          "histogram2d": [
           {
            "colorbar": {
             "outlinewidth": 0,
             "ticks": ""
            },
            "colorscale": [
             [
              0,
              "#0d0887"
             ],
             [
              0.1111111111111111,
              "#46039f"
             ],
             [
              0.2222222222222222,
              "#7201a8"
             ],
             [
              0.3333333333333333,
              "#9c179e"
             ],
             [
              0.4444444444444444,
              "#bd3786"
             ],
             [
              0.5555555555555556,
              "#d8576b"
             ],
             [
              0.6666666666666666,
              "#ed7953"
             ],
             [
              0.7777777777777778,
              "#fb9f3a"
             ],
             [
              0.8888888888888888,
              "#fdca26"
             ],
             [
              1,
              "#f0f921"
             ]
            ],
            "type": "histogram2d"
           }
          ],
          "histogram2dcontour": [
           {
            "colorbar": {
             "outlinewidth": 0,
             "ticks": ""
            },
            "colorscale": [
             [
              0,
              "#0d0887"
             ],
             [
              0.1111111111111111,
              "#46039f"
             ],
             [
              0.2222222222222222,
              "#7201a8"
             ],
             [
              0.3333333333333333,
              "#9c179e"
             ],
             [
              0.4444444444444444,
              "#bd3786"
             ],
             [
              0.5555555555555556,
              "#d8576b"
             ],
             [
              0.6666666666666666,
              "#ed7953"
             ],
             [
              0.7777777777777778,
              "#fb9f3a"
             ],
             [
              0.8888888888888888,
              "#fdca26"
             ],
             [
              1,
              "#f0f921"
             ]
            ],
            "type": "histogram2dcontour"
           }
          ],
          "mesh3d": [
           {
            "colorbar": {
             "outlinewidth": 0,
             "ticks": ""
            },
            "type": "mesh3d"
           }
          ],
          "parcoords": [
           {
            "line": {
             "colorbar": {
              "outlinewidth": 0,
              "ticks": ""
             }
            },
            "type": "parcoords"
           }
          ],
          "pie": [
           {
            "automargin": true,
            "type": "pie"
           }
          ],
          "scatter": [
           {
            "fillpattern": {
             "fillmode": "overlay",
             "size": 10,
             "solidity": 0.2
            },
            "type": "scatter"
           }
          ],
          "scatter3d": [
           {
            "line": {
             "colorbar": {
              "outlinewidth": 0,
              "ticks": ""
             }
            },
            "marker": {
             "colorbar": {
              "outlinewidth": 0,
              "ticks": ""
             }
            },
            "type": "scatter3d"
           }
          ],
          "scattercarpet": [
           {
            "marker": {
             "colorbar": {
              "outlinewidth": 0,
              "ticks": ""
             }
            },
            "type": "scattercarpet"
           }
          ],
          "scattergeo": [
           {
            "marker": {
             "colorbar": {
              "outlinewidth": 0,
              "ticks": ""
             }
            },
            "type": "scattergeo"
           }
          ],
          "scattergl": [
           {
            "marker": {
             "colorbar": {
              "outlinewidth": 0,
              "ticks": ""
             }
            },
            "type": "scattergl"
           }
          ],
          "scattermapbox": [
           {
            "marker": {
             "colorbar": {
              "outlinewidth": 0,
              "ticks": ""
             }
            },
            "type": "scattermapbox"
           }
          ],
          "scatterpolar": [
           {
            "marker": {
             "colorbar": {
              "outlinewidth": 0,
              "ticks": ""
             }
            },
            "type": "scatterpolar"
           }
          ],
          "scatterpolargl": [
           {
            "marker": {
             "colorbar": {
              "outlinewidth": 0,
              "ticks": ""
             }
            },
            "type": "scatterpolargl"
           }
          ],
          "scatterternary": [
           {
            "marker": {
             "colorbar": {
              "outlinewidth": 0,
              "ticks": ""
             }
            },
            "type": "scatterternary"
           }
          ],
          "surface": [
           {
            "colorbar": {
             "outlinewidth": 0,
             "ticks": ""
            },
            "colorscale": [
             [
              0,
              "#0d0887"
             ],
             [
              0.1111111111111111,
              "#46039f"
             ],
             [
              0.2222222222222222,
              "#7201a8"
             ],
             [
              0.3333333333333333,
              "#9c179e"
             ],
             [
              0.4444444444444444,
              "#bd3786"
             ],
             [
              0.5555555555555556,
              "#d8576b"
             ],
             [
              0.6666666666666666,
              "#ed7953"
             ],
             [
              0.7777777777777778,
              "#fb9f3a"
             ],
             [
              0.8888888888888888,
              "#fdca26"
             ],
             [
              1,
              "#f0f921"
             ]
            ],
            "type": "surface"
           }
          ],
          "table": [
           {
            "cells": {
             "fill": {
              "color": "#EBF0F8"
             },
             "line": {
              "color": "white"
             }
            },
            "header": {
             "fill": {
              "color": "#C8D4E3"
             },
             "line": {
              "color": "white"
             }
            },
            "type": "table"
           }
          ]
         },
         "layout": {
          "annotationdefaults": {
           "arrowcolor": "#2a3f5f",
           "arrowhead": 0,
           "arrowwidth": 1
          },
          "autotypenumbers": "strict",
          "coloraxis": {
           "colorbar": {
            "outlinewidth": 0,
            "ticks": ""
           }
          },
          "colorscale": {
           "diverging": [
            [
             0,
             "#8e0152"
            ],
            [
             0.1,
             "#c51b7d"
            ],
            [
             0.2,
             "#de77ae"
            ],
            [
             0.3,
             "#f1b6da"
            ],
            [
             0.4,
             "#fde0ef"
            ],
            [
             0.5,
             "#f7f7f7"
            ],
            [
             0.6,
             "#e6f5d0"
            ],
            [
             0.7,
             "#b8e186"
            ],
            [
             0.8,
             "#7fbc41"
            ],
            [
             0.9,
             "#4d9221"
            ],
            [
             1,
             "#276419"
            ]
           ],
           "sequential": [
            [
             0,
             "#0d0887"
            ],
            [
             0.1111111111111111,
             "#46039f"
            ],
            [
             0.2222222222222222,
             "#7201a8"
            ],
            [
             0.3333333333333333,
             "#9c179e"
            ],
            [
             0.4444444444444444,
             "#bd3786"
            ],
            [
             0.5555555555555556,
             "#d8576b"
            ],
            [
             0.6666666666666666,
             "#ed7953"
            ],
            [
             0.7777777777777778,
             "#fb9f3a"
            ],
            [
             0.8888888888888888,
             "#fdca26"
            ],
            [
             1,
             "#f0f921"
            ]
           ],
           "sequentialminus": [
            [
             0,
             "#0d0887"
            ],
            [
             0.1111111111111111,
             "#46039f"
            ],
            [
             0.2222222222222222,
             "#7201a8"
            ],
            [
             0.3333333333333333,
             "#9c179e"
            ],
            [
             0.4444444444444444,
             "#bd3786"
            ],
            [
             0.5555555555555556,
             "#d8576b"
            ],
            [
             0.6666666666666666,
             "#ed7953"
            ],
            [
             0.7777777777777778,
             "#fb9f3a"
            ],
            [
             0.8888888888888888,
             "#fdca26"
            ],
            [
             1,
             "#f0f921"
            ]
           ]
          },
          "colorway": [
           "#636efa",
           "#EF553B",
           "#00cc96",
           "#ab63fa",
           "#FFA15A",
           "#19d3f3",
           "#FF6692",
           "#B6E880",
           "#FF97FF",
           "#FECB52"
          ],
          "font": {
           "color": "#2a3f5f"
          },
          "geo": {
           "bgcolor": "white",
           "lakecolor": "white",
           "landcolor": "#E5ECF6",
           "showlakes": true,
           "showland": true,
           "subunitcolor": "white"
          },
          "hoverlabel": {
           "align": "left"
          },
          "hovermode": "closest",
          "mapbox": {
           "style": "light"
          },
          "paper_bgcolor": "white",
          "plot_bgcolor": "#E5ECF6",
          "polar": {
           "angularaxis": {
            "gridcolor": "white",
            "linecolor": "white",
            "ticks": ""
           },
           "bgcolor": "#E5ECF6",
           "radialaxis": {
            "gridcolor": "white",
            "linecolor": "white",
            "ticks": ""
           }
          },
          "scene": {
           "xaxis": {
            "backgroundcolor": "#E5ECF6",
            "gridcolor": "white",
            "gridwidth": 2,
            "linecolor": "white",
            "showbackground": true,
            "ticks": "",
            "zerolinecolor": "white"
           },
           "yaxis": {
            "backgroundcolor": "#E5ECF6",
            "gridcolor": "white",
            "gridwidth": 2,
            "linecolor": "white",
            "showbackground": true,
            "ticks": "",
            "zerolinecolor": "white"
           },
           "zaxis": {
            "backgroundcolor": "#E5ECF6",
            "gridcolor": "white",
            "gridwidth": 2,
            "linecolor": "white",
            "showbackground": true,
            "ticks": "",
            "zerolinecolor": "white"
           }
          },
          "shapedefaults": {
           "line": {
            "color": "#2a3f5f"
           }
          },
          "ternary": {
           "aaxis": {
            "gridcolor": "white",
            "linecolor": "white",
            "ticks": ""
           },
           "baxis": {
            "gridcolor": "white",
            "linecolor": "white",
            "ticks": ""
           },
           "bgcolor": "#E5ECF6",
           "caxis": {
            "gridcolor": "white",
            "linecolor": "white",
            "ticks": ""
           }
          },
          "title": {
           "x": 0.05
          },
          "xaxis": {
           "automargin": true,
           "gridcolor": "white",
           "linecolor": "white",
           "ticks": "",
           "title": {
            "standoff": 15
           },
           "zerolinecolor": "white",
           "zerolinewidth": 2
          },
          "yaxis": {
           "automargin": true,
           "gridcolor": "white",
           "linecolor": "white",
           "ticks": "",
           "title": {
            "standoff": 15
           },
           "zerolinecolor": "white",
           "zerolinewidth": 2
          }
         }
        },
        "title": {
         "text": "Categorical data distributions"
        },
        "width": 1000
       }
      },
      "text/html": [
       "<div>                            <div id=\"c60018ea-893a-42c4-afd8-7fd049c3d49e\" class=\"plotly-graph-div\" style=\"height:1000px; width:1000px;\"></div>            <script type=\"text/javascript\">                require([\"plotly\"], function(Plotly) {                    window.PLOTLYENV=window.PLOTLYENV || {};                                    if (document.getElementById(\"c60018ea-893a-42c4-afd8-7fd049c3d49e\")) {                    Plotly.newPlot(                        \"c60018ea-893a-42c4-afd8-7fd049c3d49e\",                        [{\"labels\":[null,\"good\",\"excellent\",\"like new\",\"fair\",\"new\",\"salvage\"],\"name\":\"condition\",\"values\":[174104,121456,101467,21178,6769,1305,601],\"type\":\"pie\",\"domain\":{\"x\":[0.0,0.2888888888888889],\"y\":[0.7333333333333333,1.0]}},{\"labels\":[null,\"6 cylinders\",\"4 cylinders\",\"8 cylinders\",\"5 cylinders\",\"10 cylinders\",\"other\",\"3 cylinders\",\"12 cylinders\"],\"name\":\"cylinders\",\"values\":[177678,94169,77642,72062,1712,1455,1298,655,209],\"type\":\"pie\",\"domain\":{\"x\":[0.35555555555555557,0.6444444444444445],\"y\":[0.7333333333333333,1.0]}},{\"labels\":[\"gas\",\"other\",\"diesel\",\"hybrid\",null,\"electric\"],\"name\":\"fuel\",\"values\":[356209,30728,30062,5170,3013,1698],\"type\":\"pie\",\"domain\":{\"x\":[0.7111111111111111,1.0],\"y\":[0.7333333333333333,1.0]}},{\"labels\":[\"automatic\",\"other\",\"manual\",null],\"name\":\"transmission\",\"values\":[336524,62682,25118,2556],\"type\":\"pie\",\"domain\":{\"x\":[0.0,0.2888888888888889],\"y\":[0.36666666666666664,0.6333333333333333]}},{\"labels\":[\"4wd\",null,\"fwd\",\"rwd\"],\"name\":\"drive\",\"values\":[131904,130567,105517,58892],\"type\":\"pie\",\"domain\":{\"x\":[0.35555555555555557,0.6444444444444445],\"y\":[0.36666666666666664,0.6333333333333333]}},{\"labels\":[null,\"full-size\",\"mid-size\",\"compact\",\"sub-compact\"],\"name\":\"size\",\"values\":[306361,63465,34476,19384,3194],\"type\":\"pie\",\"domain\":{\"x\":[0.7111111111111111,1.0],\"y\":[0.36666666666666664,0.6333333333333333]}},{\"labels\":[null,\"sedan\",\"SUV\",\"pickup\",\"truck\",\"other\",\"coupe\",\"hatchback\",\"wagon\",\"van\",\"convertible\",\"mini-van\",\"offroad\",\"bus\"],\"name\":\"type\",\"values\":[92858,87056,77284,43510,35279,22110,19204,16598,10751,8548,7731,4825,609,517],\"type\":\"pie\",\"domain\":{\"x\":[0.0,0.2888888888888889],\"y\":[0.0,0.26666666666666666]}},{\"labels\":[null,\"white\",\"black\",\"silver\",\"blue\",\"red\",\"grey\",\"green\",\"custom\",\"brown\",\"yellow\",\"orange\",\"purple\"],\"name\":\"paint_color\",\"values\":[130203,79285,62861,42970,31223,30473,24416,7343,6700,6593,2142,1984,687],\"type\":\"pie\",\"domain\":{\"x\":[0.35555555555555557,0.6444444444444445],\"y\":[0.0,0.26666666666666666]}}],                        {\"template\":{\"data\":{\"histogram2dcontour\":[{\"type\":\"histogram2dcontour\",\"colorbar\":{\"outlinewidth\":0,\"ticks\":\"\"},\"colorscale\":[[0.0,\"#0d0887\"],[0.1111111111111111,\"#46039f\"],[0.2222222222222222,\"#7201a8\"],[0.3333333333333333,\"#9c179e\"],[0.4444444444444444,\"#bd3786\"],[0.5555555555555556,\"#d8576b\"],[0.6666666666666666,\"#ed7953\"],[0.7777777777777778,\"#fb9f3a\"],[0.8888888888888888,\"#fdca26\"],[1.0,\"#f0f921\"]]}],\"choropleth\":[{\"type\":\"choropleth\",\"colorbar\":{\"outlinewidth\":0,\"ticks\":\"\"}}],\"histogram2d\":[{\"type\":\"histogram2d\",\"colorbar\":{\"outlinewidth\":0,\"ticks\":\"\"},\"colorscale\":[[0.0,\"#0d0887\"],[0.1111111111111111,\"#46039f\"],[0.2222222222222222,\"#7201a8\"],[0.3333333333333333,\"#9c179e\"],[0.4444444444444444,\"#bd3786\"],[0.5555555555555556,\"#d8576b\"],[0.6666666666666666,\"#ed7953\"],[0.7777777777777778,\"#fb9f3a\"],[0.8888888888888888,\"#fdca26\"],[1.0,\"#f0f921\"]]}],\"heatmap\":[{\"type\":\"heatmap\",\"colorbar\":{\"outlinewidth\":0,\"ticks\":\"\"},\"colorscale\":[[0.0,\"#0d0887\"],[0.1111111111111111,\"#46039f\"],[0.2222222222222222,\"#7201a8\"],[0.3333333333333333,\"#9c179e\"],[0.4444444444444444,\"#bd3786\"],[0.5555555555555556,\"#d8576b\"],[0.6666666666666666,\"#ed7953\"],[0.7777777777777778,\"#fb9f3a\"],[0.8888888888888888,\"#fdca26\"],[1.0,\"#f0f921\"]]}],\"heatmapgl\":[{\"type\":\"heatmapgl\",\"colorbar\":{\"outlinewidth\":0,\"ticks\":\"\"},\"colorscale\":[[0.0,\"#0d0887\"],[0.1111111111111111,\"#46039f\"],[0.2222222222222222,\"#7201a8\"],[0.3333333333333333,\"#9c179e\"],[0.4444444444444444,\"#bd3786\"],[0.5555555555555556,\"#d8576b\"],[0.6666666666666666,\"#ed7953\"],[0.7777777777777778,\"#fb9f3a\"],[0.8888888888888888,\"#fdca26\"],[1.0,\"#f0f921\"]]}],\"contourcarpet\":[{\"type\":\"contourcarpet\",\"colorbar\":{\"outlinewidth\":0,\"ticks\":\"\"}}],\"contour\":[{\"type\":\"contour\",\"colorbar\":{\"outlinewidth\":0,\"ticks\":\"\"},\"colorscale\":[[0.0,\"#0d0887\"],[0.1111111111111111,\"#46039f\"],[0.2222222222222222,\"#7201a8\"],[0.3333333333333333,\"#9c179e\"],[0.4444444444444444,\"#bd3786\"],[0.5555555555555556,\"#d8576b\"],[0.6666666666666666,\"#ed7953\"],[0.7777777777777778,\"#fb9f3a\"],[0.8888888888888888,\"#fdca26\"],[1.0,\"#f0f921\"]]}],\"surface\":[{\"type\":\"surface\",\"colorbar\":{\"outlinewidth\":0,\"ticks\":\"\"},\"colorscale\":[[0.0,\"#0d0887\"],[0.1111111111111111,\"#46039f\"],[0.2222222222222222,\"#7201a8\"],[0.3333333333333333,\"#9c179e\"],[0.4444444444444444,\"#bd3786\"],[0.5555555555555556,\"#d8576b\"],[0.6666666666666666,\"#ed7953\"],[0.7777777777777778,\"#fb9f3a\"],[0.8888888888888888,\"#fdca26\"],[1.0,\"#f0f921\"]]}],\"mesh3d\":[{\"type\":\"mesh3d\",\"colorbar\":{\"outlinewidth\":0,\"ticks\":\"\"}}],\"scatter\":[{\"fillpattern\":{\"fillmode\":\"overlay\",\"size\":10,\"solidity\":0.2},\"type\":\"scatter\"}],\"parcoords\":[{\"type\":\"parcoords\",\"line\":{\"colorbar\":{\"outlinewidth\":0,\"ticks\":\"\"}}}],\"scatterpolargl\":[{\"type\":\"scatterpolargl\",\"marker\":{\"colorbar\":{\"outlinewidth\":0,\"ticks\":\"\"}}}],\"bar\":[{\"error_x\":{\"color\":\"#2a3f5f\"},\"error_y\":{\"color\":\"#2a3f5f\"},\"marker\":{\"line\":{\"color\":\"#E5ECF6\",\"width\":0.5},\"pattern\":{\"fillmode\":\"overlay\",\"size\":10,\"solidity\":0.2}},\"type\":\"bar\"}],\"scattergeo\":[{\"type\":\"scattergeo\",\"marker\":{\"colorbar\":{\"outlinewidth\":0,\"ticks\":\"\"}}}],\"scatterpolar\":[{\"type\":\"scatterpolar\",\"marker\":{\"colorbar\":{\"outlinewidth\":0,\"ticks\":\"\"}}}],\"histogram\":[{\"marker\":{\"pattern\":{\"fillmode\":\"overlay\",\"size\":10,\"solidity\":0.2}},\"type\":\"histogram\"}],\"scattergl\":[{\"type\":\"scattergl\",\"marker\":{\"colorbar\":{\"outlinewidth\":0,\"ticks\":\"\"}}}],\"scatter3d\":[{\"type\":\"scatter3d\",\"line\":{\"colorbar\":{\"outlinewidth\":0,\"ticks\":\"\"}},\"marker\":{\"colorbar\":{\"outlinewidth\":0,\"ticks\":\"\"}}}],\"scattermapbox\":[{\"type\":\"scattermapbox\",\"marker\":{\"colorbar\":{\"outlinewidth\":0,\"ticks\":\"\"}}}],\"scatterternary\":[{\"type\":\"scatterternary\",\"marker\":{\"colorbar\":{\"outlinewidth\":0,\"ticks\":\"\"}}}],\"scattercarpet\":[{\"type\":\"scattercarpet\",\"marker\":{\"colorbar\":{\"outlinewidth\":0,\"ticks\":\"\"}}}],\"carpet\":[{\"aaxis\":{\"endlinecolor\":\"#2a3f5f\",\"gridcolor\":\"white\",\"linecolor\":\"white\",\"minorgridcolor\":\"white\",\"startlinecolor\":\"#2a3f5f\"},\"baxis\":{\"endlinecolor\":\"#2a3f5f\",\"gridcolor\":\"white\",\"linecolor\":\"white\",\"minorgridcolor\":\"white\",\"startlinecolor\":\"#2a3f5f\"},\"type\":\"carpet\"}],\"table\":[{\"cells\":{\"fill\":{\"color\":\"#EBF0F8\"},\"line\":{\"color\":\"white\"}},\"header\":{\"fill\":{\"color\":\"#C8D4E3\"},\"line\":{\"color\":\"white\"}},\"type\":\"table\"}],\"barpolar\":[{\"marker\":{\"line\":{\"color\":\"#E5ECF6\",\"width\":0.5},\"pattern\":{\"fillmode\":\"overlay\",\"size\":10,\"solidity\":0.2}},\"type\":\"barpolar\"}],\"pie\":[{\"automargin\":true,\"type\":\"pie\"}]},\"layout\":{\"autotypenumbers\":\"strict\",\"colorway\":[\"#636efa\",\"#EF553B\",\"#00cc96\",\"#ab63fa\",\"#FFA15A\",\"#19d3f3\",\"#FF6692\",\"#B6E880\",\"#FF97FF\",\"#FECB52\"],\"font\":{\"color\":\"#2a3f5f\"},\"hovermode\":\"closest\",\"hoverlabel\":{\"align\":\"left\"},\"paper_bgcolor\":\"white\",\"plot_bgcolor\":\"#E5ECF6\",\"polar\":{\"bgcolor\":\"#E5ECF6\",\"angularaxis\":{\"gridcolor\":\"white\",\"linecolor\":\"white\",\"ticks\":\"\"},\"radialaxis\":{\"gridcolor\":\"white\",\"linecolor\":\"white\",\"ticks\":\"\"}},\"ternary\":{\"bgcolor\":\"#E5ECF6\",\"aaxis\":{\"gridcolor\":\"white\",\"linecolor\":\"white\",\"ticks\":\"\"},\"baxis\":{\"gridcolor\":\"white\",\"linecolor\":\"white\",\"ticks\":\"\"},\"caxis\":{\"gridcolor\":\"white\",\"linecolor\":\"white\",\"ticks\":\"\"}},\"coloraxis\":{\"colorbar\":{\"outlinewidth\":0,\"ticks\":\"\"}},\"colorscale\":{\"sequential\":[[0.0,\"#0d0887\"],[0.1111111111111111,\"#46039f\"],[0.2222222222222222,\"#7201a8\"],[0.3333333333333333,\"#9c179e\"],[0.4444444444444444,\"#bd3786\"],[0.5555555555555556,\"#d8576b\"],[0.6666666666666666,\"#ed7953\"],[0.7777777777777778,\"#fb9f3a\"],[0.8888888888888888,\"#fdca26\"],[1.0,\"#f0f921\"]],\"sequentialminus\":[[0.0,\"#0d0887\"],[0.1111111111111111,\"#46039f\"],[0.2222222222222222,\"#7201a8\"],[0.3333333333333333,\"#9c179e\"],[0.4444444444444444,\"#bd3786\"],[0.5555555555555556,\"#d8576b\"],[0.6666666666666666,\"#ed7953\"],[0.7777777777777778,\"#fb9f3a\"],[0.8888888888888888,\"#fdca26\"],[1.0,\"#f0f921\"]],\"diverging\":[[0,\"#8e0152\"],[0.1,\"#c51b7d\"],[0.2,\"#de77ae\"],[0.3,\"#f1b6da\"],[0.4,\"#fde0ef\"],[0.5,\"#f7f7f7\"],[0.6,\"#e6f5d0\"],[0.7,\"#b8e186\"],[0.8,\"#7fbc41\"],[0.9,\"#4d9221\"],[1,\"#276419\"]]},\"xaxis\":{\"gridcolor\":\"white\",\"linecolor\":\"white\",\"ticks\":\"\",\"title\":{\"standoff\":15},\"zerolinecolor\":\"white\",\"automargin\":true,\"zerolinewidth\":2},\"yaxis\":{\"gridcolor\":\"white\",\"linecolor\":\"white\",\"ticks\":\"\",\"title\":{\"standoff\":15},\"zerolinecolor\":\"white\",\"automargin\":true,\"zerolinewidth\":2},\"scene\":{\"xaxis\":{\"backgroundcolor\":\"#E5ECF6\",\"gridcolor\":\"white\",\"linecolor\":\"white\",\"showbackground\":true,\"ticks\":\"\",\"zerolinecolor\":\"white\",\"gridwidth\":2},\"yaxis\":{\"backgroundcolor\":\"#E5ECF6\",\"gridcolor\":\"white\",\"linecolor\":\"white\",\"showbackground\":true,\"ticks\":\"\",\"zerolinecolor\":\"white\",\"gridwidth\":2},\"zaxis\":{\"backgroundcolor\":\"#E5ECF6\",\"gridcolor\":\"white\",\"linecolor\":\"white\",\"showbackground\":true,\"ticks\":\"\",\"zerolinecolor\":\"white\",\"gridwidth\":2}},\"shapedefaults\":{\"line\":{\"color\":\"#2a3f5f\"}},\"annotationdefaults\":{\"arrowcolor\":\"#2a3f5f\",\"arrowhead\":0,\"arrowwidth\":1},\"geo\":{\"bgcolor\":\"white\",\"landcolor\":\"#E5ECF6\",\"subunitcolor\":\"white\",\"showland\":true,\"showlakes\":true,\"lakecolor\":\"white\"},\"title\":{\"x\":0.05},\"mapbox\":{\"style\":\"light\"}}},\"title\":{\"text\":\"Categorical data distributions\"},\"height\":1000,\"width\":1000},                        {\"responsive\": true}                    ).then(function(){\n",
       "                            \n",
       "var gd = document.getElementById('c60018ea-893a-42c4-afd8-7fd049c3d49e');\n",
       "var x = new MutationObserver(function (mutations, observer) {{\n",
       "        var display = window.getComputedStyle(gd).display;\n",
       "        if (!display || display === 'none') {{\n",
       "            console.log([gd, 'removed!']);\n",
       "            Plotly.purge(gd);\n",
       "            observer.disconnect();\n",
       "        }}\n",
       "}});\n",
       "\n",
       "// Listen for the removal of the full notebook cells\n",
       "var notebookContainer = gd.closest('#notebook-container');\n",
       "if (notebookContainer) {{\n",
       "    x.observe(notebookContainer, {childList: true});\n",
       "}}\n",
       "\n",
       "// Listen for the clearing of the current output cell\n",
       "var outputEl = gd.closest('.output');\n",
       "if (outputEl) {{\n",
       "    x.observe(outputEl, {childList: true});\n",
       "}}\n",
       "\n",
       "                        })                };                });            </script>        </div>"
      ]
     },
     "metadata": {},
     "output_type": "display_data"
    }
   ],
   "source": [
    "from plotly.subplots import make_subplots\n",
    "import plotly.graph_objects as go\n",
    "\n",
    "fig = make_subplots(rows=3, cols=3, specs=[\n",
    "    [{\"type\": \"pie\"} for _ in range(3)] for _ in range(3)\n",
    "])\n",
    "\n",
    "\n",
    "# lets' look into categorical features distributions (where there are not so many unique values)\n",
    "for idx, column_name in enumerate(['condition', 'cylinders', 'fuel', 'transmission', 'drive', 'size', 'type', 'paint_color']):\n",
    "    counted_data = df[column_name].value_counts(dropna=False).reset_index()\n",
    "    fig.add_trace(\n",
    "        go.Pie( \n",
    "            values=counted_data['count'], \n",
    "            labels=counted_data[column_name],\n",
    "            name=column_name\n",
    "        ),\n",
    "        row=(idx//3) + 1, col=(idx%3) + 1\n",
    "    )\n",
    "\n",
    "fig.update_layout(height=1000, width=1000, title_text='Categorical data distributions')"
   ]
  },
  {
   "cell_type": "markdown",
   "id": "a8cc68d1",
   "metadata": {},
   "source": [
    "### Result of an analysis "
   ]
  },
  {
   "cell_type": "code",
   "execution_count": 110,
   "id": "c9cc9935",
   "metadata": {},
   "outputs": [],
   "source": [
    "drop_columns = [\n",
    "#     'id',\n",
    "    'url',\n",
    "    'region',\n",
    "#     'region_url',\n",
    "#     'price',\n",
    "#     'year',\n",
    "#     'manufacturer',\n",
    "#     'model',\n",
    "#     'condition',\n",
    "#     'cylinders',\n",
    "#     'fuel',\n",
    "#     'odometer',\n",
    "    'title_status',\n",
    "#     'transmission',\n",
    "    'VIN',\n",
    "#     'drive',\n",
    "#     'size',\n",
    "#     'type',\n",
    "#     'paint_color',\n",
    "    'image_url',\n",
    "    'description',\n",
    "    'county',\n",
    "#     'state',\n",
    "#     'lat',\n",
    "#     'long',\n",
    "    'posting_date'\n",
    "]"
   ]
  },
  {
   "cell_type": "code",
   "execution_count": null,
   "id": "9580f748",
   "metadata": {},
   "outputs": [],
   "source": []
  }
 ],
 "metadata": {
  "kernelspec": {
   "display_name": "Python 3 (ipykernel)",
   "language": "python",
   "name": "python3"
  },
  "language_info": {
   "codemirror_mode": {
    "name": "ipython",
    "version": 3
   },
   "file_extension": ".py",
   "mimetype": "text/x-python",
   "name": "python",
   "nbconvert_exporter": "python",
   "pygments_lexer": "ipython3",
   "version": "3.9.6"
  }
 },
 "nbformat": 4,
 "nbformat_minor": 5
}
