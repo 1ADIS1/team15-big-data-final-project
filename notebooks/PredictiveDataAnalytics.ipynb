{
 "cells": [
  {
   "cell_type": "markdown",
   "id": "1760a5df-6ac9-470b-8395-26695aa42a57",
   "metadata": {},
   "source": [
    "# Predictive Data Analytics\n",
    "\n",
    "In this notebook we will build an ML model and evaluate results"
   ]
  },
  {
   "cell_type": "code",
   "execution_count": 1,
   "id": "721b71be-d97f-45d5-ae5f-58d656de407a",
   "metadata": {},
   "outputs": [],
   "source": [
    "from pyspark.sql import SparkSession\n",
    "\n",
    "# Add here your team number teamx\n",
    "team = \"team15\"\n",
    "\n",
    "# location of your Hive database in HDFS\n",
    "warehouse = \"project/hive/warehouse\"\n",
    "\n",
    "spark = SparkSession.builder\\\n",
    "        .appName(\"{} - spark ML\".format(team))\\\n",
    "        .config(\"hive.metastore.uris\", \"thrift://hadoop-02.uni.innopolis.ru:9883\")\\\n",
    "        .config(\"spark.sql.warehouse.dir\", warehouse)\\\n",
    "        .config(\"spark.sql.avro.compression.codec\", \"snappy\")\\\n",
    "        .enableHiveSupport()\\\n",
    "        .getOrCreate()\n",
    "\n",
    "#We can also add\n",
    "# .config(\"spark.sql.catalogImplementation\",\"hive\")\\ \n",
    "# But this is the default configuration\n",
    "# You can switch to Spark Catalog by setting \"in-memory\" for \"spark.sql.catalogImplementation\"\n"
   ]
  },
  {
   "cell_type": "code",
   "execution_count": 2,
   "id": "1175add5-4351-4edc-b0c4-601cc1aeff2b",
   "metadata": {},
   "outputs": [
    {
     "name": "stdout",
     "output_type": "stream",
     "text": [
      "+--------------------+\n",
      "|           namespace|\n",
      "+--------------------+\n",
      "|             default|\n",
      "|             root_db|\n",
      "|     team0_projectdb|\n",
      "|team12_hive_proje...|\n",
      "|    team13_projectdb|\n",
      "|    team14_projectdb|\n",
      "|    team15_projectdb|\n",
      "|    team16_projectdb|\n",
      "|    team17_projectdb|\n",
      "|    team18_projectdb|\n",
      "|    team19_projectdb|\n",
      "|     team1_projectdb|\n",
      "|    team20_projectdb|\n",
      "|    team21_projectdb|\n",
      "|    team22_projectdb|\n",
      "|    team23_projectdb|\n",
      "|    team24_projectdb|\n",
      "|    team25_projectdb|\n",
      "|    team26_projectdb|\n",
      "|    team27_projectdb|\n",
      "+--------------------+\n",
      "only showing top 20 rows\n",
      "\n"
     ]
    }
   ],
   "source": [
    "spark.sql(\"SHOW DATABASES\").show()"
   ]
  },
  {
   "cell_type": "code",
   "execution_count": 3,
   "id": "53c2079c-c49b-4d4a-856d-366f7e5d1c13",
   "metadata": {},
   "outputs": [
    {
     "name": "stdout",
     "output_type": "stream",
     "text": [
      "++\n",
      "||\n",
      "++\n",
      "++\n",
      "\n"
     ]
    }
   ],
   "source": [
    "spark.sql(\"USE team15_projectdb\").show()"
   ]
  },
  {
   "cell_type": "code",
   "execution_count": 4,
   "id": "02353e12-6ddc-4bec-adaa-48df2a4c6db5",
   "metadata": {},
   "outputs": [
    {
     "name": "stdout",
     "output_type": "stream",
     "text": [
      "+----------------+--------------------+-----------+\n",
      "|       namespace|           tableName|isTemporary|\n",
      "+----------------+--------------------+-----------+\n",
      "|team15_projectdb|     car_description|      false|\n",
      "|team15_projectdb|car_vehicles_ext_...|      false|\n",
      "|team15_projectdb|          q1_results|      false|\n",
      "|team15_projectdb|          q2_results|      false|\n",
      "|team15_projectdb|          q3_results|      false|\n",
      "|team15_projectdb|          q4_results|      false|\n",
      "|team15_projectdb|          q5_results|      false|\n",
      "+----------------+--------------------+-----------+\n",
      "\n"
     ]
    }
   ],
   "source": [
    "spark.sql(\"SHOW TABLES\").show()"
   ]
  },
  {
   "cell_type": "code",
   "execution_count": 5,
   "id": "81aa02cb-9c85-4dba-bb55-2fe6e599e12e",
   "metadata": {},
   "outputs": [
    {
     "name": "stdout",
     "output_type": "stream",
     "text": [
      "+----------+--------------------+-----+-----------------+------------+--------------------+-------------+-----------+------+--------+------------+---------+---------+--------+-----------+------------------+------------------+--------+\n",
      "|  entry_id|          region_url|price|manufactured_year|manufacturer|               model|car_condition|  cylinders|  fuel|odometer|transmission|car_drive| car_size|car_type|paint_color|          latitude|         longitude|us_state|\n",
      "+----------+--------------------+-----+-----------------+------------+--------------------+-------------+-----------+------+--------+------------+---------+---------+--------+-----------+------------------+------------------+--------+\n",
      "|7302193320|texarkana.craigsl...| 8500|             2009|        ford|expedition eddie ...|         good|8 cylinders|   gas|  186700|   automatic|      rwd|full-size|     SUV|      white| 33.41130065917969|-94.17739868164062|      ar|\n",
      "|7303788151|texarkana.craigsl...|23999|             2016|         ram|                1500|    excellent|8 cylinders|   gas|  126200|   automatic|      4wd|full-size|   truck|       blue| 34.58140182495117|-94.22100067138672|      ar|\n",
      "|7305347975|texarkana.craigsl...|    0|             2017|      toyota|               camry|         good|4 cylinders|   gas|  175973|   automatic|      fwd|full-size|   sedan|      black|33.211544036865234|-92.65678405761719|      ar|\n",
      "|7305427484|texarkana.craigsl...|    0|             2011|       honda|              accord|    excellent|6 cylinders|   gas|  164646|   automatic|      fwd|full-size|   coupe|     silver|  33.2116813659668|-92.65663146972656|      ar|\n",
      "|7307681520|texarkana.craigsl...|    0|             2015|         ram|                1500|    excellent|6 cylinders|diesel|  165769|   automatic|      4wd|full-size|  pickup|       grey| 33.21155548095703|-92.65650177001953|      ar|\n",
      "|7307718299|texarkana.craigsl...|    0|             2012|   chevrolet|            tahoe lt|         good|8 cylinders|   gas|  171611|   automatic|      4wd|full-size|     SUV|      brown| 33.21166229248047|-92.65684509277344|      ar|\n",
      "|7308902896|texarkana.craigsl...|38990|             2018|        ford|               f-150|     like new|6 cylinders|   gas|   43200|   automatic|      rwd|full-size|   truck|      white| 33.42844772338867| -94.0401611328125|      ar|\n",
      "|7309462672|texarkana.craigsl...|60000|             1967|        ford|              bronco|    excellent|8 cylinders|   gas|     800|   automatic|      4wd|full-size| offroad|        red|33.885101318359375|  -94.802001953125|      ar|\n",
      "|7313139984|texarkana.craigsl...| 7500|             2005|        ford|               f-250|         good|8 cylinders|diesel|  359536|   automatic|      4wd|full-size|   truck|      black| 33.67359924316406|-93.60679626464844|      ar|\n",
      "|7313471129|texarkana.craigsl...|    0|             2013|        ford|               f-150|         good|8 cylinders|   gas|  191165|   automatic|      4wd|full-size|  pickup|      black|  33.2115364074707|   -92.65673828125|      ar|\n",
      "|7313931548|texarkana.craigsl...|    0|             2012|        ford|               f-350|         good|8 cylinders|diesel|  232175|   automatic|      4wd|full-size|  pickup|      white| 33.21160888671875|-92.65686798095703|      ar|\n",
      "|7313958606|texarkana.craigsl...|    0|             2015|         ram|      1500 ecodiesel|    excellent|6 cylinders|diesel|  116425|   automatic|      rwd|full-size|  pickup|       grey|  33.2116813659668|-92.65660858154297|      ar|\n",
      "|7314511408|texarkana.craigsl...|    0|             2017|        ford|               f-350|         good|8 cylinders|   gas|  198212|   automatic|      4wd|full-size|  pickup|      white| 33.21171569824219|-92.65667724609375|      ar|\n",
      "|7316193099|texarkana.craigsl...|    0|             2015|        ford|               f-150|         good|6 cylinders|   gas|  199426|   automatic|      4wd|full-size|  pickup|      white| 33.21162796020508|-92.65679931640625|      ar|\n",
      "|7316790647|texarkana.craigsl...| 2850|             2005|   chevrolet|              impala|         good|6 cylinders|   gas|  231000|   automatic|      fwd| mid-size|   sedan|      brown| 33.46689987182617|-94.07740020751953|      ar|\n",
      "|7302269519|littlerock.craigs...|25900|             2019|      nissan|frontier sv crew cab|     like new|6 cylinders|   gas|    8400|   automatic|      rwd| mid-size|   truck|       grey| 34.15660095214844|   -97.17919921875|      ar|\n",
      "|7302271685|littlerock.craigs...|28174|             2018|   chevrolet|    traverse premier|     like new|6 cylinders|   gas|   87200|   automatic|      fwd|full-size|     SUV|     silver| 34.15660095214844|   -97.17919921875|      ar|\n",
      "|7302290435|littlerock.craigs...|    0|             2018|         ram|                2500|    excellent|6 cylinders|diesel|   20492|   automatic|      4wd|full-size|   truck|      white|45.082435607910156|-94.33465576171875|      ar|\n",
      "|7302569816|littlerock.craigs...|20800|             2014|   chevrolet|silverado 1500 wo...|    excellent|6 cylinders|   gas|   70300|   automatic|      rwd|full-size|   truck|     silver| 34.15660095214844|   -97.17919921875|      ar|\n",
      "|7303149604|littlerock.craigs...|54988|             2019|         ram|         pickup 1500|     like new|8 cylinders|   gas|   11096|   automatic|      4wd|full-size|  pickup|unspecified|34.901676177978516|-95.77722930908203|      ar|\n",
      "+----------+--------------------+-----+-----------------+------------+--------------------+-------------+-----------+------+--------+------------+---------+---------+--------+-----------+------------------+------------------+--------+\n",
      "only showing top 20 rows\n",
      "\n"
     ]
    }
   ],
   "source": [
    "spark.sql(\"SELECT * FROM team15_projectdb.car_vehicles_ext_part_bucket\").show()"
   ]
  },
  {
   "cell_type": "code",
   "execution_count": 6,
   "id": "adaa41c4-3fd3-4b84-928e-34b46410b8a9",
   "metadata": {},
   "outputs": [
    {
     "name": "stdout",
     "output_type": "stream",
     "text": [
      "Database(name='default', description='Default Hive database', locationUri='hdfs://hadoop-02.uni.innopolis.ru:8020/apps/hive/warehouse')\n",
      "Database(name='root_db', description='', locationUri='hdfs://hadoop-02.uni.innopolis.ru:8020/user/root/root_db')\n",
      "Database(name='team0_projectdb', description='', locationUri='hdfs://hadoop-02.uni.innopolis.ru:8020/user/team0/project/hive/warehouse')\n",
      "Database(name='team12_hive_projectdb', description='', locationUri='hdfs://hadoop-02.uni.innopolis.ru:8020/user/team12/project/hive/warehouse')\n",
      "Database(name='team13_projectdb', description='', locationUri='hdfs://hadoop-02.uni.innopolis.ru:8020/user/team13/project/hive/warehouse')\n",
      "Database(name='team14_projectdb', description='', locationUri='hdfs://hadoop-02.uni.innopolis.ru:8020/user/team14/project/hive/warehouse')\n",
      "Database(name='team15_projectdb', description='', locationUri='hdfs://hadoop-02.uni.innopolis.ru:8020/user/team15/project/hive/warehouse')\n",
      "Database(name='team16_projectdb', description='', locationUri='hdfs://hadoop-02.uni.innopolis.ru:8020/user/team16/project/hive/warehouse')\n",
      "Database(name='team17_projectdb', description='', locationUri='hdfs://hadoop-02.uni.innopolis.ru:8020/user/team17/project/hive/warehouse')\n",
      "Database(name='team18_projectdb', description='', locationUri='hdfs://hadoop-02.uni.innopolis.ru:8020/user/team18/project/hive/warehouse')\n",
      "Database(name='team19_projectdb', description='', locationUri='hdfs://hadoop-02.uni.innopolis.ru:8020/user/team19/project/hive/warehouse')\n",
      "Database(name='team1_projectdb', description='', locationUri='hdfs://hadoop-02.uni.innopolis.ru:8020/user/team1/project/hive/warehouse')\n",
      "Database(name='team20_projectdb', description='', locationUri='hdfs://hadoop-02.uni.innopolis.ru:8020/user/team20/project/hive/warehouse')\n",
      "Database(name='team21_projectdb', description='', locationUri='hdfs://hadoop-02.uni.innopolis.ru:8020/user/team21/project/hive/warehouse')\n",
      "Database(name='team22_projectdb', description='', locationUri='hdfs://hadoop-02.uni.innopolis.ru:8020/user/team22/project/hive/warehouse')\n",
      "Database(name='team23_projectdb', description='', locationUri='hdfs://hadoop-02.uni.innopolis.ru:8020/user/team23/project/hive/warehouse')\n",
      "Database(name='team24_projectdb', description='', locationUri='hdfs://hadoop-02.uni.innopolis.ru:8020/user/team24/project/hive/warehouse')\n",
      "Database(name='team25_projectdb', description='', locationUri='hdfs://hadoop-02.uni.innopolis.ru:8020/user/team25/project/hive/warehouse')\n",
      "Database(name='team26_projectdb', description='', locationUri='hdfs://hadoop-02.uni.innopolis.ru:8020/user/team26/project/hive/warehouse')\n",
      "Database(name='team27_projectdb', description='', locationUri='hdfs://hadoop-02.uni.innopolis.ru:8020/user/team27/project/hive/warehouse')\n",
      "Database(name='team28_projectdb', description='', locationUri='hdfs://hadoop-02.uni.innopolis.ru:8020/user/team28/project/hive/warehouse')\n",
      "Database(name='team29_projectdb', description='', locationUri='hdfs://hadoop-02.uni.innopolis.ru:8020/user/team29/project/hive/warehouse')\n",
      "Database(name='team2_projectdb', description='', locationUri='hdfs://hadoop-02.uni.innopolis.ru:8020/user/team2/project/hive/warehouse')\n",
      "Database(name='team30_projectdb', description='', locationUri='hdfs://hadoop-02.uni.innopolis.ru:8020/user/team30/project/hive/warehouse')\n",
      "Database(name='team31_projectdb', description='', locationUri='hdfs://hadoop-02.uni.innopolis.ru:8020/user/team31/project/hive/warehouse')\n",
      "Database(name='team3_projectdb', description='', locationUri='hdfs://hadoop-02.uni.innopolis.ru:8020/user/team3/project/hive/warehouse')\n",
      "Database(name='team4_projectdb', description='', locationUri='hdfs://hadoop-02.uni.innopolis.ru:8020/user/team4/project/hive/warehouse')\n",
      "Database(name='team5_projectdb', description='', locationUri='hdfs://hadoop-02.uni.innopolis.ru:8020/user/team5/project/hive/warehouse')\n",
      "Database(name='team6_projectdb', description='', locationUri='hdfs://hadoop-02.uni.innopolis.ru:8020/user/team6/project/hive/warehouse')\n",
      "Database(name='team7_projectdb', description='', locationUri='hdfs://hadoop-02.uni.innopolis.ru:8020/user/team7/project/hive/warehouse')\n",
      "Database(name='team8_projectdb', description='', locationUri='hdfs://hadoop-02.uni.innopolis.ru:8020/user/team8/project/hive/warehouse')\n",
      "Database(name='team9_projectdb', description='', locationUri='hdfs://hadoop-02.uni.innopolis.ru:8020/user/team9/project/hive/warehouse')\n",
      "Database(name='testdb', description='', locationUri='hdfs://hadoop-02.uni.innopolis.ru:8020/apps/hive/warehouse/testdb.db')\n"
     ]
    }
   ],
   "source": [
    "print(*spark.catalog.listDatabases(), sep='\\n')"
   ]
  },
  {
   "cell_type": "code",
   "execution_count": 7,
   "id": "6016eb3a-982b-487f-9e41-0cd9775b2a99",
   "metadata": {},
   "outputs": [
    {
     "name": "stdout",
     "output_type": "stream",
     "text": [
      "Table(name='car_description', database='team15_projectdb', description=None, tableType='EXTERNAL', isTemporary=False)\n",
      "Table(name='car_vehicles_ext_part_bucket', database='team15_projectdb', description=None, tableType='EXTERNAL', isTemporary=False)\n",
      "Table(name='q1_results', database='team15_projectdb', description=None, tableType='EXTERNAL', isTemporary=False)\n",
      "Table(name='q2_results', database='team15_projectdb', description=None, tableType='EXTERNAL', isTemporary=False)\n",
      "Table(name='q3_results', database='team15_projectdb', description=None, tableType='EXTERNAL', isTemporary=False)\n",
      "Table(name='q4_results', database='team15_projectdb', description=None, tableType='EXTERNAL', isTemporary=False)\n",
      "Table(name='q5_results', database='team15_projectdb', description=None, tableType='EXTERNAL', isTemporary=False)\n"
     ]
    }
   ],
   "source": [
    "print(*spark.catalog.listTables(\"team15_projectdb\"), sep='\\n')"
   ]
  },
  {
   "cell_type": "code",
   "execution_count": 8,
   "id": "7d8b95b5-f9bc-4f47-98b9-51a5203fc035",
   "metadata": {},
   "outputs": [],
   "source": [
    "# cars = spark.read.format(\"avro\").table('team15_projectdb.car_vehicles_ext_part_bucket')\n",
    "cars = spark.read.format(\"avro\").table('team15_projectdb.car_vehicles_ext_part_bucket')"
   ]
  },
  {
   "cell_type": "code",
   "execution_count": 9,
   "id": "56d3b5a3-1b46-47e2-858a-ac1e4b8333fc",
   "metadata": {},
   "outputs": [
    {
     "name": "stdout",
     "output_type": "stream",
     "text": [
      "root\n",
      " |-- entry_id: long (nullable = true)\n",
      " |-- region_url: string (nullable = true)\n",
      " |-- price: long (nullable = true)\n",
      " |-- manufactured_year: integer (nullable = true)\n",
      " |-- manufacturer: string (nullable = true)\n",
      " |-- model: string (nullable = true)\n",
      " |-- car_condition: string (nullable = true)\n",
      " |-- cylinders: string (nullable = true)\n",
      " |-- fuel: string (nullable = true)\n",
      " |-- odometer: integer (nullable = true)\n",
      " |-- transmission: string (nullable = true)\n",
      " |-- car_drive: string (nullable = true)\n",
      " |-- car_size: string (nullable = true)\n",
      " |-- car_type: string (nullable = true)\n",
      " |-- paint_color: string (nullable = true)\n",
      " |-- latitude: double (nullable = true)\n",
      " |-- longitude: double (nullable = true)\n",
      " |-- us_state: string (nullable = true)\n",
      "\n"
     ]
    }
   ],
   "source": [
    "cars.printSchema()"
   ]
  },
  {
   "cell_type": "code",
   "execution_count": 10,
   "id": "046e84e0-f3a4-4a08-b332-5733ce4b2bbe",
   "metadata": {},
   "outputs": [],
   "source": [
    "lat_long = spark.sql(\"SELECT region_url, latitude, longitude FROM team15_projectdb.car_vehicles_ext_part_bucket\").collect()"
   ]
  },
  {
   "cell_type": "code",
   "execution_count": 11,
   "id": "38351d9d-a541-4dde-9dce-0e044d7f6a5a",
   "metadata": {},
   "outputs": [
    {
     "data": {
      "text/plain": [
       "[Row(region_url='honolulu.craigslist.org', latitude=20.88819122314453, longitude=-156.45892333984375),\n",
       " Row(region_url='honolulu.craigslist.org', latitude=20.888221740722656, longitude=-156.45892333984375),\n",
       " Row(region_url='honolulu.craigslist.org', latitude=20.888221740722656, longitude=-156.4589080810547),\n",
       " Row(region_url='honolulu.craigslist.org', latitude=20.888141632080078, longitude=-156.45892333984375),\n",
       " Row(region_url='honolulu.craigslist.org', latitude=20.88819122314453, longitude=-156.45892333984375),\n",
       " Row(region_url='honolulu.craigslist.org', latitude=20.888172149658203, longitude=-156.45892333984375),\n",
       " Row(region_url='honolulu.craigslist.org', latitude=20.888141632080078, longitude=-156.45887756347656),\n",
       " Row(region_url='honolulu.craigslist.org', latitude=20.888202667236328, longitude=-156.45889282226562),\n",
       " Row(region_url='honolulu.craigslist.org', latitude=20.891550064086914, longitude=-156.4617156982422),\n",
       " Row(region_url='honolulu.craigslist.org', latitude=21.329500198364258, longitude=-157.8614959716797)]"
      ]
     },
     "execution_count": 11,
     "metadata": {},
     "output_type": "execute_result"
    }
   ],
   "source": [
    "lat_long[:10]"
   ]
  },
  {
   "cell_type": "code",
   "execution_count": 12,
   "id": "17bcb87a-d1bd-46c4-8c1d-dae52cfff31d",
   "metadata": {},
   "outputs": [],
   "source": [
    "from pyspark import keyword_only\n",
    "from pyspark.ml import Transformer\n",
    "from pyspark.ml.feature import VectorAssembler\n",
    "from pyspark.ml.param.shared import HasInputCol, HasOutputCol, Param, Params, TypeConverters, HasInputCols, HasOutputCols\n",
    "from pyspark.sql.types import ArrayType, DoubleType, FloatType\n",
    "from pyspark.sql.functions import udf\n",
    "import pyspark.sql.functions as F\n",
    "import pyproj\n",
    "import numpy as np\n",
    "\n",
    "\n",
    "class LatLongToXYZ(Transformer, HasInputCols, HasOutputCols):\n",
    "    @keyword_only\n",
    "    def __init__(self, inputCols=None, outputCols=None):\n",
    "        super(LatLongToXYZ, self).__init__()\n",
    "        kwargs = self._input_kwargs\n",
    "        self.setParams(**kwargs)\n",
    "\n",
    "    def _transform(self, dataset):\n",
    "        def f(lat, lon):\n",
    "            lat = np.deg2rad(lat)\n",
    "            lon = np.deg2rad(lon)\n",
    "            alt = np.deg2rad(0)\n",
    "            \n",
    "            A = 6378137  # WGS-84 semi-major axis\n",
    "            E2 = 6.6943799901377997e-3  # WGS-84 first eccentricity squared\n",
    "            n = A / np.sqrt(1 - E2 * np.sin(lat) * np.sin(lat))\n",
    "            \n",
    "            x = (n + alt) * np.cos(lat) * np.cos(lon)\n",
    "            y = (n + alt) * np.cos(lat) * np.sin(lon)\n",
    "            z = (n * (1 - E2) + alt) * np.sin(lat)\n",
    "\n",
    "            return [float(x), float(y), float(z)]\n",
    "\n",
    "        # make an udf\n",
    "        t = ArrayType(FloatType())\n",
    "        udf_func = udf(f, t)\n",
    "\n",
    "        # get calculations\n",
    "        in_cols = dataset.select(self.getInputCols()).columns\n",
    "\n",
    "        #  Apply the UDF to the input columns\n",
    "        dataset = dataset.withColumn(self.getOutputCols()[0], udf_func(*in_cols)[0])\n",
    "        dataset = dataset.withColumn(self.getOutputCols()[1], udf_func(*in_cols)[1])\n",
    "        dataset = dataset.withColumn(self.getOutputCols()[2], udf_func(*in_cols)[2])\n",
    "\n",
    "        return dataset\n",
    "\n",
    "    @keyword_only\n",
    "    def setParams(self, inputCols=None, outputCols=None):\n",
    "        kwargs = self._input_kwargs\n",
    "        return self._set(**kwargs)"
   ]
  },
  {
   "cell_type": "code",
   "execution_count": 14,
   "id": "41aefabf-9c70-4ee3-b254-cab06f342937",
   "metadata": {},
   "outputs": [
    {
     "name": "stdout",
     "output_type": "stream",
     "text": [
      "(81866, 18)\n",
      "[('entry_id', 'bigint'), ('region_url', 'string'), ('price', 'bigint'), ('manufactured_year', 'int'), ('manufacturer', 'string'), ('model', 'string'), ('car_condition', 'string'), ('cylinders', 'string'), ('fuel', 'string'), ('odometer', 'int'), ('transmission', 'string'), ('car_drive', 'string'), ('car_size', 'string'), ('car_type', 'string'), ('paint_color', 'string'), ('latitude', 'double'), ('longitude', 'double'), ('us_state', 'string')]\n",
      "+----------+--------------------+-----+-----------------+-------------+--------------------+-------------+-----------+------+--------+------------+---------+---------+-----------+-----------+------------------+-------------------+--------+\n",
      "|  entry_id|          region_url|price|manufactured_year| manufacturer|               model|car_condition|  cylinders|  fuel|odometer|transmission|car_drive| car_size|   car_type|paint_color|          latitude|          longitude|us_state|\n",
      "+----------+--------------------+-----+-----------------+-------------+--------------------+-------------+-----------+------+--------+------------+---------+---------+-----------+-----------+------------------+-------------------+--------+\n",
      "|7301824643|yubasutter.craigs...| 6250|             2006|          bmw|                325i|     like new|6 cylinders|   gas|  140000|   automatic|      rwd|  compact|      sedan|     silver| 39.17245864868164|-121.63050842285156|      ca|\n",
      "|7304352956|yubasutter.craigs...|12995|             2018|          kia|       optima hybrid|    excellent|4 cylinders|hybrid|  116994|   automatic|      fwd| mid-size|      sedan|unspecified|  38.6119270324707|-121.42356872558594|      ca|\n",
      "|7304599177|yubasutter.craigs...| 8000|             2013|         ford|    c-max hybrid sel|    excellent|4 cylinders|   gas|   78090|   automatic|      fwd|  compact|  hatchback|      black| 39.08610153198242|-121.54969787597656|      ca|\n",
      "|7306444342|yubasutter.craigs...|27000|             2018|mercedes-benz|        benz cla 250|    excellent|4 cylinders|   gas|   37722|   automatic|      fwd|  compact|      coupe|      white| 39.12369918823242|-121.66110229492188|      ca|\n",
      "|7306828375|yubasutter.craigs...|12900|             2003|         ford|super duty f350 d...|    excellent|8 cylinders|diesel|  228000|   automatic|      4wd|full-size|     pickup|      white|39.260101318359375|-121.69229888916016|      ca|\n",
      "|7307424362|yubasutter.craigs...|21995|             2013|          ram|                1500|    excellent|8 cylinders|   gas|  152703|   automatic|      4wd|full-size|     pickup|unspecified|  38.6119270324707|-121.42356872558594|      ca|\n",
      "|7307424765|yubasutter.craigs...| 8995|             2014|         ford|               focus|    excellent|4 cylinders|   gas|   91819|   automatic|      fwd|  compact|      sedan|unspecified|  38.6119270324707|-121.42356872558594|      ca|\n",
      "|7308518289|yubasutter.craigs...| 7500|             1978|    chevrolet| corvette c3 stinray|         good|8 cylinders|   gas|   70000|      manual|      rwd|full-size|convertible|      white|  39.1321907043457|-121.63477325439453|      ca|\n",
      "|7309647230|yubasutter.craigs...|15000|             2007|         ford|     f250 super duty|         good|8 cylinders|diesel|  235000|   automatic|      rwd|full-size|     pickup|     silver|39.022483825683594|-121.61286163330078|      ca|\n",
      "|7310802965|yubasutter.craigs...| 2000|             2004|        honda|      element ex awd|      salvage|4 cylinders|   gas|  271323|   automatic|      4wd| mid-size|        SUV|     silver| 39.12099838256836| -121.5562973022461|      ca|\n",
      "+----------+--------------------+-----+-----------------+-------------+--------------------+-------------+-----------+------+--------+------------+---------+---------+-----------+-----------+------------------+-------------------+--------+\n",
      "only showing top 10 rows\n",
      "\n",
      "None\n",
      "+-----------+\n",
      "|paint_color|\n",
      "+-----------+\n",
      "|       grey|\n",
      "|      green|\n",
      "|     silver|\n",
      "|      white|\n",
      "|        red|\n",
      "|unspecified|\n",
      "|     custom|\n",
      "|      black|\n",
      "|       blue|\n",
      "|      brown|\n",
      "|     orange|\n",
      "|     purple|\n",
      "|     yellow|\n",
      "+-----------+\n",
      "\n",
      "None\n"
     ]
    }
   ],
   "source": [
    "# dataframe size\n",
    "# (81866, 18)\n",
    "print((cars.count(), len(cars.columns)))\n",
    "\n",
    "# scema (dtypes actually schema is df.shema)\n",
    "print(cars.dtypes)\n",
    "\n",
    "# show first 10\n",
    "print(cars.show(10))\n",
    "\n",
    "# select unique\n",
    "print(cars.select('paint_color').distinct().show())"
   ]
  },
  {
   "cell_type": "code",
   "execution_count": 15,
   "id": "d279866d-05d1-41f6-8f38-8c0b3cd2920e",
   "metadata": {},
   "outputs": [
    {
     "data": {
      "text/plain": [
       "[Row(model='clubman cooper hatchback'),\n",
       " Row(model='cooper clubman'),\n",
       " Row(model='cooper countryman base'),\n",
       " Row(model='cooper countryman s all4awd'),\n",
       " Row(model='cooper hardtop'),\n",
       " Row(model='cooper mt convertible'),\n",
       " Row(model='cooper s countryman'),\n",
       " Row(model='cooper s countryman all 4'),\n",
       " Row(model='cooper s hardtop'),\n",
       " Row(model='cooper s hatchback'),\n",
       " Row(model='cooper s jcw'),\n",
       " Row(model='cooper s.'),\n",
       " Row(model='cooper sport'),\n",
       " Row(model='coopers s countryman'),\n",
       " Row(model='hardtop cooper hatchback'),\n",
       " Row(model='john cooper works'),\n",
       " Row(model='cargo'),\n",
       " Row(model='coooper s camden'),\n",
       " Row(model='cooper'),\n",
       " Row(model='cooper 2dr coupe base'),\n",
       " Row(model='cooper 6 spd convertible'),\n",
       " Row(model='cooper base 2dr hatchback'),\n",
       " Row(model='cooper clubman jcw'),\n",
       " Row(model='cooper clubman s'),\n",
       " Row(model='cooper convertible'),\n",
       " Row(model='cooper country'),\n",
       " Row(model='cooper countryman'),\n",
       " Row(model='cooper countryman all4'),\n",
       " Row(model='cooper countryman s'),\n",
       " Row(model='cooper countryman s all4'),\n",
       " Row(model='cooper countryman s awd'),\n",
       " Row(model='cooper hardtop 2dr'),\n",
       " Row(model='cooper hardtop s'),\n",
       " Row(model='cooper hardtop s baywaters'),\n",
       " Row(model='cooper hatchback'),\n",
       " Row(model='cooper paceman s'),\n",
       " Row(model='cooper roadster'),\n",
       " Row(model='cooper s'),\n",
       " Row(model='cooper s clubman'),\n",
       " Row(model='cooper s convertible'),\n",
       " Row(model='cooper s countryman all4'),\n",
       " Row(model='cooper s paceman all4'),\n",
       " Row(model='cooper s turbo'),\n",
       " Row(model='countryman'),\n",
       " Row(model='countryman cooper s'),\n",
       " Row(model='countryman s all 4'),\n",
       " Row(model='deluxe'),\n",
       " Row(model='hardtop cooper s hatchback'),\n",
       " Row(model='moke')]"
      ]
     },
     "execution_count": 14,
     "metadata": {},
     "output_type": "execute_result"
    }
   ],
   "source": [
    "# as we can see, our data is messed up (cooper s. == cooper s && countryman == cooper countryman && others...)\n",
    "cars.select('model').distinct().where(cars.manufacturer == 'mini').collect()  # this trend is the same for other manufacturers as well"
   ]
  },
  {
   "cell_type": "code",
   "execution_count": 68,
   "id": "7f5fd4b3-37f3-4c38-a8f0-c7ae94d7f531",
   "metadata": {},
   "outputs": [],
   "source": [
    "from pyspark.ml import Pipeline\n",
    "from pyspark.ml.feature import StringIndexer, OneHotEncoder, VectorAssembler, StandardScaler\n",
    "from pyspark.sql.functions import col\n",
    "\n",
    "# determine columns to use\n",
    "drop_cols = ['entry_id', 'model', 'paint_color']  # model is too variable in general\n",
    "categorical_cols = ['manufacturer', 'car_condition', 'cylinders', 'fuel', 'transmission', 'car_drive', 'car_size', 'car_type', 'us_state', 'region_url']\n",
    "numerical_cols = ['manufactured_year', 'odometer']\n",
    "location_cols = ['latitude', 'longitude']\n",
    "\n",
    "# make indexer\n",
    "stages = []\n",
    "\n",
    "for cat_col in categorical_cols:\n",
    "    string_indexer = StringIndexer(inputCol=cat_col, outputCol=f\"{cat_col}_index\")\n",
    "    encoder = OneHotEncoder(\n",
    "        inputCols=[f\"{cat_col}_index\"],\n",
    "        outputCols=[f\"{cat_col}_encoded\"]\n",
    "    )\n",
    "    stages += [string_indexer, encoder]\n",
    "\n",
    "# location transformer\n",
    "latlong_transformer = LatLongToXYZ(inputCols=location_cols, outputCols=['x', 'y', 'z'])\n",
    "stages.append(latlong_transformer)\n",
    "\n",
    "# concatinate all encoded data\n",
    "assembler = VectorAssembler(\n",
    "    inputCols=[f\"{cat_col}_encoded\" for cat_col in categorical_cols] + numerical_cols + ['x', 'y', 'z'],\n",
    "    outputCol=\"features\"\n",
    ")\n",
    "stages += [assembler]"
   ]
  },
  {
   "cell_type": "code",
   "execution_count": 69,
   "id": "f7f0e744-2322-4741-a470-e2cd550735a4",
   "metadata": {},
   "outputs": [],
   "source": [
    "# make a full pipeline\n",
    "pipeline = Pipeline(stages=stages)\n",
    "# pipeline.write().overwrite().save(\"pipeline\")"
   ]
  },
  {
   "cell_type": "code",
   "execution_count": 70,
   "id": "2f0adea1-401d-4d8f-bc4a-aa50ad98f050",
   "metadata": {},
   "outputs": [],
   "source": [
    "# make final adjustements & process data\n",
    "cars = cars.dropna()\n",
    "\n",
    "data_preprocessor = pipeline.fit(cars)\n",
    "data = data_preprocessor.transform(cars).select('features', 'price')"
   ]
  },
  {
   "cell_type": "code",
   "execution_count": 71,
   "id": "bcc73e66-567f-4a5c-b723-f133d9dea4e7",
   "metadata": {},
   "outputs": [
    {
     "data": {
      "text/plain": [
       "[Row(features=SparseVector(542, {2: 1.0, 41: 1.0, 46: 1.0, 52: 1.0, 56: 1.0, 59: 1.0, 62: 1.0, 70: 1.0, 120: 1.0, 247: 1.0, 537: 1995.0, 538: 199200.0, 539: 1229148.625, 540: -4787495.0, 541: 4017578.25}))]"
      ]
     },
     "execution_count": 71,
     "metadata": {},
     "output_type": "execute_result"
    }
   ],
   "source": [
    "data.select('features').take(1)"
   ]
  },
  {
   "cell_type": "code",
   "execution_count": null,
   "id": "ff67623b-6911-4fef-ae4f-a8b6c95b4126",
   "metadata": {},
   "outputs": [],
   "source": []
  },
  {
   "cell_type": "code",
   "execution_count": null,
   "id": "6f7aa4a5-7b12-4a3b-bf3a-34711e451be2",
   "metadata": {},
   "outputs": [],
   "source": []
  },
  {
   "cell_type": "code",
   "execution_count": 72,
   "id": "22e3c13f-ccd2-4348-98b7-0ce0d973b6f3",
   "metadata": {},
   "outputs": [],
   "source": [
    "# from pyspark.ml.feature import VectorIndexer\n",
    "# from pyspark.ml.evaluation import RegressionEvaluator\n",
    "\n",
    "\n",
    "# # select non-categorical features & transform them\n",
    "# feature_indexer = VectorIndexer(inputCol=\"features\", outputCol=\"indexedFeatures\", maxCategories=4).fit(data)\n",
    "# transformed = feature_indexer.transform(data)\n",
    "\n",
    "# # Display the output Spark DataFrame\n",
    "# transformed.show()"
   ]
  },
  {
   "cell_type": "code",
   "execution_count": 73,
   "id": "e5325774-d7b7-461f-97ce-b1926415ff5e",
   "metadata": {},
   "outputs": [],
   "source": [
    "(train_data, test_data) = data.randomSplit([0.8, 0.2])"
   ]
  },
  {
   "cell_type": "code",
   "execution_count": 74,
   "id": "67f05a8d-7e5d-4f30-a107-0d168c8cb541",
   "metadata": {},
   "outputs": [],
   "source": [
    "# from pyspark.sql.functions import percentile\n",
    "\n",
    "# data.select(\n",
    "#     percentile(\"price\", [0.25, 0.5, 0.75], lit(1)).alias(\"quantiles\")\n",
    "# ).show()"
   ]
  },
  {
   "cell_type": "code",
   "execution_count": 75,
   "id": "3138b9d1-c4b1-44c7-9cdc-460855fb062d",
   "metadata": {},
   "outputs": [],
   "source": [
    "from pyspark.ml.regression import LinearRegression\n",
    "\n",
    "# Create Linear Regression Model & final pipeline\n",
    "lr = LinearRegression(labelCol=\"price\", featuresCol='features')"
   ]
  },
  {
   "cell_type": "code",
   "execution_count": 76,
   "id": "942a8925-01bd-4f63-afba-7e9b27415d48",
   "metadata": {},
   "outputs": [
    {
     "data": {
      "text/plain": [
       "65595"
      ]
     },
     "execution_count": 76,
     "metadata": {},
     "output_type": "execute_result"
    }
   ],
   "source": [
    "train_data.count()"
   ]
  },
  {
   "cell_type": "code",
   "execution_count": 77,
   "id": "62bc4782-3884-4629-9a0b-6dddaf72f1b1",
   "metadata": {},
   "outputs": [],
   "source": [
    "# train model\n",
    "model = lr.fit(train_data)"
   ]
  },
  {
   "cell_type": "code",
   "execution_count": 78,
   "id": "623852cf-5467-4f9e-a912-66b44be85bf5",
   "metadata": {},
   "outputs": [
    {
     "name": "stdout",
     "output_type": "stream",
     "text": [
      "+--------------------+-----+-------------------+\n",
      "|            features|price|         prediction|\n",
      "+--------------------+-----+-------------------+\n",
      "|(542,[0,40,45,52,...|31500|-219449.97382525107|\n",
      "|(542,[0,40,45,52,...|33499|-189159.41529206318|\n",
      "|(542,[0,40,45,52,...|39900| -188977.3125532193|\n",
      "|(542,[0,40,45,52,...|27900|  671367.9657976518|\n",
      "|(542,[0,40,45,52,...|22600|   592799.012605165|\n",
      "|(542,[0,40,45,52,...| 7999| -304088.9328949542|\n",
      "|(542,[0,40,45,52,...|43900|-267371.25804451376|\n",
      "|(542,[0,40,45,52,...| 7400|-283122.29327716446|\n",
      "|(542,[0,40,45,52,...| 7400|-283122.29327716446|\n",
      "|(542,[0,40,45,52,...|18900|-181959.52914901407|\n",
      "|(542,[0,40,45,52,...|18999|  520966.7431972601|\n",
      "|(542,[0,40,45,52,...|10500| -266252.9751788009|\n",
      "|(542,[0,40,46,52,...| 4900|-242080.80913911774|\n",
      "|(542,[0,40,46,52,...|12900|  -280948.992060779|\n",
      "|(542,[0,40,46,52,...|19999| -319193.2481292379|\n",
      "|(542,[0,40,46,52,...|11550| -221646.3110006626|\n",
      "|(542,[0,40,46,52,...| 7900| -308908.0478423039|\n",
      "|(542,[0,40,46,52,...|32475|-288556.90162780357|\n",
      "|(542,[0,40,47,52,...|16900|  73952.05528412302|\n",
      "|(542,[0,40,47,52,...|32950|  94615.80799299903|\n",
      "+--------------------+-----+-------------------+\n",
      "only showing top 20 rows\n",
      "\n"
     ]
    }
   ],
   "source": [
    "# make predictions\n",
    "predictions = model.transform(test_data)\n",
    "\n",
    "# show predictions\n",
    "predictions.show()"
   ]
  },
  {
   "cell_type": "code",
   "execution_count": 79,
   "id": "0bff9f88-8458-4bdc-90d0-fb7693f23a7a",
   "metadata": {},
   "outputs": [
    {
     "name": "stdout",
     "output_type": "stream",
     "text": [
      "Root Mean Squared Error (RMSE) on test data = 912292.845491784\n"
     ]
    }
   ],
   "source": [
    "from pyspark.ml.evaluation import RegressionEvaluator \n",
    "\n",
    "# Evaluate the performance of the model\n",
    "evaluator = RegressionEvaluator(labelCol=\"price\", predictionCol=\"prediction\", metricName=\"rmse\")\n",
    "rmse = evaluator.evaluate(predictions)\n",
    "print(\"Root Mean Squared Error (RMSE) on test data = {}\".format(rmse))"
   ]
  },
  {
   "cell_type": "code",
   "execution_count": 80,
   "id": "3f318bef-14ed-4d2c-9f11-1a660ecdca07",
   "metadata": {},
   "outputs": [],
   "source": [
    "from pyspark.ml.regression import DecisionTreeRegressor\n",
    "\n",
    "# Create Linear Regression Model & final pipeline\n",
    "dt = DecisionTreeRegressor(labelCol=\"price\", featuresCol='features')"
   ]
  },
  {
   "cell_type": "code",
   "execution_count": 81,
   "id": "5c72d3ea-7cdd-4f9d-be18-dd225d2fb717",
   "metadata": {},
   "outputs": [],
   "source": [
    "model = dt.fit(train_data)"
   ]
  },
  {
   "cell_type": "code",
   "execution_count": 82,
   "id": "2c6558ad-a449-42e7-8127-f5b8d53b2a78",
   "metadata": {},
   "outputs": [
    {
     "name": "stdout",
     "output_type": "stream",
     "text": [
      "+--------------------+-----+------------------+\n",
      "|            features|price|        prediction|\n",
      "+--------------------+-----+------------------+\n",
      "|(542,[0,40,45,52,...|49900|22305.717811704835|\n",
      "|(542,[0,40,45,52,...| 7495|10052.525326830868|\n",
      "|(542,[0,40,45,52,...| 7495|10052.525326830868|\n",
      "|(542,[0,40,46,52,...| 7480|10052.525326830868|\n",
      "|(542,[0,40,47,52,...|10999|10052.525326830868|\n",
      "|(542,[0,40,47,52,...| 2800|10052.525326830868|\n",
      "|(542,[0,40,47,52,...| 9500|10052.525326830868|\n",
      "|(542,[0,40,47,53,...|48900|22305.717811704835|\n",
      "|(542,[0,40,47,53,...|18000|10052.525326830868|\n",
      "|(542,[0,41,45,52,...|    0|22305.717811704835|\n",
      "|(542,[0,41,45,52,...|    0|22305.717811704835|\n",
      "|(542,[0,41,46,52,...| 2995|10052.525326830868|\n",
      "|(542,[0,41,47,52,...|    0|22305.717811704835|\n",
      "|(542,[0,41,47,52,...| 4500|10052.525326830868|\n",
      "|(542,[0,41,47,53,...|12900|10052.525326830868|\n",
      "|(542,[0,41,47,53,...| 6000|10052.525326830868|\n",
      "|(542,[0,41,47,53,...| 5000|10052.525326830868|\n",
      "|(542,[0,42,45,52,...|21800|22305.717811704835|\n",
      "|(542,[0,42,51,52,...|10999|22305.717811704835|\n",
      "|(542,[0,42,51,52,...|10999|22305.717811704835|\n",
      "+--------------------+-----+------------------+\n",
      "only showing top 20 rows\n",
      "\n"
     ]
    }
   ],
   "source": [
    "# make predictions\n",
    "predictions = model.transform(test_data)\n",
    "\n",
    "# show predictions\n",
    "predictions.show()"
   ]
  },
  {
   "cell_type": "code",
   "execution_count": 83,
   "id": "e4cd84ac-46d1-4068-a282-2b6a3fc09b94",
   "metadata": {},
   "outputs": [
    {
     "name": "stdout",
     "output_type": "stream",
     "text": [
      "Root Mean Squared Error (RMSE) on test data = 125696.52159756508\n"
     ]
    }
   ],
   "source": [
    "from pyspark.ml.evaluation import RegressionEvaluator \n",
    "\n",
    "# Evaluate the performance of the model\n",
    "evaluator = RegressionEvaluator(labelCol=\"price\", predictionCol=\"prediction\", metricName=\"rmse\")\n",
    "rmse = evaluator.evaluate(predictions)\n",
    "print(\"Root Mean Squared Error (RMSE) on test data = {}\".format(rmse))"
   ]
  },
  {
   "cell_type": "code",
   "execution_count": null,
   "id": "2eb99c45-f170-4399-81c9-ee77d9e3ddf1",
   "metadata": {},
   "outputs": [],
   "source": []
  },
  {
   "cell_type": "code",
   "execution_count": null,
   "id": "c49bda95-d4ae-401d-99a7-cc844b3b9b2d",
   "metadata": {},
   "outputs": [],
   "source": []
  },
  {
   "cell_type": "code",
   "execution_count": null,
   "id": "948256a3-3df9-48d7-9781-55019ad9a2b8",
   "metadata": {},
   "outputs": [],
   "source": []
  }
 ],
 "metadata": {
  "kernelspec": {
   "display_name": "Python 3",
   "language": "python",
   "name": "python3"
  },
  "language_info": {
   "codemirror_mode": {
    "name": "ipython",
    "version": 3
   },
   "file_extension": ".py",
   "mimetype": "text/x-python",
   "name": "python",
   "nbconvert_exporter": "python",
   "pygments_lexer": "ipython3",
   "version": "3.6.8"
  }
 },
 "nbformat": 4,
 "nbformat_minor": 5
}
