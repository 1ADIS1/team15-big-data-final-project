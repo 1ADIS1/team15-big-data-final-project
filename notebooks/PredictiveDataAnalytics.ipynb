{
 "cells": [
  {
   "cell_type": "markdown",
   "id": "1760a5df-6ac9-470b-8395-26695aa42a57",
   "metadata": {},
   "source": [
    "# Predictive Data Analytics\n",
    "\n",
    "In this notebook we will build an ML model and evaluate results"
   ]
  },
  {
   "cell_type": "code",
   "execution_count": 34,
   "id": "721b71be-d97f-45d5-ae5f-58d656de407a",
   "metadata": {},
   "outputs": [],
   "source": [
    "from pyspark.sql import SparkSession\n",
    "\n",
    "# Add here your team number teamx\n",
    "team = \"team15\"\n",
    "\n",
    "# location of your Hive database in HDFS\n",
    "warehouse = \"project/hive/warehouse\"\n",
    "\n",
    "spark = SparkSession.builder\\\n",
    "        .appName(\"{} - spark ML\".format(team))\\\n",
    "        .config(\"hive.metastore.uris\", \"thrift://hadoop-02.uni.innopolis.ru:9883\")\\\n",
    "        .config(\"spark.sql.warehouse.dir\", warehouse)\\\n",
    "        .config(\"spark.sql.avro.compression.codec\", \"snappy\")\\\n",
    "        .enableHiveSupport()\\\n",
    "        .getOrCreate()\n",
    "\n",
    "#We can also add\n",
    "# .config(\"spark.sql.catalogImplementation\",\"hive\")\\ \n",
    "# But this is the default configuration\n",
    "# You can switch to Spark Catalog by setting \"in-memory\" for \"spark.sql.catalogImplementation\"\n"
   ]
  },
  {
   "cell_type": "code",
   "execution_count": 35,
   "id": "1175add5-4351-4edc-b0c4-601cc1aeff2b",
   "metadata": {},
   "outputs": [
    {
     "name": "stdout",
     "output_type": "stream",
     "text": [
      "+--------------------+\n",
      "|           namespace|\n",
      "+--------------------+\n",
      "|             default|\n",
      "|             root_db|\n",
      "|     team0_projectdb|\n",
      "|team12_hive_proje...|\n",
      "|    team13_projectdb|\n",
      "|    team14_projectdb|\n",
      "|    team15_projectdb|\n",
      "|    team16_projectdb|\n",
      "|    team18_projectdb|\n",
      "|    team19_projectdb|\n",
      "|     team1_projectdb|\n",
      "|    team20_projectdb|\n",
      "|    team21_projectdb|\n",
      "|    team23_projectdb|\n",
      "|    team25_projectdb|\n",
      "|    team26_projectdb|\n",
      "|    team28_projectdb|\n",
      "|     team2_projectdb|\n",
      "|    team30_projectdb|\n",
      "|     team7_projectdb|\n",
      "+--------------------+\n",
      "only showing top 20 rows\n",
      "\n"
     ]
    }
   ],
   "source": [
    "spark.sql(\"SHOW DATABASES\").show()"
   ]
  },
  {
   "cell_type": "code",
   "execution_count": 36,
   "id": "53c2079c-c49b-4d4a-856d-366f7e5d1c13",
   "metadata": {},
   "outputs": [
    {
     "name": "stdout",
     "output_type": "stream",
     "text": [
      "++\n",
      "||\n",
      "++\n",
      "++\n",
      "\n"
     ]
    }
   ],
   "source": [
    "spark.sql(\"USE team15_projectdb\").show()"
   ]
  },
  {
   "cell_type": "code",
   "execution_count": 37,
   "id": "02353e12-6ddc-4bec-adaa-48df2a4c6db5",
   "metadata": {},
   "outputs": [
    {
     "name": "stdout",
     "output_type": "stream",
     "text": [
      "+----------------+--------------------+-----------+\n",
      "|       namespace|           tableName|isTemporary|\n",
      "+----------------+--------------------+-----------+\n",
      "|team15_projectdb|     car_description|      false|\n",
      "|team15_projectdb|car_vehicles_ext_...|      false|\n",
      "|team15_projectdb|          q1_results|      false|\n",
      "|team15_projectdb|          q2_results|      false|\n",
      "|team15_projectdb|          q3_results|      false|\n",
      "+----------------+--------------------+-----------+\n",
      "\n"
     ]
    }
   ],
   "source": [
    "spark.sql(\"SHOW TABLES\").show()"
   ]
  },
  {
   "cell_type": "code",
   "execution_count": 38,
   "id": "81aa02cb-9c85-4dba-bb55-2fe6e599e12e",
   "metadata": {},
   "outputs": [
    {
     "name": "stdout",
     "output_type": "stream",
     "text": [
      "+----------+--------------------+-----+-----------------+-------------+--------------------+-------------+-----------+------+--------+------------+---------+---------+---------+-----------+------------------+-------------------+--------+\n",
      "|  entry_id|          region_url|price|manufactured_year| manufacturer|               model|car_condition|  cylinders|  fuel|odometer|transmission|car_drive| car_size| car_type|paint_color|          latitude|          longitude|us_state|\n",
      "+----------+--------------------+-----+-----------------+-------------+--------------------+-------------+-----------+------+--------+------------+---------+---------+---------+-----------+------------------+-------------------+--------+\n",
      "|7303328786|wyoming.craigslis...|23995|             2013|       toyota|              tundra|         good|8 cylinders|   gas|  114215|   automatic|      4wd|full-size|    truck|      black|44.354923248291016|-106.68038177490234|      wy|\n",
      "|7303328988|wyoming.craigslis...|54995|             2020|mercedes-benz|           gle-class|         good|4 cylinders|   gas|   14426|   automatic|      4wd|full-size|      SUV|      black|44.354923248291016|-106.68038177490234|      wy|\n",
      "|7303328972|wyoming.craigslis...|41995|             2017|     infiniti|                qx80|         good|8 cylinders|   gas|   63994|   automatic|      4wd|full-size|      SUV|     custom|44.354923248291016|-106.68038177490234|      wy|\n",
      "|7303847825|wyoming.craigslis...| 9995|             2015|    chevrolet|      impala limited|     like new|6 cylinders|   gas|   91039|   automatic|      fwd| mid-size|    sedan|       grey| 45.78129959106445|-108.57270050048828|      wy|\n",
      "|7305333755|wyoming.craigslis...| 5500|             2000|         ford|     f250 super duty|         fair|8 cylinders|diesel|  195000|   automatic|      4wd|full-size|   pickup|        red|  44.7849006652832|-106.96479797363281|      wy|\n",
      "|7306237556|wyoming.craigslis...|25000|             2011|          gmc|       sierra 2500hd|    excellent|8 cylinders|diesel|  182000|   automatic|      4wd|full-size|    truck|      black|43.928199768066406|-105.54920196533203|      wy|\n",
      "|7306333284|wyoming.craigslis...| 5200|             2005|       subaru|              legacy|         good|4 cylinders|   gas|  172511|   automatic|      4wd| mid-size|    sedan|       blue|41.143699645996094|-104.79620361328125|      wy|\n",
      "|7306689761|wyoming.craigslis...|22999|             2015|    chevrolet|      silverado 2500|    excellent|8 cylinders|   gas|  179667|   automatic|      4wd|full-size|   pickup|     silver|41.138282775878906|-104.78479766845703|      wy|\n",
      "|7307059015|wyoming.craigslis...| 4200|             2001|       toyota|             sequoia|         fair|8 cylinders|   gas|  287000|   automatic|      4wd|full-size|      SUV|      white| 43.90439987182617|-108.06099700927734|      wy|\n",
      "|7309961831|wyoming.craigslis...|    0|             2016|       toyota|     4runner trd pro|    excellent|6 cylinders|   gas|   45286|   automatic|      4wd|full-size|      SUV|      brown|45.082420349121094|   -94.334716796875|      wy|\n",
      "|7311011984|wyoming.craigslis...|65085|             2021|    chevrolet|3500hd double cab...|          new|8 cylinders|diesel|      20|   automatic|      4wd|full-size|    truck|      white| 42.71780014038086| -114.5011978149414|      wy|\n",
      "|7311074010|wyoming.craigslis...|32495|             2016|       toyota|          tundra 4x4|     like new|8 cylinders|   gas|  101920|   automatic|      4wd|full-size|    truck|      brown| 45.78129959106445|-108.57270050048828|      wy|\n",
      "|7311074998|wyoming.craigslis...|24995|             2014|         jeep|wrangler unlimite...|     like new|6 cylinders|   gas|  112480|   automatic|      4wd|full-size|  offroad|      black| 45.78129959106445|-108.57270050048828|      wy|\n",
      "|7311077017|wyoming.craigslis...|31995|             2014|         ford|f350 diesel power...|     like new|8 cylinders|diesel|  138238|   automatic|      4wd|full-size|    truck|      white| 45.78129959106445|-108.57270050048828|      wy|\n",
      "|7311078031|wyoming.craigslis...|26995|             2014|         ford|f150 lariat super...|     like new|6 cylinders|   gas|  159165|   automatic|      4wd|full-size|    truck|       blue| 45.78129959106445|-108.57270050048828|      wy|\n",
      "|7311084947|wyoming.craigslis...| 9995|             2015|    chevrolet|      impala limited|     like new|6 cylinders|   gas|   91039|   automatic|      fwd| mid-size|    sedan|       grey| 45.78129959106445|-108.57270050048828|      wy|\n",
      "|7311085720|wyoming.craigslis...|24995|             2013|    chevrolet|silverado 3500hd 4x4|     like new|8 cylinders|   gas|  157192|   automatic|      4wd|full-size|    truck|      white| 45.78129959106445|-108.57270050048828|      wy|\n",
      "|7313002471|wyoming.craigslis...| 7995|             2000|         ford|             mustang|     like new|6 cylinders|   gas|   97000|      manual|      rwd|full-size|    coupe|        red|41.143699645996094|-104.79620361328125|      wy|\n",
      "|7314103079|wyoming.craigslis...| 4400|             1982|   volkswagen|              rabbit|         good|4 cylinders|diesel|  162000|      manual|      fwd|full-size|hatchback|        red| 41.42470169067383|-105.47810363769531|      wy|\n",
      "|7316661615|wyoming.craigslis...|15000|             2000|       toyota|          tacoma sr5|    excellent|4 cylinders|   gas|  265000|      manual|      4wd| mid-size|    truck|      green|41.174781799316406|-104.82852172851562|      wy|\n",
      "+----------+--------------------+-----+-----------------+-------------+--------------------+-------------+-----------+------+--------+------------+---------+---------+---------+-----------+------------------+-------------------+--------+\n",
      "only showing top 20 rows\n",
      "\n"
     ]
    }
   ],
   "source": [
    "spark.sql(\"SELECT * FROM team15_projectdb.car_vehicles_ext_part_bucket\").show()"
   ]
  },
  {
   "cell_type": "code",
   "execution_count": 39,
   "id": "adaa41c4-3fd3-4b84-928e-34b46410b8a9",
   "metadata": {},
   "outputs": [
    {
     "name": "stdout",
     "output_type": "stream",
     "text": [
      "Database(name='default', description='Default Hive database', locationUri='hdfs://hadoop-02.uni.innopolis.ru:8020/apps/hive/warehouse')\n",
      "Database(name='root_db', description='', locationUri='hdfs://hadoop-02.uni.innopolis.ru:8020/user/root/root_db')\n",
      "Database(name='team0_projectdb', description='', locationUri='hdfs://hadoop-02.uni.innopolis.ru:8020/user/team0/project/hive/warehouse')\n",
      "Database(name='team12_hive_projectdb', description='', locationUri='hdfs://hadoop-02.uni.innopolis.ru:8020/user/team12/project/hive/warehouse')\n",
      "Database(name='team13_projectdb', description='', locationUri='hdfs://hadoop-02.uni.innopolis.ru:8020/user/team13/project/hive/warehouse')\n",
      "Database(name='team14_projectdb', description='', locationUri='hdfs://hadoop-02.uni.innopolis.ru:8020/user/team14/project/hive/warehouse')\n",
      "Database(name='team15_projectdb', description='', locationUri='hdfs://hadoop-02.uni.innopolis.ru:8020/user/team15/project/hive/warehouse')\n",
      "Database(name='team16_projectdb', description='', locationUri='hdfs://hadoop-02.uni.innopolis.ru:8020/user/team16/project/hive/warehouse')\n",
      "Database(name='team18_projectdb', description='', locationUri='hdfs://hadoop-02.uni.innopolis.ru:8020/user/team18/project/hive/warehouse')\n",
      "Database(name='team19_projectdb', description='', locationUri='hdfs://hadoop-02.uni.innopolis.ru:8020/user/team19/project/hive/warehouse')\n",
      "Database(name='team1_projectdb', description='', locationUri='hdfs://hadoop-02.uni.innopolis.ru:8020/user/team1/project/hive/warehouse')\n",
      "Database(name='team20_projectdb', description='', locationUri='hdfs://hadoop-02.uni.innopolis.ru:8020/user/team20/project/hive/warehouse')\n",
      "Database(name='team21_projectdb', description='', locationUri='hdfs://hadoop-02.uni.innopolis.ru:8020/user/team21/project/hive/warehouse')\n",
      "Database(name='team23_projectdb', description='', locationUri='hdfs://hadoop-02.uni.innopolis.ru:8020/user/team23/project/hive/warehouse')\n",
      "Database(name='team25_projectdb', description='', locationUri='hdfs://hadoop-02.uni.innopolis.ru:8020/user/team25/project/hive/warehouse')\n",
      "Database(name='team26_projectdb', description='', locationUri='hdfs://hadoop-02.uni.innopolis.ru:8020/user/team26/project/hive/warehouse')\n",
      "Database(name='team28_projectdb', description='', locationUri='hdfs://hadoop-02.uni.innopolis.ru:8020/user/team28/project/hive/warehouse')\n",
      "Database(name='team2_projectdb', description='', locationUri='hdfs://hadoop-02.uni.innopolis.ru:8020/user/team2/project/hive/warehouse')\n",
      "Database(name='team30_projectdb', description='', locationUri='hdfs://hadoop-02.uni.innopolis.ru:8020/user/team30/project/hive/warehouse')\n",
      "Database(name='team7_projectdb', description='', locationUri='hdfs://hadoop-02.uni.innopolis.ru:8020/user/team7/project/hive/warehouse')\n",
      "Database(name='team8_projectdb', description='', locationUri='hdfs://hadoop-02.uni.innopolis.ru:8020/user/team8/project/hive/warehouse')\n",
      "Database(name='team9_projectdb', description='', locationUri='hdfs://hadoop-02.uni.innopolis.ru:8020/user/team9/project/hive/warehouse')\n",
      "Database(name='testdb', description='', locationUri='hdfs://hadoop-02.uni.innopolis.ru:8020/apps/hive/warehouse/testdb.db')\n",
      "Database(name='testdb2', description='', locationUri='hdfs://hadoop-02.uni.innopolis.ru:8020/user/team0/project/hive/warehouse2')\n"
     ]
    }
   ],
   "source": [
    "print(*spark.catalog.listDatabases(), sep='\\n')"
   ]
  },
  {
   "cell_type": "code",
   "execution_count": 40,
   "id": "6016eb3a-982b-487f-9e41-0cd9775b2a99",
   "metadata": {},
   "outputs": [
    {
     "name": "stdout",
     "output_type": "stream",
     "text": [
      "Table(name='car_description', database='team15_projectdb', description=None, tableType='EXTERNAL', isTemporary=False)\n",
      "Table(name='car_vehicles_ext_part_bucket', database='team15_projectdb', description=None, tableType='EXTERNAL', isTemporary=False)\n",
      "Table(name='q1_results', database='team15_projectdb', description=None, tableType='EXTERNAL', isTemporary=False)\n",
      "Table(name='q2_results', database='team15_projectdb', description=None, tableType='EXTERNAL', isTemporary=False)\n",
      "Table(name='q3_results', database='team15_projectdb', description=None, tableType='EXTERNAL', isTemporary=False)\n"
     ]
    }
   ],
   "source": [
    "print(*spark.catalog.listTables(\"team15_projectdb\"), sep='\\n')"
   ]
  },
  {
   "cell_type": "code",
   "execution_count": 41,
   "id": "7d8b95b5-f9bc-4f47-98b9-51a5203fc035",
   "metadata": {},
   "outputs": [],
   "source": [
    "cars = spark.read.format(\"avro\").table('team15_projectdb.car_vehicles_ext_part_bucket')"
   ]
  },
  {
   "cell_type": "code",
   "execution_count": 42,
   "id": "56d3b5a3-1b46-47e2-858a-ac1e4b8333fc",
   "metadata": {},
   "outputs": [
    {
     "name": "stdout",
     "output_type": "stream",
     "text": [
      "root\n",
      " |-- entry_id: long (nullable = true)\n",
      " |-- region_url: string (nullable = true)\n",
      " |-- price: long (nullable = true)\n",
      " |-- manufactured_year: integer (nullable = true)\n",
      " |-- manufacturer: string (nullable = true)\n",
      " |-- model: string (nullable = true)\n",
      " |-- car_condition: string (nullable = true)\n",
      " |-- cylinders: string (nullable = true)\n",
      " |-- fuel: string (nullable = true)\n",
      " |-- odometer: integer (nullable = true)\n",
      " |-- transmission: string (nullable = true)\n",
      " |-- car_drive: string (nullable = true)\n",
      " |-- car_size: string (nullable = true)\n",
      " |-- car_type: string (nullable = true)\n",
      " |-- paint_color: string (nullable = true)\n",
      " |-- latitude: double (nullable = true)\n",
      " |-- longitude: double (nullable = true)\n",
      " |-- us_state: string (nullable = true)\n",
      "\n"
     ]
    }
   ],
   "source": [
    "cars.printSchema()"
   ]
  },
  {
   "cell_type": "code",
   "execution_count": 46,
   "id": "046e84e0-f3a4-4a08-b332-5733ce4b2bbe",
   "metadata": {},
   "outputs": [],
   "source": [
    "lat_long = spark.sql(\"SELECT region_url, latitude, longitude FROM team15_projectdb.car_vehicles_ext_part_bucket\").collect()"
   ]
  },
  {
   "cell_type": "code",
   "execution_count": 49,
   "id": "38351d9d-a541-4dde-9dce-0e044d7f6a5a",
   "metadata": {},
   "outputs": [
    {
     "data": {
      "text/plain": [
       "[Row(region_url='honolulu.craigslist.org', latitude=20.88819122314453, longitude=-156.45892333984375),\n",
       " Row(region_url='honolulu.craigslist.org', latitude=20.888132095336914, longitude=-156.45892333984375),\n",
       " Row(region_url='honolulu.craigslist.org', latitude=20.888141632080078, longitude=-156.45887756347656),\n",
       " Row(region_url='honolulu.craigslist.org', latitude=20.881399154663086, longitude=-156.47830200195312),\n",
       " Row(region_url='honolulu.craigslist.org', latitude=21.329500198364258, longitude=-157.8614959716797),\n",
       " Row(region_url='honolulu.craigslist.org', latitude=21.329500198364258, longitude=-157.8614959716797),\n",
       " Row(region_url='honolulu.craigslist.org', latitude=21.329500198364258, longitude=-157.8614959716797),\n",
       " Row(region_url='honolulu.craigslist.org', latitude=21.317899703979492, longitude=-157.8520965576172),\n",
       " Row(region_url='honolulu.craigslist.org', latitude=21.281099319458008, longitude=-157.82659912109375),\n",
       " Row(region_url='honolulu.craigslist.org', latitude=21.299800872802734, longitude=-157.84390258789062)]"
      ]
     },
     "execution_count": 49,
     "metadata": {},
     "output_type": "execute_result"
    }
   ],
   "source": [
    "lat_long[:10]"
   ]
  },
  {
   "cell_type": "code",
   "execution_count": 62,
   "id": "a1085539-d6fd-4525-8973-ed03f81ff56b",
   "metadata": {},
   "outputs": [],
   "source": [
    "from pyspark import keyword_only\n",
    "from pyspark.ml import Transformer\n",
    "from pyspark.ml.param.shared import HasInputCols, HasOutputCols, Param, Params, TypeConverters\n",
    "import pyproj\n",
    "\n",
    "\n",
    "class LatLongToECEF(Transformer, HasInputCols, HasOutputCols):\n",
    "    @keyword_only\n",
    "    def __init__(self, inputCols=None, outputCols=None):\n",
    "        super(LatLongToECEF, self).__init__()\n",
    "        self.pyproj_transformer = pyproj.Transformer.from_crs(\n",
    "            {\"proj\": \"latlong\", \"ellps\": \"WGS84\", \"datum\": \"WGS84\"},\n",
    "            {\"proj\": \"geocent\", \"ellps\": \"WGS84\", \"datum\": \"WGS84\"}\n",
    "        )\n",
    "\n",
    "    @keyword_only\n",
    "    def setParams(self, inputCols=None, outputCols=None):\n",
    "        kwargs = self.setParams._input_kwargs\n",
    "        return self._set(**kwargs)\n",
    "\n",
    "\n",
    "    def _transform(self, dataset):\n",
    "        out_col = self.getOutputCol()\n",
    "        in_col = dataset[self.getInputCol()]\n",
    "        \n",
    "        print(in_col)\n",
    "        print(out_col)\n",
    "\n",
    "#         # Define transformer logic\n",
    "#         def f(vector):\n",
    "#             return self.pyproj_transformer.transform(vector[0], vector[1], 0, radians=False)\n",
    "\n",
    "#         return dataset.withColumn(out_col, udf(lambda x: f(x), t)(in_col))\n",
    "\n",
    "    # Required in Spark >= 3.0\n",
    "    def setInputCol(self, value):\n",
    "        \"\"\"\n",
    "        Sets the value of :py:attr:`inputCol`.\n",
    "        \"\"\"\n",
    "        return self._set(inputCol=value)\n",
    "\n",
    "    # Required in Spark >= 3.0\n",
    "    def setOutputCol(self, value):\n",
    "        \"\"\"\n",
    "        Sets the value of :py:attr:`outputCol`.\n",
    "        \"\"\"\n",
    "        return self._set(outputCol=value)"
   ]
  },
  {
   "cell_type": "code",
   "execution_count": null,
   "id": "8f7f3ce0-ce3b-428b-8696-85e3725b8e9d",
   "metadata": {},
   "outputs": [],
   "source": []
  },
  {
   "cell_type": "code",
   "execution_count": null,
   "id": "562976ca-1df4-4bee-ae96-87577bed102a",
   "metadata": {},
   "outputs": [],
   "source": [
    "pair_assembler = VectorAssembler(inputCols=[\"col1\", \"col2\"], outputCol=\"cols_vector\")"
   ]
  },
  {
   "cell_type": "code",
   "execution_count": null,
   "id": "c8b2e849-16e4-48e6-8b96-ee146b35f16c",
   "metadata": {},
   "outputs": [],
   "source": []
  },
  {
   "cell_type": "code",
   "execution_count": null,
   "id": "9bf73182-9a75-4ffc-a87e-7fb33dc79c6c",
   "metadata": {},
   "outputs": [],
   "source": []
  },
  {
   "cell_type": "code",
   "execution_count": null,
   "id": "2e292faa-5d4a-43fb-9f48-8f49c99b2d92",
   "metadata": {},
   "outputs": [],
   "source": []
  }
 ],
 "metadata": {
  "kernelspec": {
   "display_name": "Python 3",
   "language": "python",
   "name": "python3"
  },
  "language_info": {
   "codemirror_mode": {
    "name": "ipython",
    "version": 3
   },
   "file_extension": ".py",
   "mimetype": "text/x-python",
   "name": "python",
   "nbconvert_exporter": "python",
   "pygments_lexer": "ipython3",
   "version": "3.6.8"
  }
 },
 "nbformat": 4,
 "nbformat_minor": 5
}
