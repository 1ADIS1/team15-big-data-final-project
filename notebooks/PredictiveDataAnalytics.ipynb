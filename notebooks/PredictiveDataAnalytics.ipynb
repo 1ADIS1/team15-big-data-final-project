{
 "cells": [
  {
   "cell_type": "markdown",
   "id": "1760a5df-6ac9-470b-8395-26695aa42a57",
   "metadata": {},
   "source": [
    "# Predictive Data Analytics\n",
    "\n",
    "In this notebook we will build an ML model and evaluate results"
   ]
  },
  {
   "cell_type": "code",
   "execution_count": 1,
   "id": "721b71be-d97f-45d5-ae5f-58d656de407a",
   "metadata": {},
   "outputs": [],
   "source": [
    "from pyspark.sql import SparkSession\n",
    "\n",
    "# Add here your team number teamx\n",
    "team = \"team15\"\n",
    "\n",
    "# location of your Hive database in HDFS\n",
    "warehouse = \"project/hive/warehouse\"\n",
    "\n",
    "spark = SparkSession.builder\\\n",
    "        .appName(\"{} - spark ML\".format(team))\\\n",
    "        .config(\"hive.metastore.uris\", \"thrift://hadoop-02.uni.innopolis.ru:9883\")\\\n",
    "        .config(\"spark.sql.warehouse.dir\", warehouse)\\\n",
    "        .config(\"spark.sql.avro.compression.codec\", \"snappy\")\\\n",
    "        .enableHiveSupport()\\\n",
    "        .getOrCreate()\n",
    "\n",
    "#We can also add\n",
    "# .config(\"spark.sql.catalogImplementation\",\"hive\")\\ \n",
    "# But this is the default configuration\n",
    "# You can switch to Spark Catalog by setting \"in-memory\" for \"spark.sql.catalogImplementation\"\n"
   ]
  },
  {
   "cell_type": "code",
   "execution_count": 2,
   "id": "1175add5-4351-4edc-b0c4-601cc1aeff2b",
   "metadata": {},
   "outputs": [
    {
     "name": "stdout",
     "output_type": "stream",
     "text": [
      "+--------------------+\n",
      "|           namespace|\n",
      "+--------------------+\n",
      "|             default|\n",
      "|             root_db|\n",
      "|     team0_projectdb|\n",
      "|team12_hive_proje...|\n",
      "|    team13_projectdb|\n",
      "|    team14_projectdb|\n",
      "|    team15_projectdb|\n",
      "|    team16_projectdb|\n",
      "|    team18_projectdb|\n",
      "|    team19_projectdb|\n",
      "|     team1_projectdb|\n",
      "|    team20_projectdb|\n",
      "|    team21_projectdb|\n",
      "|    team23_projectdb|\n",
      "|    team25_projectdb|\n",
      "|    team26_projectdb|\n",
      "|    team28_projectdb|\n",
      "|     team2_projectdb|\n",
      "|    team30_projectdb|\n",
      "|    team31_projectdb|\n",
      "+--------------------+\n",
      "only showing top 20 rows\n",
      "\n"
     ]
    }
   ],
   "source": [
    "spark.sql(\"SHOW DATABASES\").show()"
   ]
  },
  {
   "cell_type": "code",
   "execution_count": 3,
   "id": "53c2079c-c49b-4d4a-856d-366f7e5d1c13",
   "metadata": {},
   "outputs": [
    {
     "name": "stdout",
     "output_type": "stream",
     "text": [
      "++\n",
      "||\n",
      "++\n",
      "++\n",
      "\n"
     ]
    }
   ],
   "source": [
    "spark.sql(\"USE team15_projectdb\").show()"
   ]
  },
  {
   "cell_type": "code",
   "execution_count": 4,
   "id": "02353e12-6ddc-4bec-adaa-48df2a4c6db5",
   "metadata": {},
   "outputs": [
    {
     "name": "stdout",
     "output_type": "stream",
     "text": [
      "+----------------+--------------------+-----------+\n",
      "|       namespace|           tableName|isTemporary|\n",
      "+----------------+--------------------+-----------+\n",
      "|team15_projectdb|     car_description|      false|\n",
      "|team15_projectdb|car_vehicles_ext_...|      false|\n",
      "|team15_projectdb|          q1_results|      false|\n",
      "|team15_projectdb|          q2_results|      false|\n",
      "|team15_projectdb|          q3_results|      false|\n",
      "+----------------+--------------------+-----------+\n",
      "\n"
     ]
    }
   ],
   "source": [
    "spark.sql(\"SHOW TABLES\").show()"
   ]
  },
  {
   "cell_type": "code",
   "execution_count": 5,
   "id": "81aa02cb-9c85-4dba-bb55-2fe6e599e12e",
   "metadata": {},
   "outputs": [
    {
     "name": "stdout",
     "output_type": "stream",
     "text": [
      "+----------+--------------------+-----+-----------------+------------+--------------------+-------------+-----------+------+--------+------------+---------+---------+-----------+-----------+------------------+------------------+--------+\n",
      "|  entry_id|          region_url|price|manufactured_year|manufacturer|               model|car_condition|  cylinders|  fuel|odometer|transmission|car_drive| car_size|   car_type|paint_color|          latitude|         longitude|us_state|\n",
      "+----------+--------------------+-----+-----------------+------------+--------------------+-------------+-----------+------+--------+------------+---------+---------+-----------+-----------+------------------+------------------+--------+\n",
      "|7316155743|quincy.craigslist...|19500|             2012|         ram|  1500 quad cab hemi|         good|8 cylinders|   gas|   72000|   automatic|      rwd|full-size|      truck|       blue| 40.89128112792969|-88.65158081054688|      il|\n",
      "|7310286895|stlouis.craigslis...|33990|             2019|         ram|      promaster 2500|         good|6 cylinders|   gas|   34598|   automatic|      rwd|full-size|        van|      white| 38.56631851196289|-90.13450622558594|      il|\n",
      "|7310301630|stlouis.craigslis...|15950|             2014|       acura|                 mdx|    excellent|6 cylinders|   gas|  123000|   automatic|      4wd| mid-size|        SUV|      black| 38.51140213012695|-90.43425750732422|      il|\n",
      "|7310302744|stlouis.craigslis...|11950|             2016|   chevrolet|                trax|    excellent|4 cylinders|   gas|   73000|   automatic|      4wd|  compact|        SUV|       grey|  38.5113525390625|-90.43406677246094|      il|\n",
      "|7310330297|stlouis.craigslis...| 9495|             2009|    chrysler|      town & country|         good|6 cylinders|   gas|   79000|   automatic|      fwd| mid-size|   mini-van|       blue|  38.2116813659668|-90.01287841796875|      il|\n",
      "|7310336752|stlouis.craigslis...|13995|             2011|      toyota|sienna se 8 passe...|    excellent|6 cylinders|   gas|  115677|   automatic|      fwd| mid-size|   mini-van|     silver| 38.96540069580078|-90.95909118652344|      il|\n",
      "|7310384780|stlouis.craigslis...|13995|             2007|      saturn|        sky roadster|     like new|4 cylinders|   gas|   55934|   automatic|      rwd|  compact|convertible|     silver| 38.58549880981445|-90.29290008544922|      il|\n",
      "|7310431234|stlouis.craigslis...|20950|             2015|     hyundai|genesis coupe 3.8...|    excellent|6 cylinders|   gas|   30827|      manual|      rwd| mid-size|      coupe|      white| 38.64910125732422|-90.53579711914062|      il|\n",
      "|7310510529|stlouis.craigslis...|27950|             2016|         gmc| sierra 1500 sle 4x4|     like new|8 cylinders|   gas|  116000|   automatic|      4wd|full-size|      truck|      black| 38.79015350341797|-90.55545043945312|      il|\n",
      "|7310591733|stlouis.craigslis...|25989|             2017|        ford|explorer limited 4x4|    excellent|6 cylinders|   gas|   75214|   automatic|      4wd|full-size|        SUV|       grey| 38.54759979248047| -90.3240966796875|      il|\n",
      "|7311425958|stlouis.craigslis...|31990|             2006|        ford|super duty f-550 drw|         good|8 cylinders|diesel|   59429|   automatic|      4wd|full-size|      truck|        red| 40.46878433227539|-74.28170776367188|      il|\n",
      "|7311426743|stlouis.craigslis...|20990|             2006|   chevrolet|   express cargo van|         good|8 cylinders|diesel|  134296|   automatic|      rwd|full-size|      truck|      white| 40.46878433227539|-74.28170776367188|      il|\n",
      "|7311427582|stlouis.craigslis...|28490|             2008|  mitsubishi|          fuso fe145|         good|4 cylinders|diesel|   70643|   automatic|      rwd|full-size|      truck|      green| 40.46878433227539|-74.28170776367188|      il|\n",
      "|7311473178|stlouis.craigslis...|12495|             2007|   chevrolet|           silverado|    excellent|8 cylinders|   gas|  184000|   automatic|      4wd|full-size|      truck|        red|38.719886779785156| -90.6701889038086|      il|\n",
      "|7311485617|stlouis.craigslis...| 7500|             2015|         kia|            forte ex|    excellent|4 cylinders|   gas|   65000|   automatic|      fwd|full-size|      sedan|       blue| 38.73749923706055|-90.32649993896484|      il|\n",
      "|7311508609|stlouis.craigslis...| 7995|             2015|      nissan|versa note sv hat...|    excellent|4 cylinders|   gas|   48272|   automatic|      fwd|  compact|  hatchback|     silver| 38.80139923095703|-90.50650024414062|      il|\n",
      "|7311619615|stlouis.craigslis...|12495|             2013|       honda|              accord|     like new|4 cylinders|   gas|  116000|   automatic|      fwd| mid-size|      sedan|      white|  38.7198371887207|-90.67034149169922|      il|\n",
      "|7311640489|stlouis.craigslis...| 8995|             2015|        jeep|             patriot|    excellent|4 cylinders|   gas|  159000|   automatic|      4wd|  compact|        SUV|        red| 38.71975326538086|-90.67027282714844|      il|\n",
      "|7311643058|stlouis.craigslis...| 5495|             2013|      nissan|               quest|    excellent|6 cylinders|   gas|  176000|   automatic|      fwd| mid-size|   mini-van|     silver| 38.71977233886719|-90.67027282714844|      il|\n",
      "|7311859312|stlouis.craigslis...|    0|             2013|         gmc|       yukon sle 4x4|     like new|8 cylinders|   gas|  106000|   automatic|      4wd|full-size|        SUV|      white|38.802120208740234|-90.71550750732422|      il|\n",
      "+----------+--------------------+-----+-----------------+------------+--------------------+-------------+-----------+------+--------+------------+---------+---------+-----------+-----------+------------------+------------------+--------+\n",
      "only showing top 20 rows\n",
      "\n"
     ]
    }
   ],
   "source": [
    "spark.sql(\"SELECT * FROM team15_projectdb.car_vehicles_ext_part_bucket\").show()"
   ]
  },
  {
   "cell_type": "code",
   "execution_count": 6,
   "id": "adaa41c4-3fd3-4b84-928e-34b46410b8a9",
   "metadata": {},
   "outputs": [
    {
     "name": "stdout",
     "output_type": "stream",
     "text": [
      "Database(name='default', description='Default Hive database', locationUri='hdfs://hadoop-02.uni.innopolis.ru:8020/apps/hive/warehouse')\n",
      "Database(name='root_db', description='', locationUri='hdfs://hadoop-02.uni.innopolis.ru:8020/user/root/root_db')\n",
      "Database(name='team0_projectdb', description='', locationUri='hdfs://hadoop-02.uni.innopolis.ru:8020/user/team0/project/hive/warehouse')\n",
      "Database(name='team12_hive_projectdb', description='', locationUri='hdfs://hadoop-02.uni.innopolis.ru:8020/user/team12/project/hive/warehouse')\n",
      "Database(name='team13_projectdb', description='', locationUri='hdfs://hadoop-02.uni.innopolis.ru:8020/user/team13/project/hive/warehouse')\n",
      "Database(name='team14_projectdb', description='', locationUri='hdfs://hadoop-02.uni.innopolis.ru:8020/user/team14/project/hive/warehouse')\n",
      "Database(name='team15_projectdb', description='', locationUri='hdfs://hadoop-02.uni.innopolis.ru:8020/user/team15/project/hive/warehouse')\n",
      "Database(name='team16_projectdb', description='', locationUri='hdfs://hadoop-02.uni.innopolis.ru:8020/user/team16/project/hive/warehouse')\n",
      "Database(name='team18_projectdb', description='', locationUri='hdfs://hadoop-02.uni.innopolis.ru:8020/user/team18/project/hive/warehouse')\n",
      "Database(name='team19_projectdb', description='', locationUri='hdfs://hadoop-02.uni.innopolis.ru:8020/user/team19/project/hive/warehouse')\n",
      "Database(name='team1_projectdb', description='', locationUri='hdfs://hadoop-02.uni.innopolis.ru:8020/user/team1/project/hive/warehouse')\n",
      "Database(name='team20_projectdb', description='', locationUri='hdfs://hadoop-02.uni.innopolis.ru:8020/user/team20/project/hive/warehouse')\n",
      "Database(name='team21_projectdb', description='', locationUri='hdfs://hadoop-02.uni.innopolis.ru:8020/user/team21/project/hive/warehouse')\n",
      "Database(name='team23_projectdb', description='', locationUri='hdfs://hadoop-02.uni.innopolis.ru:8020/user/team23/project/hive/warehouse')\n",
      "Database(name='team25_projectdb', description='', locationUri='hdfs://hadoop-02.uni.innopolis.ru:8020/user/team25/project/hive/warehouse')\n",
      "Database(name='team26_projectdb', description='', locationUri='hdfs://hadoop-02.uni.innopolis.ru:8020/user/team26/project/hive/warehouse')\n",
      "Database(name='team28_projectdb', description='', locationUri='hdfs://hadoop-02.uni.innopolis.ru:8020/user/team28/project/hive/warehouse')\n",
      "Database(name='team2_projectdb', description='', locationUri='hdfs://hadoop-02.uni.innopolis.ru:8020/user/team2/project/hive/warehouse')\n",
      "Database(name='team30_projectdb', description='', locationUri='hdfs://hadoop-02.uni.innopolis.ru:8020/user/team30/project/hive/warehouse')\n",
      "Database(name='team31_projectdb', description='', locationUri='hdfs://hadoop-02.uni.innopolis.ru:8020/user/team31/project/hive/warehouse')\n",
      "Database(name='team4_projectdb', description='', locationUri='hdfs://hadoop-02.uni.innopolis.ru:8020/user/team4/project/hive/warehouse')\n",
      "Database(name='team7_projectdb', description='', locationUri='hdfs://hadoop-02.uni.innopolis.ru:8020/user/team7/project/hive/warehouse')\n",
      "Database(name='team8_projectdb', description='', locationUri='hdfs://hadoop-02.uni.innopolis.ru:8020/user/team8/project/hive/warehouse')\n",
      "Database(name='team9_projectdb', description='', locationUri='hdfs://hadoop-02.uni.innopolis.ru:8020/user/team9/project/hive/warehouse')\n",
      "Database(name='testdb', description='', locationUri='hdfs://hadoop-02.uni.innopolis.ru:8020/apps/hive/warehouse/testdb.db')\n",
      "Database(name='testdb2', description='', locationUri='hdfs://hadoop-02.uni.innopolis.ru:8020/user/team0/project/hive/warehouse2')\n"
     ]
    }
   ],
   "source": [
    "print(*spark.catalog.listDatabases(), sep='\\n')"
   ]
  },
  {
   "cell_type": "code",
   "execution_count": 7,
   "id": "6016eb3a-982b-487f-9e41-0cd9775b2a99",
   "metadata": {},
   "outputs": [
    {
     "name": "stdout",
     "output_type": "stream",
     "text": [
      "Table(name='car_description', database='team15_projectdb', description=None, tableType='EXTERNAL', isTemporary=False)\n",
      "Table(name='car_vehicles_ext_part_bucket', database='team15_projectdb', description=None, tableType='EXTERNAL', isTemporary=False)\n",
      "Table(name='q1_results', database='team15_projectdb', description=None, tableType='EXTERNAL', isTemporary=False)\n",
      "Table(name='q2_results', database='team15_projectdb', description=None, tableType='EXTERNAL', isTemporary=False)\n",
      "Table(name='q3_results', database='team15_projectdb', description=None, tableType='EXTERNAL', isTemporary=False)\n"
     ]
    }
   ],
   "source": [
    "print(*spark.catalog.listTables(\"team15_projectdb\"), sep='\\n')"
   ]
  },
  {
   "cell_type": "code",
   "execution_count": 8,
   "id": "7d8b95b5-f9bc-4f47-98b9-51a5203fc035",
   "metadata": {},
   "outputs": [],
   "source": [
    "cars = spark.read.format(\"avro\").table('team15_projectdb.car_vehicles_ext_part_bucket')"
   ]
  },
  {
   "cell_type": "code",
   "execution_count": 9,
   "id": "56d3b5a3-1b46-47e2-858a-ac1e4b8333fc",
   "metadata": {},
   "outputs": [
    {
     "name": "stdout",
     "output_type": "stream",
     "text": [
      "root\n",
      " |-- entry_id: long (nullable = true)\n",
      " |-- region_url: string (nullable = true)\n",
      " |-- price: long (nullable = true)\n",
      " |-- manufactured_year: integer (nullable = true)\n",
      " |-- manufacturer: string (nullable = true)\n",
      " |-- model: string (nullable = true)\n",
      " |-- car_condition: string (nullable = true)\n",
      " |-- cylinders: string (nullable = true)\n",
      " |-- fuel: string (nullable = true)\n",
      " |-- odometer: integer (nullable = true)\n",
      " |-- transmission: string (nullable = true)\n",
      " |-- car_drive: string (nullable = true)\n",
      " |-- car_size: string (nullable = true)\n",
      " |-- car_type: string (nullable = true)\n",
      " |-- paint_color: string (nullable = true)\n",
      " |-- latitude: double (nullable = true)\n",
      " |-- longitude: double (nullable = true)\n",
      " |-- us_state: string (nullable = true)\n",
      "\n"
     ]
    }
   ],
   "source": [
    "cars.printSchema()"
   ]
  },
  {
   "cell_type": "code",
   "execution_count": 10,
   "id": "046e84e0-f3a4-4a08-b332-5733ce4b2bbe",
   "metadata": {},
   "outputs": [],
   "source": [
    "lat_long = spark.sql(\"SELECT region_url, latitude, longitude FROM team15_projectdb.car_vehicles_ext_part_bucket\").collect()"
   ]
  },
  {
   "cell_type": "code",
   "execution_count": 11,
   "id": "38351d9d-a541-4dde-9dce-0e044d7f6a5a",
   "metadata": {},
   "outputs": [
    {
     "data": {
      "text/plain": [
       "[Row(region_url='delaware.craigslist.org', latitude=39.293399810791016, longitude=-75.60079956054688),\n",
       " Row(region_url='delaware.craigslist.org', latitude=40.00656509399414, longitude=-75.08851623535156),\n",
       " Row(region_url='delaware.craigslist.org', latitude=39.612125396728516, longitude=-75.68429565429688),\n",
       " Row(region_url='delaware.craigslist.org', latitude=39.75065231323242, longitude=-75.5266342163086),\n",
       " Row(region_url='delaware.craigslist.org', latitude=38.73809814453125, longitude=-75.17469787597656),\n",
       " Row(region_url='delaware.craigslist.org', latitude=40.46878433227539, longitude=-74.28170776367188),\n",
       " Row(region_url='delaware.craigslist.org', latitude=40.46878433227539, longitude=-74.28170776367188),\n",
       " Row(region_url='delaware.craigslist.org', latitude=40.46878433227539, longitude=-74.28170776367188),\n",
       " Row(region_url='delaware.craigslist.org', latitude=40.46878433227539, longitude=-74.28170776367188),\n",
       " Row(region_url='delaware.craigslist.org', latitude=39.20555877685547, longitude=-75.56366729736328)]"
      ]
     },
     "execution_count": 11,
     "metadata": {},
     "output_type": "execute_result"
    }
   ],
   "source": [
    "lat_long[:10]"
   ]
  },
  {
   "cell_type": "code",
   "execution_count": 12,
   "id": "a1085539-d6fd-4525-8973-ed03f81ff56b",
   "metadata": {},
   "outputs": [],
   "source": [
    "from pyspark import keyword_only\n",
    "from pyspark.ml import Transformer\n",
    "from pyspark.ml.feature import VectorAssembler\n",
    "from pyspark.ml.param.shared import HasInputCol, HasOutputCol, Param, Params, TypeConverters, HasInputCols, HasOutputCols\n",
    "from pyspark.sql.types import ArrayType, DoubleType, FloatType\n",
    "from pyspark.sql.functions import udf\n",
    "import pyspark.sql.functions as F\n",
    "import pyproj\n",
    "\n",
    "\n",
    "class LatLongToXYZ(Transformer, HasInputCols, HasOutputCols):\n",
    "    @keyword_only\n",
    "    def __init__(self, inputCols=None, outputCols=None):\n",
    "        super(LatLongToXYZ, self).__init__()\n",
    "        kwargs = self._input_kwargs\n",
    "        self.setParams(**kwargs)\n",
    "\n",
    "    def _transform(self, dataset):\n",
    "        def f(lat, lon):\n",
    "            pyproj_transformer = pyproj.Transformer.from_crs(\n",
    "                {\"proj\": \"latlong\", \"ellps\": \"WGS84\", \"datum\": \"WGS84\"},\n",
    "                {\"proj\": \"geocent\", \"ellps\": \"WGS84\", \"datum\": \"WGS84\"}\n",
    "            )\n",
    "\n",
    "            x, y, z = pyproj_transformer.transform(lat, lon, 0)\n",
    "            return [float(x), float(y), float(z)]\n",
    "\n",
    "        # make an udf\n",
    "        t = ArrayType(FloatType())\n",
    "        udf_func = udf(f, t)\n",
    "\n",
    "        #  Apply the UDF to the input columns\n",
    "        in_cols = dataset.select(self.getInputCols()).columns\n",
    "        dataset = dataset.withColumn(self.getOutputCols()[0], udf_func(*in_cols)[0])\n",
    "        dataset = dataset.withColumn(self.getOutputCols()[1], udf_func(*in_cols)[1])\n",
    "        dataset = dataset.withColumn(self.getOutputCols()[2], udf_func(*in_cols)[2])\n",
    "\n",
    "        return dataset\n",
    "\n",
    "    @keyword_only\n",
    "    def setParams(self, inputCols=None, outputCols=None):\n",
    "        kwargs = self._input_kwargs\n",
    "        return self._set(**kwargs)"
   ]
  },
  {
   "cell_type": "code",
   "execution_count": 13,
   "id": "8f7f3ce0-ce3b-428b-8696-85e3725b8e9d",
   "metadata": {},
   "outputs": [],
   "source": [
    "# from pyspark.ml import Pipeline\n",
    "\n",
    "# latlong_transformer = LatLongToXYZ(inputCols=[\"latitude\", \"longitude\"], outputCols=['x', 'y', 'z'])\n",
    "# pipeline = Pipeline(stages=[latlong_transformer])\n",
    "\n",
    "# pipe_tranformer = pipeline.fit(cars)\n",
    "# # Fit the pipeline ==> This will call the transform functions for all transformers\n",
    "# data = pipe_tranformer.transform(cars)\n",
    "\n",
    "# data.show(10)"
   ]
  },
  {
   "cell_type": "code",
   "execution_count": null,
   "id": "01bd0124-4766-408b-941f-3dd3f78f4c97",
   "metadata": {},
   "outputs": [],
   "source": []
  },
  {
   "cell_type": "code",
   "execution_count": 14,
   "id": "41aefabf-9c70-4ee3-b254-cab06f342937",
   "metadata": {},
   "outputs": [
    {
     "name": "stdout",
     "output_type": "stream",
     "text": [
      "(81866, 18)\n",
      "[('entry_id', 'bigint'), ('region_url', 'string'), ('price', 'bigint'), ('manufactured_year', 'int'), ('manufacturer', 'string'), ('model', 'string'), ('car_condition', 'string'), ('cylinders', 'string'), ('fuel', 'string'), ('odometer', 'int'), ('transmission', 'string'), ('car_drive', 'string'), ('car_size', 'string'), ('car_type', 'string'), ('paint_color', 'string'), ('latitude', 'double'), ('longitude', 'double'), ('us_state', 'string')]\n",
      "+----------+--------------------+-----+-----------------+------------+--------------------+-------------+-----------+------+--------+------------+---------+---------+--------+-----------+------------------+------------------+--------+\n",
      "|  entry_id|          region_url|price|manufactured_year|manufacturer|               model|car_condition|  cylinders|  fuel|odometer|transmission|car_drive| car_size|car_type|paint_color|          latitude|         longitude|us_state|\n",
      "+----------+--------------------+-----+-----------------+------------+--------------------+-------------+-----------+------+--------+------------+---------+---------+--------+-----------+------------------+------------------+--------+\n",
      "|7302118731|providence.craigs...| 5100|             2005|      toyota|      avalon limited|         good|6 cylinders|   gas|  180806|   automatic|      fwd|full-size|   sedan|     silver|41.702598571777344|-71.44760131835938|      ri|\n",
      "|7302876706|providence.craigs...| 7750|             2010|        ford|     f250 super duty|         good|8 cylinders|   gas|  220000|   automatic|      4wd|full-size|   truck|      green| 41.77159881591797|-71.46589660644531|      ri|\n",
      "|7304608655|providence.craigs...|10995|             2011|       lexus|               es350|    excellent|6 cylinders|   gas|  114000|   automatic|      fwd| mid-size|   sedan|       grey|41.877567291259766|-71.40909576416016|      ri|\n",
      "|7304632298|providence.craigs...|10495|             2012|        audi|a5 2.0t premium plus|    excellent|4 cylinders|   gas|  112000|   automatic|      4wd| mid-size|   coupe|       grey|41.877567291259766|-71.40909576416016|      ri|\n",
      "|7304942353|providence.craigs...| 3000|             1996|      toyota|          corolla dx|         fair|4 cylinders|   gas|  120000|   automatic|      fwd|  compact|   sedan|      white| 41.48759841918945|-71.32710266113281|      ri|\n",
      "|7305074606|providence.craigs...|30895|             2017|       honda|         pilot elite|     like new|6 cylinders|   gas|   43685|   automatic|      4wd|full-size|     SUV|     silver| 42.06169891357422|  -71.339599609375|      ri|\n",
      "|7305390731|providence.craigs...| 4988|             2008|     hyundai|         elantra gls|    excellent|4 cylinders|   gas|  133000|   automatic|      fwd|  compact|   sedan|       grey| 41.79584884643555|-71.35396575927734|      ri|\n",
      "|7305614822|providence.craigs...|35900|             2013|        ford|                f750|    excellent|6 cylinders|diesel|  170065|   automatic|      rwd|full-size|   truck|      white| 41.66202926635742|-71.57176971435547|      ri|\n",
      "|7305666093|providence.craigs...|19999|             2015|        jeep|grand cherokee li...|    excellent|6 cylinders|   gas|   76732|   automatic|      4wd| mid-size|     SUV|        red|41.822120666503906|-71.35391235351562|      ri|\n",
      "|7305699171|providence.craigs...|15999|             2015|         kia|           optima ex|    excellent|4 cylinders|   gas|   78945|   automatic|      fwd| mid-size|   sedan|      white|41.822120666503906|-71.35391235351562|      ri|\n",
      "+----------+--------------------+-----+-----------------+------------+--------------------+-------------+-----------+------+--------+------------+---------+---------+--------+-----------+------------------+------------------+--------+\n",
      "only showing top 10 rows\n",
      "\n",
      "None\n",
      "+-----------+\n",
      "|paint_color|\n",
      "+-----------+\n",
      "|     orange|\n",
      "|       grey|\n",
      "|      green|\n",
      "|     silver|\n",
      "|      white|\n",
      "|        red|\n",
      "|unspecified|\n",
      "|      black|\n",
      "|      brown|\n",
      "|       blue|\n",
      "|     custom|\n",
      "|     yellow|\n",
      "|     purple|\n",
      "+-----------+\n",
      "\n",
      "None\n"
     ]
    }
   ],
   "source": [
    "# dataframe size\n",
    "print((cars.count(), len(cars.columns)))\n",
    "\n",
    "# scema (dtypes actually schema is df.shema)\n",
    "print(cars.dtypes)\n",
    "\n",
    "# show first 10\n",
    "print(cars.show(10))\n",
    "\n",
    "# select unique\n",
    "print(cars.select('paint_color').distinct().show())"
   ]
  },
  {
   "cell_type": "code",
   "execution_count": 15,
   "id": "4b2f0ef1-4fd9-47ef-8d2a-2d6eefebefcb",
   "metadata": {},
   "outputs": [],
   "source": [
    "# sort values by column (soooo slooow)\n",
    "# data.sort(data.manufactured_year.asc()).show(10)"
   ]
  },
  {
   "cell_type": "code",
   "execution_count": 16,
   "id": "d279866d-05d1-41f6-8f38-8c0b3cd2920e",
   "metadata": {},
   "outputs": [
    {
     "data": {
      "text/plain": [
       "[Row(model='cooper clubman'),\n",
       " Row(model='cooper countryman base'),\n",
       " Row(model='cooper countryman s all4awd'),\n",
       " Row(model='cooper s countryman'),\n",
       " Row(model='cooper s countryman all 4'),\n",
       " Row(model='cooper s hardtop'),\n",
       " Row(model='cooper s hatchback'),\n",
       " Row(model='cooper s jcw'),\n",
       " Row(model='cooper sport'),\n",
       " Row(model='coopers s countryman'),\n",
       " Row(model='hardtop cooper hatchback'),\n",
       " Row(model='john cooper works'),\n",
       " Row(model='clubman cooper hatchback'),\n",
       " Row(model='coooper s camden'),\n",
       " Row(model='cooper base 2dr hatchback'),\n",
       " Row(model='cooper country'),\n",
       " Row(model='cooper countryman all4'),\n",
       " Row(model='cooper hardtop'),\n",
       " Row(model='cooper hardtop 2dr'),\n",
       " Row(model='cooper mt convertible'),\n",
       " Row(model='cooper s paceman all4'),\n",
       " Row(model='cooper s.'),\n",
       " Row(model='cargo'),\n",
       " Row(model='cooper clubman jcw'),\n",
       " Row(model='cooper clubman s'),\n",
       " Row(model='cooper countryman'),\n",
       " Row(model='cooper countryman s'),\n",
       " Row(model='cooper hardtop s baywaters'),\n",
       " Row(model='cooper hatchback'),\n",
       " Row(model='cooper s clubman'),\n",
       " Row(model='cooper s turbo'),\n",
       " Row(model='countryman cooper s'),\n",
       " Row(model='countryman s all 4'),\n",
       " Row(model='moke'),\n",
       " Row(model='cooper'),\n",
       " Row(model='cooper 2dr coupe base'),\n",
       " Row(model='cooper 6 spd convertible'),\n",
       " Row(model='cooper convertible'),\n",
       " Row(model='cooper countryman s all4'),\n",
       " Row(model='cooper countryman s awd'),\n",
       " Row(model='cooper hardtop s'),\n",
       " Row(model='cooper paceman s'),\n",
       " Row(model='cooper roadster'),\n",
       " Row(model='cooper s'),\n",
       " Row(model='cooper s convertible'),\n",
       " Row(model='cooper s countryman all4'),\n",
       " Row(model='countryman'),\n",
       " Row(model='hardtop cooper s hatchback')]"
      ]
     },
     "execution_count": 16,
     "metadata": {},
     "output_type": "execute_result"
    }
   ],
   "source": [
    "# as we can see, our data is messed up (cooper s. == cooper s && countryman == cooper countryman && others...)\n",
    "cars.select('model').distinct().where(cars.manufacturer == 'mini').collect()  # this trend is the same for other manufacturers as well"
   ]
  },
  {
   "cell_type": "code",
   "execution_count": null,
   "id": "6f851ca2-9eeb-4ac7-b84c-6102c988af3d",
   "metadata": {},
   "outputs": [],
   "source": []
  },
  {
   "cell_type": "code",
   "execution_count": 17,
   "id": "7f5fd4b3-37f3-4c38-a8f0-c7ae94d7f531",
   "metadata": {},
   "outputs": [],
   "source": [
    "from pyspark.ml import Pipeline\n",
    "from pyspark.ml.feature import StringIndexer, OneHotEncoder, VectorAssembler\n",
    "from pyspark.sql.functions import col\n",
    "\n",
    "# determine columns to use\n",
    "drop_cols = ['entry_id', 'model', 'paint_color']  # model is too variable in general\n",
    "categorical_cols = ['region_url', 'manufacturer', 'car_condition', 'cylinders', 'fuel', 'transmission', 'car_drive', 'car_size', 'car_type', 'us_state']\n",
    "numerical_cols = ['manufactured_year', 'odometer']\n",
    "location_cols = ['latitude', 'longitude']\n",
    "\n",
    "# make indexer\n",
    "indexers = [\n",
    "    StringIndexer(\n",
    "        inputCol=c,\n",
    "        outputCol=\"{0}_indexed\".format(c)\n",
    "    ).setHandleInvalid(\"skip\")\n",
    "    for c in categorical_cols\n",
    "]\n",
    "\n",
    "# one hot encode categorical features\n",
    "one_hot = [\n",
    "    OneHotEncoder(\n",
    "        inputCol=indexer.getOutputCol(),\n",
    "        outputCol=\"{0}_encoded\".format(indexer.getOutputCol())) for indexer in indexers\n",
    "]\n",
    "\n",
    "\n",
    "# location transformer\n",
    "latlong_transformer = LatLongToXYZ(inputCols=location_cols, outputCols=['x', 'y', 'z'])\n",
    "\n",
    "# concatinate all encoded data\n",
    "assembler = VectorAssembler(\n",
    "    inputCols=[encoder.getOutputCol() for encoder in one_hot] \\\n",
    "            + numerical_cols \\\n",
    "            + ['x', 'y', 'z'],\n",
    "    outputCol=\"features\")"
   ]
  },
  {
   "cell_type": "code",
   "execution_count": 18,
   "id": "f7f0e744-2322-4741-a470-e2cd550735a4",
   "metadata": {},
   "outputs": [],
   "source": [
    "# make a full pipeline\n",
    "pipeline = Pipeline(stages=indexers + one_hot + [latlong_transformer, assembler])"
   ]
  },
  {
   "cell_type": "code",
   "execution_count": 19,
   "id": "2f0adea1-401d-4d8f-bc4a-aa50ad98f050",
   "metadata": {},
   "outputs": [],
   "source": [
    "# make final adjustements & process data\n",
    "cars = cars.dropna()\n",
    "\n",
    "data_preprocessor = pipeline.fit(cars)\n",
    "data = data_preprocessor.transform(cars).select('features', 'price')"
   ]
  },
  {
   "cell_type": "code",
   "execution_count": 20,
   "id": "bcc73e66-567f-4a5c-b723-f133d9dea4e7",
   "metadata": {},
   "outputs": [
    {
     "name": "stdout",
     "output_type": "stream",
     "text": [
      "+--------------------+-----+\n",
      "|            features|price|\n",
      "+--------------------+-----+\n",
      "|(542,[313,418,452...|  100|\n",
      "|(542,[313,433,453...| 6980|\n",
      "|(542,[313,420,453...| 4995|\n",
      "|(542,[151,419,452...|18950|\n",
      "|(542,[151,414,453...|34695|\n",
      "+--------------------+-----+\n",
      "only showing top 5 rows\n",
      "\n"
     ]
    }
   ],
   "source": [
    "data.show(5)"
   ]
  },
  {
   "cell_type": "code",
   "execution_count": 21,
   "id": "ff67623b-6911-4fef-ae4f-a8b6c95b4126",
   "metadata": {},
   "outputs": [
    {
     "data": {
      "text/plain": [
       "[Row(features=SparseVector(542, {122: 1.0, 414: 1.0, 453: 1.0, 458: 1.0, 464: 1.0, 468: 1.0, 471: 1.0, 474: 1.0, 482: 1.0, 532: 1.0, 537: 1995.0, 538: 199200.0, 539: 1231370.25, 540: 1007628.0625, 541: -6155782.5}))]"
      ]
     },
     "execution_count": 21,
     "metadata": {},
     "output_type": "execute_result"
    }
   ],
   "source": [
    "data.select('features').take(1)"
   ]
  },
  {
   "cell_type": "code",
   "execution_count": null,
   "id": "6f7aa4a5-7b12-4a3b-bf3a-34711e451be2",
   "metadata": {},
   "outputs": [],
   "source": []
  },
  {
   "cell_type": "code",
   "execution_count": 23,
   "id": "22e3c13f-ccd2-4348-98b7-0ce0d973b6f3",
   "metadata": {},
   "outputs": [
    {
     "name": "stderr",
     "output_type": "stream",
     "text": [
      "ERROR:root:KeyboardInterrupt while sending command.\n",
      "Traceback (most recent call last):\n",
      "  File \"/usr/local/lib/python3.6/site-packages/py4j/java_gateway.py\", line 1038, in send_command\n",
      "    response = connection.send_command(command)\n",
      "  File \"/usr/local/lib/python3.6/site-packages/py4j/clientserver.py\", line 511, in send_command\n",
      "    answer = smart_decode(self.stream.readline()[:-1])\n",
      "  File \"/usr/lib64/python3.6/socket.py\", line 586, in readinto\n",
      "    return self._sock.recv_into(b)\n",
      "KeyboardInterrupt\n"
     ]
    },
    {
     "ename": "KeyboardInterrupt",
     "evalue": "",
     "output_type": "error",
     "traceback": [
      "\u001b[0;31m---------------------------------------------------------------------------\u001b[0m",
      "\u001b[0;31mKeyboardInterrupt\u001b[0m                         Traceback (most recent call last)",
      "\u001b[0;32m<ipython-input-23-537af3bd78a3>\u001b[0m in \u001b[0;36m<module>\u001b[0;34m\u001b[0m\n\u001b[1;32m      9\u001b[0m \u001b[0;34m\u001b[0m\u001b[0m\n\u001b[1;32m     10\u001b[0m \u001b[0;31m# Display the output Spark DataFrame\u001b[0m\u001b[0;34m\u001b[0m\u001b[0;34m\u001b[0m\u001b[0;34m\u001b[0m\u001b[0m\n\u001b[0;32m---> 11\u001b[0;31m \u001b[0mtransformed\u001b[0m\u001b[0;34m.\u001b[0m\u001b[0mshow\u001b[0m\u001b[0;34m(\u001b[0m\u001b[0;34m)\u001b[0m\u001b[0;34m\u001b[0m\u001b[0;34m\u001b[0m\u001b[0m\n\u001b[0m",
      "\u001b[0;32m/usr/local/lib/python3.6/site-packages/pyspark/sql/dataframe.py\u001b[0m in \u001b[0;36mshow\u001b[0;34m(self, n, truncate, vertical)\u001b[0m\n\u001b[1;32m    492\u001b[0m \u001b[0;34m\u001b[0m\u001b[0m\n\u001b[1;32m    493\u001b[0m         \u001b[0;32mif\u001b[0m \u001b[0misinstance\u001b[0m\u001b[0;34m(\u001b[0m\u001b[0mtruncate\u001b[0m\u001b[0;34m,\u001b[0m \u001b[0mbool\u001b[0m\u001b[0;34m)\u001b[0m \u001b[0;32mand\u001b[0m \u001b[0mtruncate\u001b[0m\u001b[0;34m:\u001b[0m\u001b[0;34m\u001b[0m\u001b[0;34m\u001b[0m\u001b[0m\n\u001b[0;32m--> 494\u001b[0;31m             \u001b[0mprint\u001b[0m\u001b[0;34m(\u001b[0m\u001b[0mself\u001b[0m\u001b[0;34m.\u001b[0m\u001b[0m_jdf\u001b[0m\u001b[0;34m.\u001b[0m\u001b[0mshowString\u001b[0m\u001b[0;34m(\u001b[0m\u001b[0mn\u001b[0m\u001b[0;34m,\u001b[0m \u001b[0;36m20\u001b[0m\u001b[0;34m,\u001b[0m \u001b[0mvertical\u001b[0m\u001b[0;34m)\u001b[0m\u001b[0;34m)\u001b[0m\u001b[0;34m\u001b[0m\u001b[0;34m\u001b[0m\u001b[0m\n\u001b[0m\u001b[1;32m    495\u001b[0m         \u001b[0;32melse\u001b[0m\u001b[0;34m:\u001b[0m\u001b[0;34m\u001b[0m\u001b[0;34m\u001b[0m\u001b[0m\n\u001b[1;32m    496\u001b[0m             \u001b[0;32mtry\u001b[0m\u001b[0;34m:\u001b[0m\u001b[0;34m\u001b[0m\u001b[0;34m\u001b[0m\u001b[0m\n",
      "\u001b[0;32m/usr/local/lib/python3.6/site-packages/py4j/java_gateway.py\u001b[0m in \u001b[0;36m__call__\u001b[0;34m(self, *args)\u001b[0m\n\u001b[1;32m   1318\u001b[0m             \u001b[0mproto\u001b[0m\u001b[0;34m.\u001b[0m\u001b[0mEND_COMMAND_PART\u001b[0m\u001b[0;34m\u001b[0m\u001b[0;34m\u001b[0m\u001b[0m\n\u001b[1;32m   1319\u001b[0m \u001b[0;34m\u001b[0m\u001b[0m\n\u001b[0;32m-> 1320\u001b[0;31m         \u001b[0manswer\u001b[0m \u001b[0;34m=\u001b[0m \u001b[0mself\u001b[0m\u001b[0;34m.\u001b[0m\u001b[0mgateway_client\u001b[0m\u001b[0;34m.\u001b[0m\u001b[0msend_command\u001b[0m\u001b[0;34m(\u001b[0m\u001b[0mcommand\u001b[0m\u001b[0;34m)\u001b[0m\u001b[0;34m\u001b[0m\u001b[0;34m\u001b[0m\u001b[0m\n\u001b[0m\u001b[1;32m   1321\u001b[0m         return_value = get_return_value(\n\u001b[1;32m   1322\u001b[0m             answer, self.gateway_client, self.target_id, self.name)\n",
      "\u001b[0;32m/usr/local/lib/python3.6/site-packages/py4j/java_gateway.py\u001b[0m in \u001b[0;36msend_command\u001b[0;34m(self, command, retry, binary)\u001b[0m\n\u001b[1;32m   1036\u001b[0m         \u001b[0mconnection\u001b[0m \u001b[0;34m=\u001b[0m \u001b[0mself\u001b[0m\u001b[0;34m.\u001b[0m\u001b[0m_get_connection\u001b[0m\u001b[0;34m(\u001b[0m\u001b[0;34m)\u001b[0m\u001b[0;34m\u001b[0m\u001b[0;34m\u001b[0m\u001b[0m\n\u001b[1;32m   1037\u001b[0m         \u001b[0;32mtry\u001b[0m\u001b[0;34m:\u001b[0m\u001b[0;34m\u001b[0m\u001b[0;34m\u001b[0m\u001b[0m\n\u001b[0;32m-> 1038\u001b[0;31m             \u001b[0mresponse\u001b[0m \u001b[0;34m=\u001b[0m \u001b[0mconnection\u001b[0m\u001b[0;34m.\u001b[0m\u001b[0msend_command\u001b[0m\u001b[0;34m(\u001b[0m\u001b[0mcommand\u001b[0m\u001b[0;34m)\u001b[0m\u001b[0;34m\u001b[0m\u001b[0;34m\u001b[0m\u001b[0m\n\u001b[0m\u001b[1;32m   1039\u001b[0m             \u001b[0;32mif\u001b[0m \u001b[0mbinary\u001b[0m\u001b[0;34m:\u001b[0m\u001b[0;34m\u001b[0m\u001b[0;34m\u001b[0m\u001b[0m\n\u001b[1;32m   1040\u001b[0m                 \u001b[0;32mreturn\u001b[0m \u001b[0mresponse\u001b[0m\u001b[0;34m,\u001b[0m \u001b[0mself\u001b[0m\u001b[0;34m.\u001b[0m\u001b[0m_create_connection_guard\u001b[0m\u001b[0;34m(\u001b[0m\u001b[0mconnection\u001b[0m\u001b[0;34m)\u001b[0m\u001b[0;34m\u001b[0m\u001b[0;34m\u001b[0m\u001b[0m\n",
      "\u001b[0;32m/usr/local/lib/python3.6/site-packages/py4j/clientserver.py\u001b[0m in \u001b[0;36msend_command\u001b[0;34m(self, command)\u001b[0m\n\u001b[1;32m    509\u001b[0m         \u001b[0;32mtry\u001b[0m\u001b[0;34m:\u001b[0m\u001b[0;34m\u001b[0m\u001b[0;34m\u001b[0m\u001b[0m\n\u001b[1;32m    510\u001b[0m             \u001b[0;32mwhile\u001b[0m \u001b[0;32mTrue\u001b[0m\u001b[0;34m:\u001b[0m\u001b[0;34m\u001b[0m\u001b[0;34m\u001b[0m\u001b[0m\n\u001b[0;32m--> 511\u001b[0;31m                 \u001b[0manswer\u001b[0m \u001b[0;34m=\u001b[0m \u001b[0msmart_decode\u001b[0m\u001b[0;34m(\u001b[0m\u001b[0mself\u001b[0m\u001b[0;34m.\u001b[0m\u001b[0mstream\u001b[0m\u001b[0;34m.\u001b[0m\u001b[0mreadline\u001b[0m\u001b[0;34m(\u001b[0m\u001b[0;34m)\u001b[0m\u001b[0;34m[\u001b[0m\u001b[0;34m:\u001b[0m\u001b[0;34m-\u001b[0m\u001b[0;36m1\u001b[0m\u001b[0;34m]\u001b[0m\u001b[0;34m)\u001b[0m\u001b[0;34m\u001b[0m\u001b[0;34m\u001b[0m\u001b[0m\n\u001b[0m\u001b[1;32m    512\u001b[0m                 \u001b[0mlogger\u001b[0m\u001b[0;34m.\u001b[0m\u001b[0mdebug\u001b[0m\u001b[0;34m(\u001b[0m\u001b[0;34m\"Answer received: {0}\"\u001b[0m\u001b[0;34m.\u001b[0m\u001b[0mformat\u001b[0m\u001b[0;34m(\u001b[0m\u001b[0manswer\u001b[0m\u001b[0;34m)\u001b[0m\u001b[0;34m)\u001b[0m\u001b[0;34m\u001b[0m\u001b[0;34m\u001b[0m\u001b[0m\n\u001b[1;32m    513\u001b[0m                 \u001b[0;31m# Happens when a the other end is dead. There might be an empty\u001b[0m\u001b[0;34m\u001b[0m\u001b[0;34m\u001b[0m\u001b[0;34m\u001b[0m\u001b[0m\n",
      "\u001b[0;32m/usr/lib64/python3.6/socket.py\u001b[0m in \u001b[0;36mreadinto\u001b[0;34m(self, b)\u001b[0m\n\u001b[1;32m    584\u001b[0m         \u001b[0;32mwhile\u001b[0m \u001b[0;32mTrue\u001b[0m\u001b[0;34m:\u001b[0m\u001b[0;34m\u001b[0m\u001b[0;34m\u001b[0m\u001b[0m\n\u001b[1;32m    585\u001b[0m             \u001b[0;32mtry\u001b[0m\u001b[0;34m:\u001b[0m\u001b[0;34m\u001b[0m\u001b[0;34m\u001b[0m\u001b[0m\n\u001b[0;32m--> 586\u001b[0;31m                 \u001b[0;32mreturn\u001b[0m \u001b[0mself\u001b[0m\u001b[0;34m.\u001b[0m\u001b[0m_sock\u001b[0m\u001b[0;34m.\u001b[0m\u001b[0mrecv_into\u001b[0m\u001b[0;34m(\u001b[0m\u001b[0mb\u001b[0m\u001b[0;34m)\u001b[0m\u001b[0;34m\u001b[0m\u001b[0;34m\u001b[0m\u001b[0m\n\u001b[0m\u001b[1;32m    587\u001b[0m             \u001b[0;32mexcept\u001b[0m \u001b[0mtimeout\u001b[0m\u001b[0;34m:\u001b[0m\u001b[0;34m\u001b[0m\u001b[0;34m\u001b[0m\u001b[0m\n\u001b[1;32m    588\u001b[0m                 \u001b[0mself\u001b[0m\u001b[0;34m.\u001b[0m\u001b[0m_timeout_occurred\u001b[0m \u001b[0;34m=\u001b[0m \u001b[0;32mTrue\u001b[0m\u001b[0;34m\u001b[0m\u001b[0;34m\u001b[0m\u001b[0m\n",
      "\u001b[0;31mKeyboardInterrupt\u001b[0m: "
     ]
    }
   ],
   "source": [
    "from pyspark.ml.regression import LinearRegression\n",
    "from pyspark.ml.feature import VectorIndexer\n",
    "from pyspark.ml.evaluation import RegressionEvaluator\n",
    "\n",
    "\n",
    "# select non-categorical features & transform them\n",
    "feature_indexer = VectorIndexer(inputCol=\"features\", outputCol=\"indexedFeatures\", maxCategories=4).fit(data.limit(100))\n",
    "transformed = feature_indexer.transform(data.limit(100))\n",
    "\n",
    "# Display the output Spark DataFrame\n",
    "transformed.show()"
   ]
  },
  {
   "cell_type": "code",
   "execution_count": null,
   "id": "e5325774-d7b7-461f-97ce-b1926415ff5e",
   "metadata": {},
   "outputs": [],
   "source": [
    "(train_data, test_data) = transformed.randomSplit([0.8, 0.2])"
   ]
  },
  {
   "cell_type": "code",
   "execution_count": null,
   "id": "5517d9db-b41e-4078-8e14-99c54ac9e07e",
   "metadata": {},
   "outputs": [],
   "source": [
    "test_data.show()"
   ]
  },
  {
   "cell_type": "code",
   "execution_count": null,
   "id": "3138b9d1-c4b1-44c7-9cdc-460855fb062d",
   "metadata": {},
   "outputs": [],
   "source": [
    "# Create Linear Regression Model & final pipeline\n",
    "lr = LinearRegression(labelCol=\"price\")\n",
    "\n",
    "pipeline = Pipeline(stages=[feature_indexer, lr])"
   ]
  },
  {
   "cell_type": "code",
   "execution_count": null,
   "id": "62bc4782-3884-4629-9a0b-6dddaf72f1b1",
   "metadata": {},
   "outputs": [],
   "source": [
    "# train model\n",
    "model = pipeline.fit(train_data)\n",
    "\n",
    "# make predictions\n",
    "predictions = model.transform(test_data)\n",
    "\n",
    "# show predictions\n",
    "predictions.show()"
   ]
  },
  {
   "cell_type": "code",
   "execution_count": null,
   "id": "0bff9f88-8458-4bdc-90d0-fb7693f23a7a",
   "metadata": {},
   "outputs": [],
   "source": [
    "from pyspark.ml.evaluation import RegressionEvaluator \n",
    "\n",
    "# Evaluate the performance of the model\n",
    "evaluator = RegressionEvaluator(labelCol=\"price\", predictionCol=\"prediction\", metricName=\"rmse\")\n",
    "rmse = evaluator.evaluate(predictions)\n",
    "print(\"Root Mean Squared Error (RMSE) on test data = {}\".format(rmse))"
   ]
  },
  {
   "cell_type": "code",
   "execution_count": null,
   "id": "3f318bef-14ed-4d2c-9f11-1a660ecdca07",
   "metadata": {},
   "outputs": [],
   "source": []
  },
  {
   "cell_type": "code",
   "execution_count": 25,
   "id": "c97d7635-50b1-4cea-87a6-9fb2466dc930",
   "metadata": {},
   "outputs": [
    {
     "data": {
      "text/plain": [
       "'3.2.4'"
      ]
     },
     "execution_count": 25,
     "metadata": {},
     "output_type": "execute_result"
    }
   ],
   "source": [
    "import pyspark\n",
    "pyspark.__version__"
   ]
  },
  {
   "cell_type": "code",
   "execution_count": null,
   "id": "5c72d3ea-7cdd-4f9d-be18-dd225d2fb717",
   "metadata": {},
   "outputs": [],
   "source": []
  }
 ],
 "metadata": {
  "kernelspec": {
   "display_name": "Python 3",
   "language": "python",
   "name": "python3"
  },
  "language_info": {
   "codemirror_mode": {
    "name": "ipython",
    "version": 3
   },
   "file_extension": ".py",
   "mimetype": "text/x-python",
   "name": "python",
   "nbconvert_exporter": "python",
   "pygments_lexer": "ipython3",
   "version": "3.6.8"
  }
 },
 "nbformat": 4,
 "nbformat_minor": 5
}
